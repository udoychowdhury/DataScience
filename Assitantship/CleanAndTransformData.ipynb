{
 "cells": [
  {
   "cell_type": "code",
   "execution_count": 1,
   "id": "34d008b6",
   "metadata": {},
   "outputs": [],
   "source": [
    "# Import libraries\n",
    "import pandas as pd\n",
    "import numpy as np  \n",
    "\n",
    "# Remove display restrictions\n",
    "pd.set_option('display.max_columns', None)  \n",
    "pd.set_option('display.width', None) "
   ]
  },
  {
   "cell_type": "code",
   "execution_count": 2,
   "id": "030034bf",
   "metadata": {},
   "outputs": [],
   "source": [
    "# File path for file\n",
    "file_path = 'Conditionally Admitted Students.xlsx'  \n",
    "# Read the Excel file\n",
    "df = pd.read_excel(file_path, sheet_name='Conditional Admits')"
   ]
  },
  {
   "cell_type": "code",
   "execution_count": 3,
   "id": "dfe85a15",
   "metadata": {},
   "outputs": [
    {
     "name": "stdout",
     "output_type": "stream",
     "text": [
      "Distinct (State, County) Pairs:\n",
      "(nan, Out of State)\n",
      "(NJ, Ocean)\n",
      "(NJ, Gloucester)\n",
      "(NJ, Burlington)\n",
      "(NJ, Middlesex)\n",
      "(NJ, Atlantic)\n",
      "(NJ, Camden)\n",
      "(NJ, Monmouth)\n",
      "(nan, nan)\n",
      "(NJ, Bergen)\n",
      "(NJ, Cape May)\n",
      "(NJ, Cumberland)\n",
      "(NJ, Sussex)\n",
      "(NJ, Essex)\n",
      "(DE, Out of State)\n",
      "(NJ, Mercer)\n",
      "(NJ, Hudson)\n",
      "(NJ, Union)\n",
      "(NJ, Salem)\n",
      "(NJ, Somerset)\n",
      "(CT, Out of State)\n",
      "(NJ, Morris)\n",
      "(NY, Out of State)\n",
      "(PA, Out of State)\n",
      "(NJ, Passaic)\n",
      "(NJ, Warren)\n",
      "(NJ, Hunterdon)\n"
     ]
    }
   ],
   "source": [
    "# Get distinct pairs of (HS_STATE, HS_COUNTY)\n",
    "distinct_pairs = df[['HS_STATE', 'HS_COUNTY']].drop_duplicates()\n",
    "\n",
    "print(\"Distinct (State, County) Pairs:\")\n",
    "for index, row in distinct_pairs.iterrows():\n",
    "    state, county = row['HS_STATE'], row['HS_COUNTY']\n",
    "    print(f\"({state}, {county})\")"
   ]
  },
  {
   "cell_type": "code",
   "execution_count": 24,
   "id": "37964a8c",
   "metadata": {},
   "outputs": [
    {
     "data": {
      "text/html": [
       "<div>\n",
       "<style scoped>\n",
       "    .dataframe tbody tr th:only-of-type {\n",
       "        vertical-align: middle;\n",
       "    }\n",
       "\n",
       "    .dataframe tbody tr th {\n",
       "        vertical-align: top;\n",
       "    }\n",
       "\n",
       "    .dataframe thead th {\n",
       "        text-align: right;\n",
       "    }\n",
       "</style>\n",
       "<table border=\"1\" class=\"dataframe\">\n",
       "  <thead>\n",
       "    <tr style=\"text-align: right;\">\n",
       "      <th></th>\n",
       "      <th>ID</th>\n",
       "      <th>SPRADDR_CNTY_CODE</th>\n",
       "      <th>SARADAP_STYP_CODE_2</th>\n",
       "      <th>SPRADDR_STAT_CODE</th>\n",
       "      <th>SARADAP_ADMT_CODE</th>\n",
       "      <th>ETHNICITY</th>\n",
       "      <th>SARAPPD_APDC_CODE</th>\n",
       "      <th>SARAPPD_APDC_DATE</th>\n",
       "      <th>SARADAP_MAJR_CODE_1</th>\n",
       "      <th>SARADAP_PROGRAM_1</th>\n",
       "      <th>SARADAP_MAJR_CODE_CONC_1</th>\n",
       "      <th>AGE</th>\n",
       "      <th>HS_NAME</th>\n",
       "      <th>HS_CITY</th>\n",
       "      <th>HS_STATE</th>\n",
       "      <th>HS_COUNTY</th>\n",
       "      <th>HS_LAT</th>\n",
       "      <th>HS_LONG</th>\n",
       "      <th>SPBPERS_SEX</th>\n",
       "      <th>SAT_MATH</th>\n",
       "      <th>SAT_ERBW</th>\n",
       "      <th>SAT_TOTAL</th>\n",
       "      <th>ACT_COMPOSITE</th>\n",
       "      <th>COL_DESC</th>\n",
       "      <th>COL_STATE</th>\n",
       "      <th>DCHS_IND</th>\n",
       "      <th>REC_TEST_PLAN</th>\n",
       "      <th>HOUSING_INTEREST</th>\n",
       "      <th>FIRST_GEN_IND</th>\n",
       "      <th>PCKG_GROUP_IND</th>\n",
       "      <th>HOUS_DEP_PAID</th>\n",
       "      <th>FAFSA_IND</th>\n",
       "      <th>REC_EOF_LOCATION</th>\n",
       "      <th>REC_COUNTRY_OF_ORIG</th>\n",
       "      <th>REC_COMPLETED_DATE</th>\n",
       "    </tr>\n",
       "  </thead>\n",
       "  <tbody>\n",
       "    <tr>\n",
       "      <th>0</th>\n",
       "      <td>132318</td>\n",
       "      <td>1</td>\n",
       "      <td>F</td>\n",
       "      <td>NJ</td>\n",
       "      <td>FX</td>\n",
       "      <td>Non-Resident</td>\n",
       "      <td>IE</td>\n",
       "      <td>2022-04-20</td>\n",
       "      <td>CSCI</td>\n",
       "      <td>CSCI</td>\n",
       "      <td>COND</td>\n",
       "      <td>21</td>\n",
       "      <td>MC College</td>\n",
       "      <td>Sylhet</td>\n",
       "      <td>NaN</td>\n",
       "      <td>Out of State</td>\n",
       "      <td>NaN</td>\n",
       "      <td>NaN</td>\n",
       "      <td>M</td>\n",
       "      <td>NaN</td>\n",
       "      <td>NaN</td>\n",
       "      <td>0</td>\n",
       "      <td>NaN</td>\n",
       "      <td>NaN</td>\n",
       "      <td>NaN</td>\n",
       "      <td>NaN</td>\n",
       "      <td>I will NOT submit SAT or ACT scores</td>\n",
       "      <td>HO</td>\n",
       "      <td>FGNN: Graduated from college: Bachelors degree</td>\n",
       "      <td>NaN</td>\n",
       "      <td>Y</td>\n",
       "      <td>N</td>\n",
       "      <td>NaN</td>\n",
       "      <td>Bangladesh</td>\n",
       "      <td>2022-03-23</td>\n",
       "    </tr>\n",
       "    <tr>\n",
       "      <th>1</th>\n",
       "      <td>132296</td>\n",
       "      <td>99</td>\n",
       "      <td>F</td>\n",
       "      <td>NaN</td>\n",
       "      <td>FX</td>\n",
       "      <td>Non-Resident</td>\n",
       "      <td>IE</td>\n",
       "      <td>2022-04-21</td>\n",
       "      <td>CSCI</td>\n",
       "      <td>CSCI</td>\n",
       "      <td>COND</td>\n",
       "      <td>18</td>\n",
       "      <td>Milestone College</td>\n",
       "      <td>Dhaka</td>\n",
       "      <td>NaN</td>\n",
       "      <td>Out of State</td>\n",
       "      <td>NaN</td>\n",
       "      <td>NaN</td>\n",
       "      <td>M</td>\n",
       "      <td>NaN</td>\n",
       "      <td>NaN</td>\n",
       "      <td>0</td>\n",
       "      <td>NaN</td>\n",
       "      <td>NaN</td>\n",
       "      <td>NaN</td>\n",
       "      <td>NaN</td>\n",
       "      <td>I will NOT submit SAT or ACT scores</td>\n",
       "      <td>HO</td>\n",
       "      <td>FGNN: Graduated from college: Bachelors degree</td>\n",
       "      <td>NaN</td>\n",
       "      <td>Y</td>\n",
       "      <td>N</td>\n",
       "      <td>NaN</td>\n",
       "      <td>Bangladesh</td>\n",
       "      <td>2022-03-21</td>\n",
       "    </tr>\n",
       "    <tr>\n",
       "      <th>2</th>\n",
       "      <td>131801</td>\n",
       "      <td>29</td>\n",
       "      <td>F</td>\n",
       "      <td>NJ</td>\n",
       "      <td>FR</td>\n",
       "      <td>Native Hawaiian or other Pacific Islander</td>\n",
       "      <td>IE</td>\n",
       "      <td>2022-04-23</td>\n",
       "      <td>BIOL</td>\n",
       "      <td>BIOL-BS</td>\n",
       "      <td>COND</td>\n",
       "      <td>18</td>\n",
       "      <td>BRICK TOWNSHIP HIGH SCHOOL</td>\n",
       "      <td>BRICKTOWN</td>\n",
       "      <td>NJ</td>\n",
       "      <td>Ocean</td>\n",
       "      <td>39.8359</td>\n",
       "      <td>-74.2029</td>\n",
       "      <td>M</td>\n",
       "      <td>NaN</td>\n",
       "      <td>NaN</td>\n",
       "      <td>0</td>\n",
       "      <td>NaN</td>\n",
       "      <td>OCEAN COUNTY COLLEGE</td>\n",
       "      <td>NJ</td>\n",
       "      <td>NaN</td>\n",
       "      <td>I will NOT submit SAT or ACT scores</td>\n",
       "      <td>HO</td>\n",
       "      <td>NaN</td>\n",
       "      <td>UGONN</td>\n",
       "      <td>Y</td>\n",
       "      <td>Y</td>\n",
       "      <td>NaN</td>\n",
       "      <td>NaN</td>\n",
       "      <td>2022-02-21</td>\n",
       "    </tr>\n",
       "    <tr>\n",
       "      <th>3</th>\n",
       "      <td>130864</td>\n",
       "      <td>29</td>\n",
       "      <td>F</td>\n",
       "      <td>NJ</td>\n",
       "      <td>FI</td>\n",
       "      <td>Non-Resident</td>\n",
       "      <td>IE</td>\n",
       "      <td>2022-03-25</td>\n",
       "      <td>BIOL</td>\n",
       "      <td>BIOL-BS</td>\n",
       "      <td>COND</td>\n",
       "      <td>19</td>\n",
       "      <td>SOUTHERN REGIONAL HIGH SCHOOL</td>\n",
       "      <td>MANAHAWKIN</td>\n",
       "      <td>NJ</td>\n",
       "      <td>Ocean</td>\n",
       "      <td>39.8359</td>\n",
       "      <td>-74.2029</td>\n",
       "      <td>F</td>\n",
       "      <td>NaN</td>\n",
       "      <td>NaN</td>\n",
       "      <td>0</td>\n",
       "      <td>NaN</td>\n",
       "      <td>NaN</td>\n",
       "      <td>NaN</td>\n",
       "      <td>NaN</td>\n",
       "      <td>I will submit SAT or ACT scores</td>\n",
       "      <td>N</td>\n",
       "      <td>FGNN: Graduate school</td>\n",
       "      <td>NaN</td>\n",
       "      <td>N</td>\n",
       "      <td>N</td>\n",
       "      <td>NaN</td>\n",
       "      <td>Sierra Leone</td>\n",
       "      <td>2021-10-22</td>\n",
       "    </tr>\n",
       "    <tr>\n",
       "      <th>4</th>\n",
       "      <td>132778</td>\n",
       "      <td>15</td>\n",
       "      <td>F</td>\n",
       "      <td>NJ</td>\n",
       "      <td>FR</td>\n",
       "      <td>Caucasian or White</td>\n",
       "      <td>IE</td>\n",
       "      <td>2022-08-30</td>\n",
       "      <td>HLSC</td>\n",
       "      <td>HLTH-BS</td>\n",
       "      <td>COND</td>\n",
       "      <td>18</td>\n",
       "      <td>DELSEA REGIONAL HIGH SCHOOL</td>\n",
       "      <td>FRANKLINVILLE</td>\n",
       "      <td>NJ</td>\n",
       "      <td>Gloucester</td>\n",
       "      <td>39.7067</td>\n",
       "      <td>-75.1299</td>\n",
       "      <td>F</td>\n",
       "      <td>NaN</td>\n",
       "      <td>NaN</td>\n",
       "      <td>0</td>\n",
       "      <td>NaN</td>\n",
       "      <td>NaN</td>\n",
       "      <td>NaN</td>\n",
       "      <td>NaN</td>\n",
       "      <td>I will NOT submit SAT or ACT scores</td>\n",
       "      <td>HO</td>\n",
       "      <td>FGNN: Graduated from college: Bachelors degree</td>\n",
       "      <td>UGOFFN</td>\n",
       "      <td>N</td>\n",
       "      <td>Y</td>\n",
       "      <td>NaN</td>\n",
       "      <td>NaN</td>\n",
       "      <td>2022-08-17</td>\n",
       "    </tr>\n",
       "    <tr>\n",
       "      <th>...</th>\n",
       "      <td>...</td>\n",
       "      <td>...</td>\n",
       "      <td>...</td>\n",
       "      <td>...</td>\n",
       "      <td>...</td>\n",
       "      <td>...</td>\n",
       "      <td>...</td>\n",
       "      <td>...</td>\n",
       "      <td>...</td>\n",
       "      <td>...</td>\n",
       "      <td>...</td>\n",
       "      <td>...</td>\n",
       "      <td>...</td>\n",
       "      <td>...</td>\n",
       "      <td>...</td>\n",
       "      <td>...</td>\n",
       "      <td>...</td>\n",
       "      <td>...</td>\n",
       "      <td>...</td>\n",
       "      <td>...</td>\n",
       "      <td>...</td>\n",
       "      <td>...</td>\n",
       "      <td>...</td>\n",
       "      <td>...</td>\n",
       "      <td>...</td>\n",
       "      <td>...</td>\n",
       "      <td>...</td>\n",
       "      <td>...</td>\n",
       "      <td>...</td>\n",
       "      <td>...</td>\n",
       "      <td>...</td>\n",
       "      <td>...</td>\n",
       "      <td>...</td>\n",
       "      <td>...</td>\n",
       "      <td>...</td>\n",
       "    </tr>\n",
       "    <tr>\n",
       "      <th>370</th>\n",
       "      <td>124114</td>\n",
       "      <td>1</td>\n",
       "      <td>F</td>\n",
       "      <td>NJ</td>\n",
       "      <td>FR</td>\n",
       "      <td>More Than 1 Race</td>\n",
       "      <td>IE</td>\n",
       "      <td>2022-08-08</td>\n",
       "      <td>CSCI</td>\n",
       "      <td>CSCI</td>\n",
       "      <td>COND</td>\n",
       "      <td>25</td>\n",
       "      <td>ATLANTIC COUNTY INST OF TECH</td>\n",
       "      <td>MAYS LANDING</td>\n",
       "      <td>NJ</td>\n",
       "      <td>Atlantic</td>\n",
       "      <td>39.4704</td>\n",
       "      <td>-74.4522</td>\n",
       "      <td>M</td>\n",
       "      <td>NaN</td>\n",
       "      <td>NaN</td>\n",
       "      <td>0</td>\n",
       "      <td>NaN</td>\n",
       "      <td>NaN</td>\n",
       "      <td>NaN</td>\n",
       "      <td>NaN</td>\n",
       "      <td>I will NOT submit SAT or ACT scores</td>\n",
       "      <td>N</td>\n",
       "      <td>FGNY: High School diploma or GED</td>\n",
       "      <td>UGWPN</td>\n",
       "      <td>N</td>\n",
       "      <td>Y</td>\n",
       "      <td>NaN</td>\n",
       "      <td>NaN</td>\n",
       "      <td>2022-07-29</td>\n",
       "    </tr>\n",
       "    <tr>\n",
       "      <th>371</th>\n",
       "      <td>132815</td>\n",
       "      <td>13</td>\n",
       "      <td>F</td>\n",
       "      <td>NJ</td>\n",
       "      <td>FR</td>\n",
       "      <td>Black or African American</td>\n",
       "      <td>IE</td>\n",
       "      <td>2022-05-01</td>\n",
       "      <td>HLSC</td>\n",
       "      <td>HLTH-BS</td>\n",
       "      <td>COND</td>\n",
       "      <td>18</td>\n",
       "      <td>NORTH STAR ACADEMY CHARTER</td>\n",
       "      <td>NEWARK</td>\n",
       "      <td>NJ</td>\n",
       "      <td>Essex</td>\n",
       "      <td>40.7879</td>\n",
       "      <td>-74.3687</td>\n",
       "      <td>F</td>\n",
       "      <td>540.0</td>\n",
       "      <td>510.0</td>\n",
       "      <td>1050</td>\n",
       "      <td>NaN</td>\n",
       "      <td>NaN</td>\n",
       "      <td>NaN</td>\n",
       "      <td>NaN</td>\n",
       "      <td>I will NOT submit SAT or ACT scores</td>\n",
       "      <td>HO</td>\n",
       "      <td>NaN</td>\n",
       "      <td>UGONN</td>\n",
       "      <td>N</td>\n",
       "      <td>Y</td>\n",
       "      <td>NaN</td>\n",
       "      <td>NaN</td>\n",
       "      <td>2021-12-22</td>\n",
       "    </tr>\n",
       "    <tr>\n",
       "      <th>372</th>\n",
       "      <td>132463</td>\n",
       "      <td>1</td>\n",
       "      <td>F</td>\n",
       "      <td>NJ</td>\n",
       "      <td>FR</td>\n",
       "      <td>Hispanic or Latino</td>\n",
       "      <td>IE</td>\n",
       "      <td>2022-06-07</td>\n",
       "      <td>HLSC</td>\n",
       "      <td>HLTH-BS</td>\n",
       "      <td>COND</td>\n",
       "      <td>19</td>\n",
       "      <td>EGG HARBOR TOWNSHIP HS</td>\n",
       "      <td>EGG HARBOR TOWNSHIP</td>\n",
       "      <td>NJ</td>\n",
       "      <td>Atlantic</td>\n",
       "      <td>39.4704</td>\n",
       "      <td>-74.4522</td>\n",
       "      <td>F</td>\n",
       "      <td>NaN</td>\n",
       "      <td>NaN</td>\n",
       "      <td>0</td>\n",
       "      <td>NaN</td>\n",
       "      <td>NaN</td>\n",
       "      <td>NaN</td>\n",
       "      <td>NaN</td>\n",
       "      <td>I will NOT submit SAT or ACT scores</td>\n",
       "      <td>HO</td>\n",
       "      <td>FGNY: Some college</td>\n",
       "      <td>REJISR</td>\n",
       "      <td>N</td>\n",
       "      <td>Y</td>\n",
       "      <td>NaN</td>\n",
       "      <td>NaN</td>\n",
       "      <td>2022-04-25</td>\n",
       "    </tr>\n",
       "    <tr>\n",
       "      <th>373</th>\n",
       "      <td>132421</td>\n",
       "      <td>1</td>\n",
       "      <td>F</td>\n",
       "      <td>NJ</td>\n",
       "      <td>FR</td>\n",
       "      <td>Caucasian or White</td>\n",
       "      <td>IE</td>\n",
       "      <td>2022-05-03</td>\n",
       "      <td>HLSC</td>\n",
       "      <td>HLTH-BS</td>\n",
       "      <td>COND</td>\n",
       "      <td>18</td>\n",
       "      <td>NaN</td>\n",
       "      <td>NaN</td>\n",
       "      <td>NaN</td>\n",
       "      <td>NaN</td>\n",
       "      <td>NaN</td>\n",
       "      <td>NaN</td>\n",
       "      <td>F</td>\n",
       "      <td>NaN</td>\n",
       "      <td>NaN</td>\n",
       "      <td>0</td>\n",
       "      <td>17.0</td>\n",
       "      <td>NaN</td>\n",
       "      <td>NaN</td>\n",
       "      <td>NaN</td>\n",
       "      <td>I will submit SAT or ACT scores</td>\n",
       "      <td>N</td>\n",
       "      <td>FGNY: Some college</td>\n",
       "      <td>UGWPN</td>\n",
       "      <td>N</td>\n",
       "      <td>Y</td>\n",
       "      <td>NaN</td>\n",
       "      <td>NaN</td>\n",
       "      <td>2022-04-13</td>\n",
       "    </tr>\n",
       "    <tr>\n",
       "      <th>374</th>\n",
       "      <td>131953</td>\n",
       "      <td>7</td>\n",
       "      <td>F</td>\n",
       "      <td>NJ</td>\n",
       "      <td>FR</td>\n",
       "      <td>Caucasian or White</td>\n",
       "      <td>IE</td>\n",
       "      <td>2022-05-01</td>\n",
       "      <td>MARS</td>\n",
       "      <td>MARS-BA</td>\n",
       "      <td>COND</td>\n",
       "      <td>18</td>\n",
       "      <td>BISHOP EUTACE PREP SCHOOL</td>\n",
       "      <td>PENNSAUKEN</td>\n",
       "      <td>NJ</td>\n",
       "      <td>Camden</td>\n",
       "      <td>39.9259</td>\n",
       "      <td>-75.1196</td>\n",
       "      <td>F</td>\n",
       "      <td>NaN</td>\n",
       "      <td>NaN</td>\n",
       "      <td>0</td>\n",
       "      <td>NaN</td>\n",
       "      <td>NaN</td>\n",
       "      <td>NaN</td>\n",
       "      <td>NaN</td>\n",
       "      <td>I will NOT submit SAT or ACT scores</td>\n",
       "      <td>N</td>\n",
       "      <td>NaN</td>\n",
       "      <td>UGONN</td>\n",
       "      <td>Y</td>\n",
       "      <td>Y</td>\n",
       "      <td>NaN</td>\n",
       "      <td>NaN</td>\n",
       "      <td>2022-02-11</td>\n",
       "    </tr>\n",
       "  </tbody>\n",
       "</table>\n",
       "<p>375 rows × 35 columns</p>\n",
       "</div>"
      ],
      "text/plain": [
       "         ID  SPRADDR_CNTY_CODE SARADAP_STYP_CODE_2 SPRADDR_STAT_CODE  \\\n",
       "0    132318                  1                   F                NJ   \n",
       "1    132296                 99                   F               NaN   \n",
       "2    131801                 29                   F                NJ   \n",
       "3    130864                 29                   F                NJ   \n",
       "4    132778                 15                   F                NJ   \n",
       "..      ...                ...                 ...               ...   \n",
       "370  124114                  1                   F                NJ   \n",
       "371  132815                 13                   F                NJ   \n",
       "372  132463                  1                   F                NJ   \n",
       "373  132421                  1                   F                NJ   \n",
       "374  131953                  7                   F                NJ   \n",
       "\n",
       "    SARADAP_ADMT_CODE                                  ETHNICITY  \\\n",
       "0                  FX                               Non-Resident   \n",
       "1                  FX                               Non-Resident   \n",
       "2                  FR  Native Hawaiian or other Pacific Islander   \n",
       "3                  FI                               Non-Resident   \n",
       "4                  FR                         Caucasian or White   \n",
       "..                ...                                        ...   \n",
       "370                FR                           More Than 1 Race   \n",
       "371                FR                  Black or African American   \n",
       "372                FR                         Hispanic or Latino   \n",
       "373                FR                         Caucasian or White   \n",
       "374                FR                         Caucasian or White   \n",
       "\n",
       "    SARAPPD_APDC_CODE SARAPPD_APDC_DATE SARADAP_MAJR_CODE_1 SARADAP_PROGRAM_1  \\\n",
       "0                  IE        2022-04-20                CSCI              CSCI   \n",
       "1                  IE        2022-04-21                CSCI              CSCI   \n",
       "2                  IE        2022-04-23                BIOL           BIOL-BS   \n",
       "3                  IE        2022-03-25                BIOL           BIOL-BS   \n",
       "4                  IE        2022-08-30                HLSC           HLTH-BS   \n",
       "..                ...               ...                 ...               ...   \n",
       "370                IE        2022-08-08                CSCI              CSCI   \n",
       "371                IE        2022-05-01                HLSC           HLTH-BS   \n",
       "372                IE        2022-06-07                HLSC           HLTH-BS   \n",
       "373                IE        2022-05-03                HLSC           HLTH-BS   \n",
       "374                IE        2022-05-01                MARS           MARS-BA   \n",
       "\n",
       "    SARADAP_MAJR_CODE_CONC_1  AGE                        HS_NAME  \\\n",
       "0                       COND   21                     MC College   \n",
       "1                       COND   18              Milestone College   \n",
       "2                       COND   18     BRICK TOWNSHIP HIGH SCHOOL   \n",
       "3                       COND   19  SOUTHERN REGIONAL HIGH SCHOOL   \n",
       "4                       COND   18    DELSEA REGIONAL HIGH SCHOOL   \n",
       "..                       ...  ...                            ...   \n",
       "370                     COND   25   ATLANTIC COUNTY INST OF TECH   \n",
       "371                     COND   18     NORTH STAR ACADEMY CHARTER   \n",
       "372                     COND   19         EGG HARBOR TOWNSHIP HS   \n",
       "373                     COND   18                            NaN   \n",
       "374                     COND   18      BISHOP EUTACE PREP SCHOOL   \n",
       "\n",
       "                 HS_CITY HS_STATE     HS_COUNTY   HS_LAT  HS_LONG SPBPERS_SEX  \\\n",
       "0                 Sylhet      NaN  Out of State      NaN      NaN           M   \n",
       "1                  Dhaka      NaN  Out of State      NaN      NaN           M   \n",
       "2              BRICKTOWN       NJ         Ocean  39.8359 -74.2029           M   \n",
       "3             MANAHAWKIN       NJ         Ocean  39.8359 -74.2029           F   \n",
       "4          FRANKLINVILLE       NJ    Gloucester  39.7067 -75.1299           F   \n",
       "..                   ...      ...           ...      ...      ...         ...   \n",
       "370         MAYS LANDING       NJ      Atlantic  39.4704 -74.4522           M   \n",
       "371               NEWARK       NJ         Essex  40.7879 -74.3687           F   \n",
       "372  EGG HARBOR TOWNSHIP       NJ      Atlantic  39.4704 -74.4522           F   \n",
       "373                  NaN      NaN           NaN      NaN      NaN           F   \n",
       "374           PENNSAUKEN       NJ        Camden  39.9259 -75.1196           F   \n",
       "\n",
       "     SAT_MATH  SAT_ERBW  SAT_TOTAL  ACT_COMPOSITE              COL_DESC  \\\n",
       "0         NaN       NaN          0            NaN                   NaN   \n",
       "1         NaN       NaN          0            NaN                   NaN   \n",
       "2         NaN       NaN          0            NaN  OCEAN COUNTY COLLEGE   \n",
       "3         NaN       NaN          0            NaN                   NaN   \n",
       "4         NaN       NaN          0            NaN                   NaN   \n",
       "..        ...       ...        ...            ...                   ...   \n",
       "370       NaN       NaN          0            NaN                   NaN   \n",
       "371     540.0     510.0       1050            NaN                   NaN   \n",
       "372       NaN       NaN          0            NaN                   NaN   \n",
       "373       NaN       NaN          0           17.0                   NaN   \n",
       "374       NaN       NaN          0            NaN                   NaN   \n",
       "\n",
       "    COL_STATE DCHS_IND                        REC_TEST_PLAN HOUSING_INTEREST  \\\n",
       "0         NaN      NaN  I will NOT submit SAT or ACT scores               HO   \n",
       "1         NaN      NaN  I will NOT submit SAT or ACT scores               HO   \n",
       "2          NJ      NaN  I will NOT submit SAT or ACT scores               HO   \n",
       "3         NaN      NaN      I will submit SAT or ACT scores                N   \n",
       "4         NaN      NaN  I will NOT submit SAT or ACT scores               HO   \n",
       "..        ...      ...                                  ...              ...   \n",
       "370       NaN      NaN  I will NOT submit SAT or ACT scores                N   \n",
       "371       NaN      NaN  I will NOT submit SAT or ACT scores               HO   \n",
       "372       NaN      NaN  I will NOT submit SAT or ACT scores               HO   \n",
       "373       NaN      NaN      I will submit SAT or ACT scores                N   \n",
       "374       NaN      NaN  I will NOT submit SAT or ACT scores                N   \n",
       "\n",
       "                                      FIRST_GEN_IND PCKG_GROUP_IND  \\\n",
       "0    FGNN: Graduated from college: Bachelors degree            NaN   \n",
       "1    FGNN: Graduated from college: Bachelors degree            NaN   \n",
       "2                                               NaN          UGONN   \n",
       "3                             FGNN: Graduate school            NaN   \n",
       "4    FGNN: Graduated from college: Bachelors degree         UGOFFN   \n",
       "..                                              ...            ...   \n",
       "370                FGNY: High School diploma or GED          UGWPN   \n",
       "371                                             NaN          UGONN   \n",
       "372                              FGNY: Some college         REJISR   \n",
       "373                              FGNY: Some college          UGWPN   \n",
       "374                                             NaN          UGONN   \n",
       "\n",
       "    HOUS_DEP_PAID FAFSA_IND REC_EOF_LOCATION REC_COUNTRY_OF_ORIG  \\\n",
       "0               Y         N              NaN          Bangladesh   \n",
       "1               Y         N              NaN          Bangladesh   \n",
       "2               Y         Y              NaN                 NaN   \n",
       "3               N         N              NaN        Sierra Leone   \n",
       "4               N         Y              NaN                 NaN   \n",
       "..            ...       ...              ...                 ...   \n",
       "370             N         Y              NaN                 NaN   \n",
       "371             N         Y              NaN                 NaN   \n",
       "372             N         Y              NaN                 NaN   \n",
       "373             N         Y              NaN                 NaN   \n",
       "374             Y         Y              NaN                 NaN   \n",
       "\n",
       "    REC_COMPLETED_DATE  \n",
       "0           2022-03-23  \n",
       "1           2022-03-21  \n",
       "2           2022-02-21  \n",
       "3           2021-10-22  \n",
       "4           2022-08-17  \n",
       "..                 ...  \n",
       "370         2022-07-29  \n",
       "371         2021-12-22  \n",
       "372         2022-04-25  \n",
       "373         2022-04-13  \n",
       "374         2022-02-11  \n",
       "\n",
       "[375 rows x 35 columns]"
      ]
     },
     "metadata": {},
     "output_type": "display_data"
    }
   ],
   "source": [
    "# Dictionary mapping (State, County) pairs to latitude and longitude coordinates\n",
    "coordinates = {\n",
    "    ('NJ', 'Ocean'): (39.8359, -74.2029),\n",
    "    ('NJ', 'Gloucester'): (39.7067, -75.1299),\n",
    "    ('NJ', 'Burlington'): (39.8670, -74.6693),\n",
    "    ('NJ', 'Middlesex'): (40.4279, -74.3960),\n",
    "    ('NJ', 'Atlantic'): (39.4704, -74.4522),\n",
    "    ('NJ', 'Camden'): (39.9259, -75.1196),\n",
    "    ('NJ', 'Monmouth'): (40.2584, -74.1285),\n",
    "    ('NJ', 'Bergen'): (40.9601, -74.0716),\n",
    "    ('NJ', 'Cape May'): (39.0240, -74.9145),\n",
    "    ('NJ', 'Cumberland'): (39.4070, -75.1719),\n",
    "    ('NJ', 'Sussex'): (41.1381, -74.6912),\n",
    "    ('NJ', 'Essex'): (40.7879, -74.3687),\n",
    "    ('NJ', 'Mercer'): (40.2803, -74.7123),\n",
    "    ('NJ', 'Hudson'): (40.7375, -74.0754),\n",
    "    ('NJ', 'Union'): (40.6595, -74.2884),\n",
    "    ('NJ', 'Salem'): (39.5560, -75.3316),\n",
    "    ('NJ', 'Somerset'): (40.5656, -74.6704),\n",
    "    ('NJ', 'Morris'): (40.8339, -74.6060),\n",
    "    ('NJ', 'Passaic'): (41.0455, -74.2730),\n",
    "    ('NJ', 'Warren'): (40.8597, -75.0037),\n",
    "    ('NJ', 'Hunterdon'): (40.5795, -74.9160),\n",
    "    ('DE', 'Out of State'): (39.1582, -75.5244),\n",
    "    ('CT', 'Out of State'): (41.7637, -72.6851),\n",
    "    ('NY', 'Out of State'): (42.6526, -73.7562),\n",
    "    ('PA', 'Out of State'): (40.2698, -76.8756)\n",
    "}\n",
    "\n",
    "# Add latitude and longitude columns to DataFrame\n",
    "df['HS_LAT'] = df.apply(lambda row: coordinates.get((row['HS_STATE'], row['HS_COUNTY']), (None, None))[0], axis=1)\n",
    "df['HS_LONG'] = df.apply(lambda row: coordinates.get((row['HS_STATE'], row['HS_COUNTY']), (None, None))[1], axis=1)\n",
    "\n",
    "# Find the index of the 'HS_COUNTY' column\n",
    "county_index = df.columns.get_loc('HS_COUNTY')\n",
    "\n",
    "# Insert the 'HS_LAT' column after the 'HS_COUNTY' column\n",
    "df.insert(county_index + 1, 'HS_LAT', df.pop('HS_LAT'))\n",
    "\n",
    "# Insert the 'HS_LONG' column after the 'HS_LAT' column\n",
    "df.insert(county_index + 2, 'HS_LONG', df.pop('HS_LONG'))\n",
    "\n",
    "# Fill null values\n",
    "df['HOUSING_INTEREST'].fillna('N', inplace=True)\n",
    "df['HOUS_DEP_PAID'].fillna('N', inplace=True)\n",
    "df['FAFSA_IND'].fillna('N', inplace=True)\n",
    "\n",
    "# Display the updated DataFrame\n",
    "display(df)\n",
    "\n"
   ]
  },
  {
   "cell_type": "code",
   "execution_count": null,
   "id": "212e6fbc",
   "metadata": {},
   "outputs": [],
   "source": []
  },
  {
   "cell_type": "code",
   "execution_count": 25,
   "id": "c588b916",
   "metadata": {},
   "outputs": [],
   "source": [
    "# Save the updated DataFrame to a new Excel file\n",
    "output_file_path = '/Users/udoychowdhury/Documents/DataScience/Assitantship/Conditionally Admitted Students Updated.xlsx'\n",
    "df.to_excel(output_file_path, index=False)  # Set index=False to exclude row numbers in the Excel file"
   ]
  },
  {
   "cell_type": "code",
   "execution_count": 26,
   "id": "dd8b1c46",
   "metadata": {},
   "outputs": [],
   "source": [
    "# File path for file\n",
    "file_path = '/Users/udoychowdhury/Documents/DataScience/Assitantship/Conditionally Admitted Students Updated.xlsx'\n",
    "# Read the Excel file\n",
    "df = pd.read_excel(file_path)"
   ]
  },
  {
   "cell_type": "code",
   "execution_count": 27,
   "id": "1c0d2b4d",
   "metadata": {},
   "outputs": [
    {
     "data": {
      "text/plain": [
       "ID                            int64\n",
       "SPRADDR_CNTY_CODE             int64\n",
       "SARADAP_STYP_CODE_2          object\n",
       "SPRADDR_STAT_CODE            object\n",
       "SARADAP_ADMT_CODE            object\n",
       "ETHNICITY                    object\n",
       "SARAPPD_APDC_CODE            object\n",
       "SARAPPD_APDC_DATE            object\n",
       "SARADAP_MAJR_CODE_1          object\n",
       "SARADAP_PROGRAM_1            object\n",
       "SARADAP_MAJR_CODE_CONC_1     object\n",
       "AGE                           int64\n",
       "HS_NAME                      object\n",
       "HS_CITY                      object\n",
       "HS_STATE                     object\n",
       "HS_COUNTY                    object\n",
       "HS_LAT                      float64\n",
       "HS_LONG                     float64\n",
       "SPBPERS_SEX                  object\n",
       "SAT_MATH                    float64\n",
       "SAT_ERBW                    float64\n",
       "SAT_TOTAL                     int64\n",
       "ACT_COMPOSITE               float64\n",
       "COL_DESC                     object\n",
       "COL_STATE                    object\n",
       "DCHS_IND                     object\n",
       "REC_TEST_PLAN                object\n",
       "HOUSING_INTEREST             object\n",
       "FIRST_GEN_IND                object\n",
       "PCKG_GROUP_IND               object\n",
       "HOUS_DEP_PAID                object\n",
       "FAFSA_IND                    object\n",
       "REC_EOF_LOCATION             object\n",
       "REC_COUNTRY_OF_ORIG          object\n",
       "REC_COMPLETED_DATE           object\n",
       "dtype: object"
      ]
     },
     "execution_count": 27,
     "metadata": {},
     "output_type": "execute_result"
    }
   ],
   "source": [
    "df.dtypes"
   ]
  },
  {
   "cell_type": "code",
   "execution_count": 28,
   "id": "817a413e",
   "metadata": {},
   "outputs": [],
   "source": [
    "import pandas as pd\n",
    "import numpy as np\n",
    "import scipy.stats as stats\n",
    "\n",
    "def calculate_cramers_v(x, y):\n",
    "    # Create a contingency table from two Series, x and y\n",
    "    contingency_table = pd.crosstab(x, y)\n",
    "    print(\"Contingency Table:\\n\", contingency_table)\n",
    "    \n",
    "    # Calculate the chi-squared test statistic and p-value\n",
    "    chi2, p, dof, expected = stats.chi2_contingency(contingency_table, correction=False)\n",
    "    print(f\"Chi-squared: {chi2}, P-value: {p}, Degrees of freedom: {dof}\")\n",
    "    print(\"Expected frequencies:\\n\", expected)\n",
    "    \n",
    "    # Total observations\n",
    "    N = np.sum(contingency_table.values)\n",
    "    print(\"Total samples (N):\", N)\n",
    "    \n",
    "    # Minimum dimension minus one (for Cramer's V formula)\n",
    "    min_dim = min(contingency_table.shape) - 1\n",
    "    print(\"Minimum dimension (min(rows, columns) - 1):\", min_dim)\n",
    "    \n",
    "    # Cramer's V calculation\n",
    "    result = np.sqrt((chi2 / N) / min_dim)\n",
    "    print(\"Cramer's V:\", result)\n",
    "    \n",
    "    return result"
   ]
  },
  {
   "cell_type": "code",
   "execution_count": 29,
   "id": "925eb80d",
   "metadata": {},
   "outputs": [
    {
     "name": "stdout",
     "output_type": "stream",
     "text": [
      "Contingency Table:\n",
      " HOUS_DEP_PAID                                N   Y\n",
      "ETHNICITY                                         \n",
      "Asian                                       20   7\n",
      "Black or African American                   46  18\n",
      "Caucasian or White                         113  73\n",
      "Hispanic or Latino                          59  17\n",
      "More Than 1 Race                             9   8\n",
      "Native Hawaiian or other Pacific Islander    0   1\n",
      "Non-Resident                                 1   2\n",
      "Unknown or Not Specified                     1   0\n",
      "Chi-squared: 13.861352749646175, P-value: 0.053702998114381686, Degrees of freedom: 7\n",
      "Expected frequencies:\n",
      " [[ 17.928   9.072]\n",
      " [ 42.496  21.504]\n",
      " [123.504  62.496]\n",
      " [ 50.464  25.536]\n",
      " [ 11.288   5.712]\n",
      " [  0.664   0.336]\n",
      " [  1.992   1.008]\n",
      " [  0.664   0.336]]\n",
      "Total samples (N): 375\n",
      "Minimum dimension (min(rows, columns) - 1): 1\n",
      "Cramer's V: 0.19225921910896704\n"
     ]
    },
    {
     "data": {
      "text/plain": [
       "0.19225921910896704"
      ]
     },
     "execution_count": 29,
     "metadata": {},
     "output_type": "execute_result"
    }
   ],
   "source": [
    "x = df['ETHNICITY']\n",
    "y = df['HOUS_DEP_PAID']\n",
    "\n",
    "\n",
    "result = calculate_cramers_v(x,y)\n",
    "\n",
    "result\n"
   ]
  },
  {
   "cell_type": "code",
   "execution_count": 31,
   "id": "9a6b214f",
   "metadata": {},
   "outputs": [
    {
     "data": {
      "application/vnd.plotly.v1+json": {
       "config": {
        "plotlyServerURL": "https://plot.ly"
       },
       "data": [
        {
         "customdata": [
          [
           0.4757176176509476
          ],
          [
           3.3770846843233824e-7
          ],
          [
           1
          ],
          [
           0.0393979664664098
          ],
          [
           0.006329509680263033
          ],
          [
           0.053702998114381686
          ],
          [
           1
          ],
          [
           0.050594469236509294
          ],
          [
           0.40191206512731803
          ],
          [
           0.5820858102516597
          ],
          [
           1
          ],
          [
           0.6133502169512105
          ],
          [
           0.00014831255448836917
          ],
          [
           0.000056971149506230835
          ],
          [
           0.056251437108567025
          ],
          [
           1.193448352050558e-7
          ],
          [
           7.157715185460744e-7
          ],
          [
           7.157715185460744e-7
          ],
          [
           0.5354550578124437
          ],
          [
           0.576109054230565
          ],
          [
           0.8711647475599467
          ],
          [
           0.6923137824806269
          ],
          [
           0.3582502163254752
          ],
          [
           0.2569822350096832
          ],
          [
           0.20438115367946585
          ],
          [
           1
          ],
          [
           0.14997198068056153
          ],
          [
           4.074968170045621e-13
          ],
          [
           0.6283469070262313
          ],
          [
           7.579672969892083e-12
          ],
          [
           0.3618248328245136
          ],
          [
           0.9176565508932549
          ],
          [
           0.665005542102029
          ],
          [
           0.6256727352191047
          ]
         ],
         "hovertemplate": "variable=%{text}<br>chi2=%{marker.size}<br>p_value=%{marker.color}<extra></extra>",
         "legendgroup": "",
         "marker": {
          "color": [
           0.4757176176509476,
           3.3770846843233824e-7,
           1,
           0.0393979664664098,
           0.006329509680263033,
           0.053702998114381686,
           1,
           0.050594469236509294,
           0.40191206512731803,
           0.5820858102516597,
           1,
           0.6133502169512105,
           0.00014831255448836917,
           0.000056971149506230835,
           0.056251437108567025,
           1.193448352050558e-7,
           7.157715185460744e-7,
           7.157715185460744e-7,
           0.5354550578124437,
           0.576109054230565,
           0.8711647475599467,
           0.6923137824806269,
           0.3582502163254752,
           0.2569822350096832,
           0.20438115367946585,
           1,
           0.14997198068056153,
           4.074968170045621e-13,
           0.6283469070262313,
           7.579672969892083e-12,
           0.3618248328245136,
           0.9176565508932549,
           0.665005542102029,
           0.6256727352191047
          ],
          "coloraxis": "coloraxis",
          "size": [
           375,
           70.10764834918594,
           0,
           11.683085765283355,
           17.961351198125264,
           13.861352749646175,
           0,
           170.6999322229149,
           11.505794590554183,
           13.261782756563134,
           0,
           5.38284296968861,
           249.67378364950315,
           225.04618699186994,
           9.201680672268909,
           72.90572597805043,
           73.17321751667546,
           73.17321751667546,
           1.249276636539976,
           28.867979942962215,
           19.81358087679516,
           38.830349743645776,
           9.904761904761907,
           25.877419354838704,
           7.225806451612903,
           0,
           2.0725358251419923,
           52.606699363700024,
           6.168650123423383,
           58.013962239192026,
           0.8315495848012276,
           0.17186417186417183,
           0.18750000000000003,
           142.88531677731334
          ],
          "sizemode": "area",
          "sizeref": 0.9375,
          "symbol": "circle"
         },
         "mode": "markers+text",
         "name": "",
         "orientation": "v",
         "showlegend": false,
         "text": [
          "ID",
          "SPRADDR_CNTY_CODE",
          "SARADAP_STYP_CODE_2",
          "SPRADDR_STAT_CODE",
          "SARADAP_ADMT_CODE",
          "ETHNICITY",
          "SARAPPD_APDC_CODE",
          "SARAPPD_APDC_DATE",
          "SARADAP_MAJR_CODE_1",
          "SARADAP_PROGRAM_1",
          "SARADAP_MAJR_CODE_CONC_1",
          "AGE",
          "HS_NAME",
          "HS_CITY",
          "HS_STATE",
          "HS_COUNTY",
          "HS_LAT",
          "HS_LONG",
          "SPBPERS_SEX",
          "SAT_MATH",
          "SAT_ERBW",
          "SAT_TOTAL",
          "ACT_COMPOSITE",
          "COL_DESC",
          "COL_STATE",
          "DCHS_IND",
          "REC_TEST_PLAN",
          "HOUSING_INTEREST",
          "FIRST_GEN_IND",
          "PCKG_GROUP_IND",
          "FAFSA_IND",
          "REC_EOF_LOCATION",
          "REC_COUNTRY_OF_ORIG",
          "REC_COMPLETED_DATE"
         ],
         "textposition": "top center",
         "type": "scatter",
         "x": [
          "ID",
          "SPRADDR_CNTY_CODE",
          "SARADAP_STYP_CODE_2",
          "SPRADDR_STAT_CODE",
          "SARADAP_ADMT_CODE",
          "ETHNICITY",
          "SARAPPD_APDC_CODE",
          "SARAPPD_APDC_DATE",
          "SARADAP_MAJR_CODE_1",
          "SARADAP_PROGRAM_1",
          "SARADAP_MAJR_CODE_CONC_1",
          "AGE",
          "HS_NAME",
          "HS_CITY",
          "HS_STATE",
          "HS_COUNTY",
          "HS_LAT",
          "HS_LONG",
          "SPBPERS_SEX",
          "SAT_MATH",
          "SAT_ERBW",
          "SAT_TOTAL",
          "ACT_COMPOSITE",
          "COL_DESC",
          "COL_STATE",
          "DCHS_IND",
          "REC_TEST_PLAN",
          "HOUSING_INTEREST",
          "FIRST_GEN_IND",
          "PCKG_GROUP_IND",
          "FAFSA_IND",
          "REC_EOF_LOCATION",
          "REC_COUNTRY_OF_ORIG",
          "REC_COMPLETED_DATE"
         ],
         "xaxis": "x",
         "y": [
          375,
          70.10764834918594,
          0,
          11.683085765283355,
          17.961351198125264,
          13.861352749646175,
          0,
          170.6999322229149,
          11.505794590554183,
          13.261782756563134,
          0,
          5.38284296968861,
          249.67378364950315,
          225.04618699186994,
          9.201680672268909,
          72.90572597805043,
          73.17321751667546,
          73.17321751667546,
          1.249276636539976,
          28.867979942962215,
          19.81358087679516,
          38.830349743645776,
          9.904761904761907,
          25.877419354838704,
          7.225806451612903,
          0,
          2.0725358251419923,
          52.606699363700024,
          6.168650123423383,
          58.013962239192026,
          0.8315495848012276,
          0.17186417186417183,
          0.18750000000000003,
          142.88531677731334
         ],
         "yaxis": "y"
        }
       ],
       "layout": {
        "coloraxis": {
         "colorbar": {
          "title": {
           "text": "p_value"
          }
         },
         "colorscale": [
          [
           0,
           "#0d0887"
          ],
          [
           0.1111111111111111,
           "#46039f"
          ],
          [
           0.2222222222222222,
           "#7201a8"
          ],
          [
           0.3333333333333333,
           "#9c179e"
          ],
          [
           0.4444444444444444,
           "#bd3786"
          ],
          [
           0.5555555555555556,
           "#d8576b"
          ],
          [
           0.6666666666666666,
           "#ed7953"
          ],
          [
           0.7777777777777778,
           "#fb9f3a"
          ],
          [
           0.8888888888888888,
           "#fdca26"
          ],
          [
           1,
           "#f0f921"
          ]
         ]
        },
        "legend": {
         "itemsizing": "constant",
         "tracegroupgap": 0
        },
        "template": {
         "data": {
          "bar": [
           {
            "error_x": {
             "color": "#2a3f5f"
            },
            "error_y": {
             "color": "#2a3f5f"
            },
            "marker": {
             "line": {
              "color": "#E5ECF6",
              "width": 0.5
             },
             "pattern": {
              "fillmode": "overlay",
              "size": 10,
              "solidity": 0.2
             }
            },
            "type": "bar"
           }
          ],
          "barpolar": [
           {
            "marker": {
             "line": {
              "color": "#E5ECF6",
              "width": 0.5
             },
             "pattern": {
              "fillmode": "overlay",
              "size": 10,
              "solidity": 0.2
             }
            },
            "type": "barpolar"
           }
          ],
          "carpet": [
           {
            "aaxis": {
             "endlinecolor": "#2a3f5f",
             "gridcolor": "white",
             "linecolor": "white",
             "minorgridcolor": "white",
             "startlinecolor": "#2a3f5f"
            },
            "baxis": {
             "endlinecolor": "#2a3f5f",
             "gridcolor": "white",
             "linecolor": "white",
             "minorgridcolor": "white",
             "startlinecolor": "#2a3f5f"
            },
            "type": "carpet"
           }
          ],
          "choropleth": [
           {
            "colorbar": {
             "outlinewidth": 0,
             "ticks": ""
            },
            "type": "choropleth"
           }
          ],
          "contour": [
           {
            "colorbar": {
             "outlinewidth": 0,
             "ticks": ""
            },
            "colorscale": [
             [
              0,
              "#0d0887"
             ],
             [
              0.1111111111111111,
              "#46039f"
             ],
             [
              0.2222222222222222,
              "#7201a8"
             ],
             [
              0.3333333333333333,
              "#9c179e"
             ],
             [
              0.4444444444444444,
              "#bd3786"
             ],
             [
              0.5555555555555556,
              "#d8576b"
             ],
             [
              0.6666666666666666,
              "#ed7953"
             ],
             [
              0.7777777777777778,
              "#fb9f3a"
             ],
             [
              0.8888888888888888,
              "#fdca26"
             ],
             [
              1,
              "#f0f921"
             ]
            ],
            "type": "contour"
           }
          ],
          "contourcarpet": [
           {
            "colorbar": {
             "outlinewidth": 0,
             "ticks": ""
            },
            "type": "contourcarpet"
           }
          ],
          "heatmap": [
           {
            "colorbar": {
             "outlinewidth": 0,
             "ticks": ""
            },
            "colorscale": [
             [
              0,
              "#0d0887"
             ],
             [
              0.1111111111111111,
              "#46039f"
             ],
             [
              0.2222222222222222,
              "#7201a8"
             ],
             [
              0.3333333333333333,
              "#9c179e"
             ],
             [
              0.4444444444444444,
              "#bd3786"
             ],
             [
              0.5555555555555556,
              "#d8576b"
             ],
             [
              0.6666666666666666,
              "#ed7953"
             ],
             [
              0.7777777777777778,
              "#fb9f3a"
             ],
             [
              0.8888888888888888,
              "#fdca26"
             ],
             [
              1,
              "#f0f921"
             ]
            ],
            "type": "heatmap"
           }
          ],
          "heatmapgl": [
           {
            "colorbar": {
             "outlinewidth": 0,
             "ticks": ""
            },
            "colorscale": [
             [
              0,
              "#0d0887"
             ],
             [
              0.1111111111111111,
              "#46039f"
             ],
             [
              0.2222222222222222,
              "#7201a8"
             ],
             [
              0.3333333333333333,
              "#9c179e"
             ],
             [
              0.4444444444444444,
              "#bd3786"
             ],
             [
              0.5555555555555556,
              "#d8576b"
             ],
             [
              0.6666666666666666,
              "#ed7953"
             ],
             [
              0.7777777777777778,
              "#fb9f3a"
             ],
             [
              0.8888888888888888,
              "#fdca26"
             ],
             [
              1,
              "#f0f921"
             ]
            ],
            "type": "heatmapgl"
           }
          ],
          "histogram": [
           {
            "marker": {
             "pattern": {
              "fillmode": "overlay",
              "size": 10,
              "solidity": 0.2
             }
            },
            "type": "histogram"
           }
          ],
          "histogram2d": [
           {
            "colorbar": {
             "outlinewidth": 0,
             "ticks": ""
            },
            "colorscale": [
             [
              0,
              "#0d0887"
             ],
             [
              0.1111111111111111,
              "#46039f"
             ],
             [
              0.2222222222222222,
              "#7201a8"
             ],
             [
              0.3333333333333333,
              "#9c179e"
             ],
             [
              0.4444444444444444,
              "#bd3786"
             ],
             [
              0.5555555555555556,
              "#d8576b"
             ],
             [
              0.6666666666666666,
              "#ed7953"
             ],
             [
              0.7777777777777778,
              "#fb9f3a"
             ],
             [
              0.8888888888888888,
              "#fdca26"
             ],
             [
              1,
              "#f0f921"
             ]
            ],
            "type": "histogram2d"
           }
          ],
          "histogram2dcontour": [
           {
            "colorbar": {
             "outlinewidth": 0,
             "ticks": ""
            },
            "colorscale": [
             [
              0,
              "#0d0887"
             ],
             [
              0.1111111111111111,
              "#46039f"
             ],
             [
              0.2222222222222222,
              "#7201a8"
             ],
             [
              0.3333333333333333,
              "#9c179e"
             ],
             [
              0.4444444444444444,
              "#bd3786"
             ],
             [
              0.5555555555555556,
              "#d8576b"
             ],
             [
              0.6666666666666666,
              "#ed7953"
             ],
             [
              0.7777777777777778,
              "#fb9f3a"
             ],
             [
              0.8888888888888888,
              "#fdca26"
             ],
             [
              1,
              "#f0f921"
             ]
            ],
            "type": "histogram2dcontour"
           }
          ],
          "mesh3d": [
           {
            "colorbar": {
             "outlinewidth": 0,
             "ticks": ""
            },
            "type": "mesh3d"
           }
          ],
          "parcoords": [
           {
            "line": {
             "colorbar": {
              "outlinewidth": 0,
              "ticks": ""
             }
            },
            "type": "parcoords"
           }
          ],
          "pie": [
           {
            "automargin": true,
            "type": "pie"
           }
          ],
          "scatter": [
           {
            "fillpattern": {
             "fillmode": "overlay",
             "size": 10,
             "solidity": 0.2
            },
            "type": "scatter"
           }
          ],
          "scatter3d": [
           {
            "line": {
             "colorbar": {
              "outlinewidth": 0,
              "ticks": ""
             }
            },
            "marker": {
             "colorbar": {
              "outlinewidth": 0,
              "ticks": ""
             }
            },
            "type": "scatter3d"
           }
          ],
          "scattercarpet": [
           {
            "marker": {
             "colorbar": {
              "outlinewidth": 0,
              "ticks": ""
             }
            },
            "type": "scattercarpet"
           }
          ],
          "scattergeo": [
           {
            "marker": {
             "colorbar": {
              "outlinewidth": 0,
              "ticks": ""
             }
            },
            "type": "scattergeo"
           }
          ],
          "scattergl": [
           {
            "marker": {
             "colorbar": {
              "outlinewidth": 0,
              "ticks": ""
             }
            },
            "type": "scattergl"
           }
          ],
          "scattermapbox": [
           {
            "marker": {
             "colorbar": {
              "outlinewidth": 0,
              "ticks": ""
             }
            },
            "type": "scattermapbox"
           }
          ],
          "scatterpolar": [
           {
            "marker": {
             "colorbar": {
              "outlinewidth": 0,
              "ticks": ""
             }
            },
            "type": "scatterpolar"
           }
          ],
          "scatterpolargl": [
           {
            "marker": {
             "colorbar": {
              "outlinewidth": 0,
              "ticks": ""
             }
            },
            "type": "scatterpolargl"
           }
          ],
          "scatterternary": [
           {
            "marker": {
             "colorbar": {
              "outlinewidth": 0,
              "ticks": ""
             }
            },
            "type": "scatterternary"
           }
          ],
          "surface": [
           {
            "colorbar": {
             "outlinewidth": 0,
             "ticks": ""
            },
            "colorscale": [
             [
              0,
              "#0d0887"
             ],
             [
              0.1111111111111111,
              "#46039f"
             ],
             [
              0.2222222222222222,
              "#7201a8"
             ],
             [
              0.3333333333333333,
              "#9c179e"
             ],
             [
              0.4444444444444444,
              "#bd3786"
             ],
             [
              0.5555555555555556,
              "#d8576b"
             ],
             [
              0.6666666666666666,
              "#ed7953"
             ],
             [
              0.7777777777777778,
              "#fb9f3a"
             ],
             [
              0.8888888888888888,
              "#fdca26"
             ],
             [
              1,
              "#f0f921"
             ]
            ],
            "type": "surface"
           }
          ],
          "table": [
           {
            "cells": {
             "fill": {
              "color": "#EBF0F8"
             },
             "line": {
              "color": "white"
             }
            },
            "header": {
             "fill": {
              "color": "#C8D4E3"
             },
             "line": {
              "color": "white"
             }
            },
            "type": "table"
           }
          ]
         },
         "layout": {
          "annotationdefaults": {
           "arrowcolor": "#2a3f5f",
           "arrowhead": 0,
           "arrowwidth": 1
          },
          "autotypenumbers": "strict",
          "coloraxis": {
           "colorbar": {
            "outlinewidth": 0,
            "ticks": ""
           }
          },
          "colorscale": {
           "diverging": [
            [
             0,
             "#8e0152"
            ],
            [
             0.1,
             "#c51b7d"
            ],
            [
             0.2,
             "#de77ae"
            ],
            [
             0.3,
             "#f1b6da"
            ],
            [
             0.4,
             "#fde0ef"
            ],
            [
             0.5,
             "#f7f7f7"
            ],
            [
             0.6,
             "#e6f5d0"
            ],
            [
             0.7,
             "#b8e186"
            ],
            [
             0.8,
             "#7fbc41"
            ],
            [
             0.9,
             "#4d9221"
            ],
            [
             1,
             "#276419"
            ]
           ],
           "sequential": [
            [
             0,
             "#0d0887"
            ],
            [
             0.1111111111111111,
             "#46039f"
            ],
            [
             0.2222222222222222,
             "#7201a8"
            ],
            [
             0.3333333333333333,
             "#9c179e"
            ],
            [
             0.4444444444444444,
             "#bd3786"
            ],
            [
             0.5555555555555556,
             "#d8576b"
            ],
            [
             0.6666666666666666,
             "#ed7953"
            ],
            [
             0.7777777777777778,
             "#fb9f3a"
            ],
            [
             0.8888888888888888,
             "#fdca26"
            ],
            [
             1,
             "#f0f921"
            ]
           ],
           "sequentialminus": [
            [
             0,
             "#0d0887"
            ],
            [
             0.1111111111111111,
             "#46039f"
            ],
            [
             0.2222222222222222,
             "#7201a8"
            ],
            [
             0.3333333333333333,
             "#9c179e"
            ],
            [
             0.4444444444444444,
             "#bd3786"
            ],
            [
             0.5555555555555556,
             "#d8576b"
            ],
            [
             0.6666666666666666,
             "#ed7953"
            ],
            [
             0.7777777777777778,
             "#fb9f3a"
            ],
            [
             0.8888888888888888,
             "#fdca26"
            ],
            [
             1,
             "#f0f921"
            ]
           ]
          },
          "colorway": [
           "#636efa",
           "#EF553B",
           "#00cc96",
           "#ab63fa",
           "#FFA15A",
           "#19d3f3",
           "#FF6692",
           "#B6E880",
           "#FF97FF",
           "#FECB52"
          ],
          "font": {
           "color": "#2a3f5f"
          },
          "geo": {
           "bgcolor": "white",
           "lakecolor": "white",
           "landcolor": "#E5ECF6",
           "showlakes": true,
           "showland": true,
           "subunitcolor": "white"
          },
          "hoverlabel": {
           "align": "left"
          },
          "hovermode": "closest",
          "mapbox": {
           "style": "light"
          },
          "paper_bgcolor": "white",
          "plot_bgcolor": "#E5ECF6",
          "polar": {
           "angularaxis": {
            "gridcolor": "white",
            "linecolor": "white",
            "ticks": ""
           },
           "bgcolor": "#E5ECF6",
           "radialaxis": {
            "gridcolor": "white",
            "linecolor": "white",
            "ticks": ""
           }
          },
          "scene": {
           "xaxis": {
            "backgroundcolor": "#E5ECF6",
            "gridcolor": "white",
            "gridwidth": 2,
            "linecolor": "white",
            "showbackground": true,
            "ticks": "",
            "zerolinecolor": "white"
           },
           "yaxis": {
            "backgroundcolor": "#E5ECF6",
            "gridcolor": "white",
            "gridwidth": 2,
            "linecolor": "white",
            "showbackground": true,
            "ticks": "",
            "zerolinecolor": "white"
           },
           "zaxis": {
            "backgroundcolor": "#E5ECF6",
            "gridcolor": "white",
            "gridwidth": 2,
            "linecolor": "white",
            "showbackground": true,
            "ticks": "",
            "zerolinecolor": "white"
           }
          },
          "shapedefaults": {
           "line": {
            "color": "#2a3f5f"
           }
          },
          "ternary": {
           "aaxis": {
            "gridcolor": "white",
            "linecolor": "white",
            "ticks": ""
           },
           "baxis": {
            "gridcolor": "white",
            "linecolor": "white",
            "ticks": ""
           },
           "bgcolor": "#E5ECF6",
           "caxis": {
            "gridcolor": "white",
            "linecolor": "white",
            "ticks": ""
           }
          },
          "title": {
           "x": 0.05
          },
          "xaxis": {
           "automargin": true,
           "gridcolor": "white",
           "linecolor": "white",
           "ticks": "",
           "title": {
            "standoff": 15
           },
           "zerolinecolor": "white",
           "zerolinewidth": 2
          },
          "yaxis": {
           "automargin": true,
           "gridcolor": "white",
           "linecolor": "white",
           "ticks": "",
           "title": {
            "standoff": 15
           },
           "zerolinecolor": "white",
           "zerolinewidth": 2
          }
         }
        },
        "title": {
         "text": "Chi-square Test Results vs HOUS_DEP_PAID"
        },
        "xaxis": {
         "anchor": "y",
         "domain": [
          0,
          1
         ],
         "tickangle": -45,
         "title": {
          "text": "variable"
         }
        },
        "yaxis": {
         "anchor": "x",
         "domain": [
          0,
          1
         ],
         "title": {
          "text": "chi2"
         }
        }
       }
      }
     },
     "metadata": {},
     "output_type": "display_data"
    }
   ],
   "source": [
    "import pandas as pd\n",
    "import plotly.express as px\n",
    "from scipy.stats import chi2_contingency\n",
    "\n",
    "# Assuming df is your DataFrame\n",
    "def chi_square_test(df, y_variable):\n",
    "    results = []\n",
    "    for col in df.columns:\n",
    "        if col != y_variable:\n",
    "            contingency_table = pd.crosstab(df[col], df[y_variable])\n",
    "            chi2, p, _, _ = chi2_contingency(contingency_table)\n",
    "            results.append({'variable': col, 'chi2': chi2, 'p_value': p})\n",
    "    return pd.DataFrame(results)\n",
    "\n",
    "# Plotting function\n",
    "def plot_chi_square_results(df_results):\n",
    "    fig = px.scatter(df_results, x='variable', y='chi2', text='variable',\n",
    "                     size='chi2', color='p_value', hover_data=['p_value'],\n",
    "                     title=f'Chi-square Test Results vs {y_variable}')\n",
    "    fig.update_traces(textposition='top center')\n",
    "    fig.update_layout(xaxis_tickangle=-45)\n",
    "    fig.show()\n",
    "\n",
    "# Usage Example\n",
    "# x = df['ETHNICITY']\n",
    "# y = df['HOUS_DEP_PAID']\n",
    "y_variable = 'HOUS_DEP_PAID' # Replace with your y variable\n",
    "df_results = chi_square_test(df, y_variable)\n",
    "plot_chi_square_results(df_results)\n"
   ]
  },
  {
   "cell_type": "code",
   "execution_count": null,
   "id": "2d19fa91",
   "metadata": {},
   "outputs": [],
   "source": []
  }
 ],
 "metadata": {
  "kernelspec": {
   "display_name": "Python 3 (ipykernel)",
   "language": "python",
   "name": "python3"
  },
  "language_info": {
   "codemirror_mode": {
    "name": "ipython",
    "version": 3
   },
   "file_extension": ".py",
   "mimetype": "text/x-python",
   "name": "python",
   "nbconvert_exporter": "python",
   "pygments_lexer": "ipython3",
   "version": "3.9.7"
  }
 },
 "nbformat": 4,
 "nbformat_minor": 5
}
