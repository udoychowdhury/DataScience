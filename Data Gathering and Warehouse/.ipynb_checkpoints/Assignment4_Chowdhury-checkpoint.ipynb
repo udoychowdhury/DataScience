{
 "cells": [
  {
   "cell_type": "markdown",
   "id": "ca9da05e",
   "metadata": {},
   "source": [
    "# Assignment #4 - Data Gathering and Warehousing - DSSA-5102\n",
    "\n",
    "Instructor: Melissa Laurino</br>\n",
    "Spring 2024</br>\n",
    "\n",
    "Name: Udoy Chowdhury\n",
    "</br>\n",
    "Date: 2/8/2024\n",
    "<br>\n",
    "<br>\n",
    "<b>Only Murders in the...Database?</b><br>\n",
    "An introduction to navigating SQL databases using R and Jupyter Notebook. <br>\n",
    "<br>\n",
    "A crime has taken place and you are the perfect amateur detective to solve it! \n",
    "<br>\n",
    "The detective gave you the crime scene report, but you somehow lost it...? You vaguely remember that the crime\n",
    "was a murder that occurred sometime on <b>Jan.15, 2018</b> and that it took place in <b>SQL\n",
    "City</b>. All the clues to this mystery are buried in a huge database, and you need to use\n",
    "SQL to navigate through this vast network of information. Your first step to solving the mystery is to retrieve the corresponding crime scene report from the police department’s database. Take a look at the cheatsheet to learn how to do this! From there, you can use your SQL skills to find the murderer.<br>\n",
    "\n",
    "Your task for Assignment #4 is to:<br>\n",
    "<b>--</b>Find our who the murderer is!<br>\n",
    "<b>--</b>Read/Review Chapters 4-6 in Getting Started with SQL on available on Blackboard (Keep in mind the code will have to be modified for R!)<br>\n",
    "<b>--</b>Add detailed comments to explain EVERY query or SQL command you use while we are still learning and practicing. I have my steps outlined, but please add more cells inbetween for additional queries! There is no limit on the number of queries you can use. <br>\n",
    "<b>--</b>For each query include comments such as \"SELECT all records FROM table WHERE column name = X\"<br>\n",
    "<b>--</b>Answer any prompts in markdown cells.<br>\n",
    "<br>\n",
    "<br>\n",
    "Basic usage of database commands in R with SQLite library: https://rsqlite.r-dbi.org/\n",
    "\n",
    "This fabulous database was created by @NUKnightLab on Github and can be found here: https://github.com/NUKnightLab/sql-mysteries"
   ]
  },
  {
   "cell_type": "markdown",
   "id": "809585f2",
   "metadata": {},
   "source": [
    "Database files are indicated by the .db file extension. For this exercise, our database has already been created. To avoid setting your working directory, have the .db file and Assignment#4_LastName.ipynb in the same file location. There are multiple libraries that can be used to navigate database files and connect to SQL for databases that are stored on a server or your computer as a local host."
   ]
  },
  {
   "cell_type": "code",
   "execution_count": 5,
   "id": "175f6ec0",
   "metadata": {},
   "outputs": [],
   "source": [
    "#install.packages(\"RSQLite\")\n",
    "#install.packages(\"RMariaDB\")\n",
    "#install.packages(\"DBI\")\n",
    "#install.packages(\"dplyr\")\n",
    "#install.packages(\"dbplyr\")\n",
    "#library(RMariaDB)\n",
    "library(\"RSQLite\") #We will use R commands to work with SQL in a database file using RSQLite.\n",
    "library(\"DBI\")\n",
    "library(\"dplyr\")\n",
    "library(\"dbplyr\")\n",
    "#If a red box appears telling you where the packages are downloaded, just run the line of code a second time to have it dissapear."
   ]
  },
  {
   "cell_type": "code",
   "execution_count": 6,
   "id": "5962409e",
   "metadata": {},
   "outputs": [],
   "source": [
    "#How to connect to our .db file using library RSQLite\n",
    "#Notice that we are not specifiying a host, password, or server at this time.\n",
    "db <- dbConnect(dbDriver(\"SQLite\"), dbname = \"sql-murder-mystery.db\")"
   ]
  },
  {
   "cell_type": "code",
   "execution_count": 7,
   "id": "daad0556",
   "metadata": {},
   "outputs": [
    {
     "data": {
      "text/html": [
       "<style>\n",
       ".list-inline {list-style: none; margin:0; padding: 0}\n",
       ".list-inline>li {display: inline-block}\n",
       ".list-inline>li:not(:last-child)::after {content: \"\\00b7\"; padding: 0 .5ex}\n",
       "</style>\n",
       "<ol class=list-inline><li>'crime_scene_report'</li><li>'drivers_license'</li><li>'facebook_event_checkin'</li><li>'get_fit_now_check_in'</li><li>'get_fit_now_member'</li><li>'income'</li><li>'interview'</li><li>'person'</li><li>'solution'</li></ol>\n"
      ],
      "text/latex": [
       "\\begin{enumerate*}\n",
       "\\item 'crime\\_scene\\_report'\n",
       "\\item 'drivers\\_license'\n",
       "\\item 'facebook\\_event\\_checkin'\n",
       "\\item 'get\\_fit\\_now\\_check\\_in'\n",
       "\\item 'get\\_fit\\_now\\_member'\n",
       "\\item 'income'\n",
       "\\item 'interview'\n",
       "\\item 'person'\n",
       "\\item 'solution'\n",
       "\\end{enumerate*}\n"
      ],
      "text/markdown": [
       "1. 'crime_scene_report'\n",
       "2. 'drivers_license'\n",
       "3. 'facebook_event_checkin'\n",
       "4. 'get_fit_now_check_in'\n",
       "5. 'get_fit_now_member'\n",
       "6. 'income'\n",
       "7. 'interview'\n",
       "8. 'person'\n",
       "9. 'solution'\n",
       "\n",
       "\n"
      ],
      "text/plain": [
       "[1] \"crime_scene_report\"     \"drivers_license\"        \"facebook_event_checkin\"\n",
       "[4] \"get_fit_now_check_in\"   \"get_fit_now_member\"     \"income\"                \n",
       "[7] \"interview\"              \"person\"                 \"solution\"              "
      ]
     },
     "metadata": {},
     "output_type": "display_data"
    }
   ],
   "source": [
    "#Explore the database\n",
    "#List all of the tables present in the database. Do they match the schema image?\n",
    "#This is a good way to double check that your database was loaded into R correctly.\n",
    "dbListTables(db)"
   ]
  },
  {
   "cell_type": "code",
   "execution_count": 8,
   "id": "ba004ab3",
   "metadata": {},
   "outputs": [],
   "source": [
    "#Explore the database\n",
    "#Show what information is present in ALL of the tables:\n",
    "\n",
    "\n",
    "\n",
    "\n",
    "\n",
    "\n",
    "\n",
    "\n",
    "\n",
    "\n",
    "\n",
    "#So much data! How would we possibly make sense of ANY of this without SQL? :)"
   ]
  },
  {
   "cell_type": "code",
   "execution_count": 9,
   "id": "620622ba",
   "metadata": {},
   "outputs": [
    {
     "name": "stdout",
     "output_type": "stream",
     "text": [
      "[1] \"crime_scene_report\"\n",
      "[1] \"drivers_license\"\n",
      "[1] \"Facebook_event_checkin\"\n",
      "[1] \"get_fit_now_check_in\"\n",
      "[1] \"get_fit_now_member\"\n",
      "[1] \"income\"\n",
      "[1] \"interview\"\n",
      "[1] \"person\"\n",
      "[1] \"solution\"\n"
     ]
    }
   ],
   "source": [
    "#What are the column names for each table? What table will help us get to the next clue?\n",
    "print(\"crime_scene_report\") \n",
    "\n",
    "print(\"drivers_license\") \n",
    "\n",
    "print(\"Facebook_event_checkin\") \n",
    "\n",
    "print(\"get_fit_now_check_in\") \n",
    "\n",
    "print(\"get_fit_now_member\") \n",
    "\n",
    "print(\"income\") \n",
    "\n",
    "print(\"interview\") \n",
    "\n",
    "print(\"person\") \n",
    "\n",
    "print(\"solution\") \n"
   ]
  },
  {
   "cell_type": "markdown",
   "id": "8f236e3b",
   "metadata": {},
   "source": [
    "Practice using commmands useful in queries:"
   ]
  },
  {
   "cell_type": "code",
   "execution_count": 10,
   "id": "d6e6f4ba",
   "metadata": {},
   "outputs": [
    {
     "data": {
      "text/html": [
       "<table class=\"dataframe\">\n",
       "<caption>A data.frame: 148 × 4</caption>\n",
       "<thead>\n",
       "\t<tr><th scope=col>date</th><th scope=col>type</th><th scope=col>description</th><th scope=col>city</th></tr>\n",
       "\t<tr><th scope=col>&lt;int&gt;</th><th scope=col>&lt;chr&gt;</th><th scope=col>&lt;chr&gt;</th><th scope=col>&lt;chr&gt;</th></tr>\n",
       "</thead>\n",
       "<tbody>\n",
       "\t<tr><td>20180115</td><td>murder</td><td>Life? Dont talk to me about life.                                        </td><td>Albany          </td></tr>\n",
       "\t<tr><td>20180115</td><td>murder</td><td>Mama, I killed a man, put a gun against his head...                      </td><td>Reno            </td></tr>\n",
       "\t<tr><td>20180215</td><td>murder</td><td>REDACTED REDACTED REDACTED                                               </td><td>SQL City        </td></tr>\n",
       "\t<tr><td>20180215</td><td>murder</td><td>Someone killed the guard! He took an arrow to the knee!                  </td><td>SQL City        </td></tr>\n",
       "\t<tr><td>20170107</td><td>murder</td><td>‘It proves nothing of the sort!’ said Alice. ‘Why, you don’t even know\n",
       " </td><td>Memphis         </td></tr>\n",
       "\t<tr><td>20170108</td><td>murder</td><td>get” is the same thing as “I get what I like”!’\n",
       "                        </td><td>Round Lake Beach</td></tr>\n",
       "\t<tr><td>20170108</td><td>murder</td><td>       HEARTHRUG,\n",
       "                                                      </td><td>Jacksonville    </td></tr>\n",
       "\t<tr><td>20170111</td><td>murder</td><td>\n",
       "                                                                       </td><td>Springdale      </td></tr>\n",
       "\t<tr><td>20170121</td><td>murder</td><td>her, to pass away the time.\n",
       "                                            </td><td>Murfreesboro    </td></tr>\n",
       "\t<tr><td>20170122</td><td>murder</td><td>came near her, she began, in a low, timid voice, ‘If you please, sir--’\n",
       "</td><td>Temecula        </td></tr>\n",
       "\t<tr><td>20170124</td><td>murder</td><td>about something, my dear, and that makes you forget to talk. I can’t\n",
       "   </td><td>Santa Clarita   </td></tr>\n",
       "\t<tr><td>20170124</td><td>murder</td><td>\n",
       "                                                                       </td><td>Waterbury       </td></tr>\n",
       "\t<tr><td>20170125</td><td>murder</td><td>age knew the meaning of it at all. However, ‘jury-men’ would have done\n",
       " </td><td>Laredo          </td></tr>\n",
       "\t<tr><td>20170207</td><td>murder</td><td>\n",
       "                                                                       </td><td>Amarillo        </td></tr>\n",
       "\t<tr><td>20170220</td><td>murder</td><td>\n",
       "                                                                       </td><td>Colorado Springs</td></tr>\n",
       "\t<tr><td>20170220</td><td>murder</td><td>knocking, and hurried upstairs, in great fear lest she should meet the\n",
       " </td><td>Madison         </td></tr>\n",
       "\t<tr><td>20170221</td><td>murder</td><td>‘I HAVE tasted eggs, certainly,’ said Alice, who was a very truthful\n",
       "   </td><td>Chandler        </td></tr>\n",
       "\t<tr><td>20170225</td><td>murder</td><td>\n",
       "                                                                       </td><td>Ontario         </td></tr>\n",
       "\t<tr><td>20170227</td><td>murder</td><td>name like an honest man.’\n",
       "                                              </td><td>Manchester      </td></tr>\n",
       "\t<tr><td>20170302</td><td>murder</td><td>with the words ‘DRINK ME,’ but nevertheless she uncorked it and put it\n",
       " </td><td>Mobile          </td></tr>\n",
       "\t<tr><td>20170304</td><td>murder</td><td>\n",
       "                                                                       </td><td>Thousand Oaks   </td></tr>\n",
       "\t<tr><td>20170308</td><td>murder</td><td>ground as she spoke; ‘either you or your head must be off, and that in\n",
       " </td><td>Bonita Springs  </td></tr>\n",
       "\t<tr><td>20170322</td><td>murder</td><td>‘Yes,’ said Alice doubtfully: ‘it means--to--make--anything--prettier.’\n",
       "</td><td>Syracuse        </td></tr>\n",
       "\t<tr><td>20170325</td><td>murder</td><td> “You can really have no notion how delightful it will be\n",
       "              </td><td>Denver          </td></tr>\n",
       "\t<tr><td>20170326</td><td>murder</td><td>\n",
       "                                                                       </td><td>Evansville      </td></tr>\n",
       "\t<tr><td>20170328</td><td>murder</td><td>the poor animal’s feelings. ‘I quite forgot you didn’t like cats.’\n",
       "     </td><td>Louisville      </td></tr>\n",
       "\t<tr><td>20170329</td><td>murder</td><td>had got so much into the way of expecting nothing but out-of-the-way\n",
       "   </td><td>Grand Rapids    </td></tr>\n",
       "\t<tr><td>20170330</td><td>murder</td><td>‘I don’t know where Dinn may be,’ said the Mock Turtle, ‘but if you’ve\n",
       " </td><td>Paterson        </td></tr>\n",
       "\t<tr><td>20170401</td><td>murder</td><td>it all seemed quite natural); but when the Rabbit actually TOOK A WATCH\n",
       "</td><td>North Charleston</td></tr>\n",
       "\t<tr><td>20170403</td><td>murder</td><td>\n",
       "                                                                       </td><td>Indianapolis    </td></tr>\n",
       "\t<tr><td>⋮</td><td>⋮</td><td>⋮</td><td>⋮</td></tr>\n",
       "\t<tr><td>20180201</td><td>murder</td><td>hookah into its mouth and began smoking again.\n",
       "                                                                                                                                         </td><td>North Port     </td></tr>\n",
       "\t<tr><td>20180203</td><td>murder</td><td>\n",
       "                                                                                                                                                                                       </td><td>Normal         </td></tr>\n",
       "\t<tr><td>20180209</td><td>murder</td><td>‘Then the words don’t FIT you,’ said the King, looking round the court\n",
       "                                                                                                                 </td><td>Kalamazoo      </td></tr>\n",
       "\t<tr><td>20180209</td><td>murder</td><td>\n",
       "                                                                                                                                                                                       </td><td>Boise          </td></tr>\n",
       "\t<tr><td>20180214</td><td>murder</td><td>\n",
       "                                                                                                                                                                                       </td><td>Gilbert        </td></tr>\n",
       "\t<tr><td>20180214</td><td>murder</td><td>\n",
       "                                                                                                                                                                                       </td><td>Scottsdale     </td></tr>\n",
       "\t<tr><td>20180215</td><td>murder</td><td>The baby grunted again, and Alice looked very anxiously into its face to\n",
       "                                                                                                               </td><td>Lexington      </td></tr>\n",
       "\t<tr><td>20180225</td><td>murder</td><td>\n",
       "                                                                                                                                                                                       </td><td>Pompano Beach  </td></tr>\n",
       "\t<tr><td>20180227</td><td>murder</td><td>     Beau--ootiful Soo--oop!\n",
       "                                                                                                                                                           </td><td>Visalia        </td></tr>\n",
       "\t<tr><td>20180302</td><td>murder</td><td>‘Shall we try another figure of the Lobster Quadrille?’ the Gryphon went\n",
       "                                                                                                               </td><td>Bel Air        </td></tr>\n",
       "\t<tr><td>20180311</td><td>murder</td><td>\n",
       "                                                                                                                                                                                       </td><td>Winter Haven   </td></tr>\n",
       "\t<tr><td>20180314</td><td>murder</td><td>tone, ‘I’m afraid I’ve offended it again!’ For the Mouse was swimming\n",
       "                                                                                                                  </td><td>Baltimore      </td></tr>\n",
       "\t<tr><td>20180316</td><td>murder</td><td>\n",
       "                                                                                                                                                                                       </td><td>Naples         </td></tr>\n",
       "\t<tr><td>20180316</td><td>murder</td><td>\n",
       "                                                                                                                                                                                       </td><td>Tampa          </td></tr>\n",
       "\t<tr><td>20180318</td><td>murder</td><td>\n",
       "                                                                                                                                                                                       </td><td>Austin         </td></tr>\n",
       "\t<tr><td>20180319</td><td>murder</td><td>away. ‘You insult me by talking such nonsense!’\n",
       "                                                                                                                                        </td><td>Fort Collins   </td></tr>\n",
       "\t<tr><td>20180325</td><td>murder</td><td>‘You’ll see me there,’ said the Cat, and vanished.\n",
       "                                                                                                                                     </td><td>Lake Charles   </td></tr>\n",
       "\t<tr><td>20180329</td><td>murder</td><td>   Waiting in a hot tureen!\n",
       "                                                                                                                                                            </td><td>Duluth         </td></tr>\n",
       "\t<tr><td>20180329</td><td>murder</td><td>bats eat cats?’ for, you see, as she couldn’t answer either question,\n",
       "                                                                                                                  </td><td>Odessa         </td></tr>\n",
       "\t<tr><td>20180330</td><td>murder</td><td>was not a VERY good opportunity for showing off her knowledge, as there\n",
       "                                                                                                                </td><td>Oceanside      </td></tr>\n",
       "\t<tr><td>20180410</td><td>murder</td><td>leaves: ‘I should have liked teaching it tricks very much, if--if I’d\n",
       "                                                                                                                  </td><td>Lorain         </td></tr>\n",
       "\t<tr><td>20180413</td><td>murder</td><td>\n",
       "                                                                                                                                                                                       </td><td>New Orleans    </td></tr>\n",
       "\t<tr><td>20180414</td><td>murder</td><td>‘--so long as I get SOMEWHERE,’ Alice added as an explanation.\n",
       "                                                                                                                         </td><td>Davidson County</td></tr>\n",
       "\t<tr><td>20180415</td><td>murder</td><td>\n",
       "                                                                                                                                                                                       </td><td>Kansas City    </td></tr>\n",
       "\t<tr><td>20180417</td><td>murder</td><td>aloud; and in another moment it was out of sight.\n",
       "                                                                                                                                      </td><td>Winter Haven   </td></tr>\n",
       "\t<tr><td>20180427</td><td>murder</td><td>‘Only a thimble,’ said Alice sadly.\n",
       "                                                                                                                                                    </td><td>St. Petersburg </td></tr>\n",
       "\t<tr><td>20180428</td><td>murder</td><td>wag my tail when I’m angry. Therefore I’m mad.’\n",
       "                                                                                                                                        </td><td>Appleton       </td></tr>\n",
       "\t<tr><td>20180429</td><td>murder</td><td>(she was obliged to say ‘creatures,’ you see, because some of them were\n",
       "                                                                                                                </td><td>Toledo         </td></tr>\n",
       "\t<tr><td>20180430</td><td>murder</td><td>‘But what am I to do?’ said Alice.\n",
       "                                                                                                                                                     </td><td>Spokane        </td></tr>\n",
       "\t<tr><td>20180115</td><td>murder</td><td>Security footage shows that there were 2 witnesses. The first witness lives at the last house on \"Northwestern Dr\". The second witness, named Annabel, lives somewhere on \"Franklin Ave\".</td><td>SQL City       </td></tr>\n",
       "</tbody>\n",
       "</table>\n"
      ],
      "text/latex": [
       "A data.frame: 148 × 4\n",
       "\\begin{tabular}{llll}\n",
       " date & type & description & city\\\\\n",
       " <int> & <chr> & <chr> & <chr>\\\\\n",
       "\\hline\n",
       "\t 20180115 & murder & Life? Dont talk to me about life.                                         & Albany          \\\\\n",
       "\t 20180115 & murder & Mama, I killed a man, put a gun against his head...                       & Reno            \\\\\n",
       "\t 20180215 & murder & REDACTED REDACTED REDACTED                                                & SQL City        \\\\\n",
       "\t 20180215 & murder & Someone killed the guard! He took an arrow to the knee!                   & SQL City        \\\\\n",
       "\t 20170107 & murder & ‘It proves nothing of the sort!’ said Alice. ‘Why, you don’t even know\n",
       "  & Memphis         \\\\\n",
       "\t 20170108 & murder & get” is the same thing as “I get what I like”!’\n",
       "                         & Round Lake Beach\\\\\n",
       "\t 20170108 & murder &        HEARTHRUG,\n",
       "                                                       & Jacksonville    \\\\\n",
       "\t 20170111 & murder & \n",
       "                                                                        & Springdale      \\\\\n",
       "\t 20170121 & murder & her, to pass away the time.\n",
       "                                             & Murfreesboro    \\\\\n",
       "\t 20170122 & murder & came near her, she began, in a low, timid voice, ‘If you please, sir--’\n",
       " & Temecula        \\\\\n",
       "\t 20170124 & murder & about something, my dear, and that makes you forget to talk. I can’t\n",
       "    & Santa Clarita   \\\\\n",
       "\t 20170124 & murder & \n",
       "                                                                        & Waterbury       \\\\\n",
       "\t 20170125 & murder & age knew the meaning of it at all. However, ‘jury-men’ would have done\n",
       "  & Laredo          \\\\\n",
       "\t 20170207 & murder & \n",
       "                                                                        & Amarillo        \\\\\n",
       "\t 20170220 & murder & \n",
       "                                                                        & Colorado Springs\\\\\n",
       "\t 20170220 & murder & knocking, and hurried upstairs, in great fear lest she should meet the\n",
       "  & Madison         \\\\\n",
       "\t 20170221 & murder & ‘I HAVE tasted eggs, certainly,’ said Alice, who was a very truthful\n",
       "    & Chandler        \\\\\n",
       "\t 20170225 & murder & \n",
       "                                                                        & Ontario         \\\\\n",
       "\t 20170227 & murder & name like an honest man.’\n",
       "                                               & Manchester      \\\\\n",
       "\t 20170302 & murder & with the words ‘DRINK ME,’ but nevertheless she uncorked it and put it\n",
       "  & Mobile          \\\\\n",
       "\t 20170304 & murder & \n",
       "                                                                        & Thousand Oaks   \\\\\n",
       "\t 20170308 & murder & ground as she spoke; ‘either you or your head must be off, and that in\n",
       "  & Bonita Springs  \\\\\n",
       "\t 20170322 & murder & ‘Yes,’ said Alice doubtfully: ‘it means--to--make--anything--prettier.’\n",
       " & Syracuse        \\\\\n",
       "\t 20170325 & murder &  “You can really have no notion how delightful it will be\n",
       "               & Denver          \\\\\n",
       "\t 20170326 & murder & \n",
       "                                                                        & Evansville      \\\\\n",
       "\t 20170328 & murder & the poor animal’s feelings. ‘I quite forgot you didn’t like cats.’\n",
       "      & Louisville      \\\\\n",
       "\t 20170329 & murder & had got so much into the way of expecting nothing but out-of-the-way\n",
       "    & Grand Rapids    \\\\\n",
       "\t 20170330 & murder & ‘I don’t know where Dinn may be,’ said the Mock Turtle, ‘but if you’ve\n",
       "  & Paterson        \\\\\n",
       "\t 20170401 & murder & it all seemed quite natural); but when the Rabbit actually TOOK A WATCH\n",
       " & North Charleston\\\\\n",
       "\t 20170403 & murder & \n",
       "                                                                        & Indianapolis    \\\\\n",
       "\t ⋮ & ⋮ & ⋮ & ⋮\\\\\n",
       "\t 20180201 & murder & hookah into its mouth and began smoking again.\n",
       "                                                                                                                                          & North Port     \\\\\n",
       "\t 20180203 & murder & \n",
       "                                                                                                                                                                                        & Normal         \\\\\n",
       "\t 20180209 & murder & ‘Then the words don’t FIT you,’ said the King, looking round the court\n",
       "                                                                                                                  & Kalamazoo      \\\\\n",
       "\t 20180209 & murder & \n",
       "                                                                                                                                                                                        & Boise          \\\\\n",
       "\t 20180214 & murder & \n",
       "                                                                                                                                                                                        & Gilbert        \\\\\n",
       "\t 20180214 & murder & \n",
       "                                                                                                                                                                                        & Scottsdale     \\\\\n",
       "\t 20180215 & murder & The baby grunted again, and Alice looked very anxiously into its face to\n",
       "                                                                                                                & Lexington      \\\\\n",
       "\t 20180225 & murder & \n",
       "                                                                                                                                                                                        & Pompano Beach  \\\\\n",
       "\t 20180227 & murder &      Beau--ootiful Soo--oop!\n",
       "                                                                                                                                                            & Visalia        \\\\\n",
       "\t 20180302 & murder & ‘Shall we try another figure of the Lobster Quadrille?’ the Gryphon went\n",
       "                                                                                                                & Bel Air        \\\\\n",
       "\t 20180311 & murder & \n",
       "                                                                                                                                                                                        & Winter Haven   \\\\\n",
       "\t 20180314 & murder & tone, ‘I’m afraid I’ve offended it again!’ For the Mouse was swimming\n",
       "                                                                                                                   & Baltimore      \\\\\n",
       "\t 20180316 & murder & \n",
       "                                                                                                                                                                                        & Naples         \\\\\n",
       "\t 20180316 & murder & \n",
       "                                                                                                                                                                                        & Tampa          \\\\\n",
       "\t 20180318 & murder & \n",
       "                                                                                                                                                                                        & Austin         \\\\\n",
       "\t 20180319 & murder & away. ‘You insult me by talking such nonsense!’\n",
       "                                                                                                                                         & Fort Collins   \\\\\n",
       "\t 20180325 & murder & ‘You’ll see me there,’ said the Cat, and vanished.\n",
       "                                                                                                                                      & Lake Charles   \\\\\n",
       "\t 20180329 & murder &    Waiting in a hot tureen!\n",
       "                                                                                                                                                             & Duluth         \\\\\n",
       "\t 20180329 & murder & bats eat cats?’ for, you see, as she couldn’t answer either question,\n",
       "                                                                                                                   & Odessa         \\\\\n",
       "\t 20180330 & murder & was not a VERY good opportunity for showing off her knowledge, as there\n",
       "                                                                                                                 & Oceanside      \\\\\n",
       "\t 20180410 & murder & leaves: ‘I should have liked teaching it tricks very much, if--if I’d\n",
       "                                                                                                                   & Lorain         \\\\\n",
       "\t 20180413 & murder & \n",
       "                                                                                                                                                                                        & New Orleans    \\\\\n",
       "\t 20180414 & murder & ‘--so long as I get SOMEWHERE,’ Alice added as an explanation.\n",
       "                                                                                                                          & Davidson County\\\\\n",
       "\t 20180415 & murder & \n",
       "                                                                                                                                                                                        & Kansas City    \\\\\n",
       "\t 20180417 & murder & aloud; and in another moment it was out of sight.\n",
       "                                                                                                                                       & Winter Haven   \\\\\n",
       "\t 20180427 & murder & ‘Only a thimble,’ said Alice sadly.\n",
       "                                                                                                                                                     & St. Petersburg \\\\\n",
       "\t 20180428 & murder & wag my tail when I’m angry. Therefore I’m mad.’\n",
       "                                                                                                                                         & Appleton       \\\\\n",
       "\t 20180429 & murder & (she was obliged to say ‘creatures,’ you see, because some of them were\n",
       "                                                                                                                 & Toledo         \\\\\n",
       "\t 20180430 & murder & ‘But what am I to do?’ said Alice.\n",
       "                                                                                                                                                      & Spokane        \\\\\n",
       "\t 20180115 & murder & Security footage shows that there were 2 witnesses. The first witness lives at the last house on \"Northwestern Dr\". The second witness, named Annabel, lives somewhere on \"Franklin Ave\". & SQL City       \\\\\n",
       "\\end{tabular}\n"
      ],
      "text/markdown": [
       "\n",
       "A data.frame: 148 × 4\n",
       "\n",
       "| date &lt;int&gt; | type &lt;chr&gt; | description &lt;chr&gt; | city &lt;chr&gt; |\n",
       "|---|---|---|---|\n",
       "| 20180115 | murder | Life? Dont talk to me about life.                                         | Albany           |\n",
       "| 20180115 | murder | Mama, I killed a man, put a gun against his head...                       | Reno             |\n",
       "| 20180215 | murder | REDACTED REDACTED REDACTED                                                | SQL City         |\n",
       "| 20180215 | murder | Someone killed the guard! He took an arrow to the knee!                   | SQL City         |\n",
       "| 20170107 | murder | ‘It proves nothing of the sort!’ said Alice. ‘Why, you don’t even know\n",
       "  | Memphis          |\n",
       "| 20170108 | murder | get” is the same thing as “I get what I like”!’\n",
       "                         | Round Lake Beach |\n",
       "| 20170108 | murder |        HEARTHRUG,\n",
       "                                                       | Jacksonville     |\n",
       "| 20170111 | murder | <!----> | Springdale       |\n",
       "| 20170121 | murder | her, to pass away the time.\n",
       "                                             | Murfreesboro     |\n",
       "| 20170122 | murder | came near her, she began, in a low, timid voice, ‘If you please, sir--’\n",
       " | Temecula         |\n",
       "| 20170124 | murder | about something, my dear, and that makes you forget to talk. I can’t\n",
       "    | Santa Clarita    |\n",
       "| 20170124 | murder | <!----> | Waterbury        |\n",
       "| 20170125 | murder | age knew the meaning of it at all. However, ‘jury-men’ would have done\n",
       "  | Laredo           |\n",
       "| 20170207 | murder | <!----> | Amarillo         |\n",
       "| 20170220 | murder | <!----> | Colorado Springs |\n",
       "| 20170220 | murder | knocking, and hurried upstairs, in great fear lest she should meet the\n",
       "  | Madison          |\n",
       "| 20170221 | murder | ‘I HAVE tasted eggs, certainly,’ said Alice, who was a very truthful\n",
       "    | Chandler         |\n",
       "| 20170225 | murder | <!----> | Ontario          |\n",
       "| 20170227 | murder | name like an honest man.’\n",
       "                                               | Manchester       |\n",
       "| 20170302 | murder | with the words ‘DRINK ME,’ but nevertheless she uncorked it and put it\n",
       "  | Mobile           |\n",
       "| 20170304 | murder | <!----> | Thousand Oaks    |\n",
       "| 20170308 | murder | ground as she spoke; ‘either you or your head must be off, and that in\n",
       "  | Bonita Springs   |\n",
       "| 20170322 | murder | ‘Yes,’ said Alice doubtfully: ‘it means--to--make--anything--prettier.’\n",
       " | Syracuse         |\n",
       "| 20170325 | murder |  “You can really have no notion how delightful it will be\n",
       "               | Denver           |\n",
       "| 20170326 | murder | <!----> | Evansville       |\n",
       "| 20170328 | murder | the poor animal’s feelings. ‘I quite forgot you didn’t like cats.’\n",
       "      | Louisville       |\n",
       "| 20170329 | murder | had got so much into the way of expecting nothing but out-of-the-way\n",
       "    | Grand Rapids     |\n",
       "| 20170330 | murder | ‘I don’t know where Dinn may be,’ said the Mock Turtle, ‘but if you’ve\n",
       "  | Paterson         |\n",
       "| 20170401 | murder | it all seemed quite natural); but when the Rabbit actually TOOK A WATCH\n",
       " | North Charleston |\n",
       "| 20170403 | murder | <!----> | Indianapolis     |\n",
       "| ⋮ | ⋮ | ⋮ | ⋮ |\n",
       "| 20180201 | murder | hookah into its mouth and began smoking again.\n",
       "                                                                                                                                          | North Port      |\n",
       "| 20180203 | murder | <!----> | Normal          |\n",
       "| 20180209 | murder | ‘Then the words don’t FIT you,’ said the King, looking round the court\n",
       "                                                                                                                  | Kalamazoo       |\n",
       "| 20180209 | murder | <!----> | Boise           |\n",
       "| 20180214 | murder | <!----> | Gilbert         |\n",
       "| 20180214 | murder | <!----> | Scottsdale      |\n",
       "| 20180215 | murder | The baby grunted again, and Alice looked very anxiously into its face to\n",
       "                                                                                                                | Lexington       |\n",
       "| 20180225 | murder | <!----> | Pompano Beach   |\n",
       "| 20180227 | murder |      Beau--ootiful Soo--oop!\n",
       "                                                                                                                                                            | Visalia         |\n",
       "| 20180302 | murder | ‘Shall we try another figure of the Lobster Quadrille?’ the Gryphon went\n",
       "                                                                                                                | Bel Air         |\n",
       "| 20180311 | murder | <!----> | Winter Haven    |\n",
       "| 20180314 | murder | tone, ‘I’m afraid I’ve offended it again!’ For the Mouse was swimming\n",
       "                                                                                                                   | Baltimore       |\n",
       "| 20180316 | murder | <!----> | Naples          |\n",
       "| 20180316 | murder | <!----> | Tampa           |\n",
       "| 20180318 | murder | <!----> | Austin          |\n",
       "| 20180319 | murder | away. ‘You insult me by talking such nonsense!’\n",
       "                                                                                                                                         | Fort Collins    |\n",
       "| 20180325 | murder | ‘You’ll see me there,’ said the Cat, and vanished.\n",
       "                                                                                                                                      | Lake Charles    |\n",
       "| 20180329 | murder |    Waiting in a hot tureen!\n",
       "                                                                                                                                                             | Duluth          |\n",
       "| 20180329 | murder | bats eat cats?’ for, you see, as she couldn’t answer either question,\n",
       "                                                                                                                   | Odessa          |\n",
       "| 20180330 | murder | was not a VERY good opportunity for showing off her knowledge, as there\n",
       "                                                                                                                 | Oceanside       |\n",
       "| 20180410 | murder | leaves: ‘I should have liked teaching it tricks very much, if--if I’d\n",
       "                                                                                                                   | Lorain          |\n",
       "| 20180413 | murder | <!----> | New Orleans     |\n",
       "| 20180414 | murder | ‘--so long as I get SOMEWHERE,’ Alice added as an explanation.\n",
       "                                                                                                                          | Davidson County |\n",
       "| 20180415 | murder | <!----> | Kansas City     |\n",
       "| 20180417 | murder | aloud; and in another moment it was out of sight.\n",
       "                                                                                                                                       | Winter Haven    |\n",
       "| 20180427 | murder | ‘Only a thimble,’ said Alice sadly.\n",
       "                                                                                                                                                     | St. Petersburg  |\n",
       "| 20180428 | murder | wag my tail when I’m angry. Therefore I’m mad.’\n",
       "                                                                                                                                         | Appleton        |\n",
       "| 20180429 | murder | (she was obliged to say ‘creatures,’ you see, because some of them were\n",
       "                                                                                                                 | Toledo          |\n",
       "| 20180430 | murder | ‘But what am I to do?’ said Alice.\n",
       "                                                                                                                                                      | Spokane         |\n",
       "| 20180115 | murder | Security footage shows that there were 2 witnesses. The first witness lives at the last house on \"Northwestern Dr\". The second witness, named Annabel, lives somewhere on \"Franklin Ave\". | SQL City        |\n",
       "\n"
      ],
      "text/plain": [
       "    date     type  \n",
       "1   20180115 murder\n",
       "2   20180115 murder\n",
       "3   20180215 murder\n",
       "4   20180215 murder\n",
       "5   20170107 murder\n",
       "6   20170108 murder\n",
       "7   20170108 murder\n",
       "8   20170111 murder\n",
       "9   20170121 murder\n",
       "10  20170122 murder\n",
       "11  20170124 murder\n",
       "12  20170124 murder\n",
       "13  20170125 murder\n",
       "14  20170207 murder\n",
       "15  20170220 murder\n",
       "16  20170220 murder\n",
       "17  20170221 murder\n",
       "18  20170225 murder\n",
       "19  20170227 murder\n",
       "20  20170302 murder\n",
       "21  20170304 murder\n",
       "22  20170308 murder\n",
       "23  20170322 murder\n",
       "24  20170325 murder\n",
       "25  20170326 murder\n",
       "26  20170328 murder\n",
       "27  20170329 murder\n",
       "28  20170330 murder\n",
       "29  20170401 murder\n",
       "30  20170403 murder\n",
       "⋮   ⋮        ⋮     \n",
       "119 20180201 murder\n",
       "120 20180203 murder\n",
       "121 20180209 murder\n",
       "122 20180209 murder\n",
       "123 20180214 murder\n",
       "124 20180214 murder\n",
       "125 20180215 murder\n",
       "126 20180225 murder\n",
       "127 20180227 murder\n",
       "128 20180302 murder\n",
       "129 20180311 murder\n",
       "130 20180314 murder\n",
       "131 20180316 murder\n",
       "132 20180316 murder\n",
       "133 20180318 murder\n",
       "134 20180319 murder\n",
       "135 20180325 murder\n",
       "136 20180329 murder\n",
       "137 20180329 murder\n",
       "138 20180330 murder\n",
       "139 20180410 murder\n",
       "140 20180413 murder\n",
       "141 20180414 murder\n",
       "142 20180415 murder\n",
       "143 20180417 murder\n",
       "144 20180427 murder\n",
       "145 20180428 murder\n",
       "146 20180429 murder\n",
       "147 20180430 murder\n",
       "148 20180115 murder\n",
       "    description                                                                                                                                                                              \n",
       "1   Life? Dont talk to me about life.                                                                                                                                                        \n",
       "2   Mama, I killed a man, put a gun against his head...                                                                                                                                      \n",
       "3   REDACTED REDACTED REDACTED                                                                                                                                                               \n",
       "4   Someone killed the guard! He took an arrow to the knee!                                                                                                                                  \n",
       "5   ‘It proves nothing of the sort!’ said Alice. ‘Why, you don’t even know\\n                                                                                                                 \n",
       "6   get” is the same thing as “I get what I like”!’\\n                                                                                                                                        \n",
       "7          HEARTHRUG,\\n                                                                                                                                                                      \n",
       "8   \\n                                                                                                                                                                                       \n",
       "9   her, to pass away the time.\\n                                                                                                                                                            \n",
       "10  came near her, she began, in a low, timid voice, ‘If you please, sir--’\\n                                                                                                                \n",
       "11  about something, my dear, and that makes you forget to talk. I can’t\\n                                                                                                                   \n",
       "12  \\n                                                                                                                                                                                       \n",
       "13  age knew the meaning of it at all. However, ‘jury-men’ would have done\\n                                                                                                                 \n",
       "14  \\n                                                                                                                                                                                       \n",
       "15  \\n                                                                                                                                                                                       \n",
       "16  knocking, and hurried upstairs, in great fear lest she should meet the\\n                                                                                                                 \n",
       "17  ‘I HAVE tasted eggs, certainly,’ said Alice, who was a very truthful\\n                                                                                                                   \n",
       "18  \\n                                                                                                                                                                                       \n",
       "19  name like an honest man.’\\n                                                                                                                                                              \n",
       "20  with the words ‘DRINK ME,’ but nevertheless she uncorked it and put it\\n                                                                                                                 \n",
       "21  \\n                                                                                                                                                                                       \n",
       "22  ground as she spoke; ‘either you or your head must be off, and that in\\n                                                                                                                 \n",
       "23  ‘Yes,’ said Alice doubtfully: ‘it means--to--make--anything--prettier.’\\n                                                                                                                \n",
       "24   “You can really have no notion how delightful it will be\\n                                                                                                                              \n",
       "25  \\n                                                                                                                                                                                       \n",
       "26  the poor animal’s feelings. ‘I quite forgot you didn’t like cats.’\\n                                                                                                                     \n",
       "27  had got so much into the way of expecting nothing but out-of-the-way\\n                                                                                                                   \n",
       "28  ‘I don’t know where Dinn may be,’ said the Mock Turtle, ‘but if you’ve\\n                                                                                                                 \n",
       "29  it all seemed quite natural); but when the Rabbit actually TOOK A WATCH\\n                                                                                                                \n",
       "30  \\n                                                                                                                                                                                       \n",
       "⋮   ⋮                                                                                                                                                                                        \n",
       "119 hookah into its mouth and began smoking again.\\n                                                                                                                                         \n",
       "120 \\n                                                                                                                                                                                       \n",
       "121 ‘Then the words don’t FIT you,’ said the King, looking round the court\\n                                                                                                                 \n",
       "122 \\n                                                                                                                                                                                       \n",
       "123 \\n                                                                                                                                                                                       \n",
       "124 \\n                                                                                                                                                                                       \n",
       "125 The baby grunted again, and Alice looked very anxiously into its face to\\n                                                                                                               \n",
       "126 \\n                                                                                                                                                                                       \n",
       "127      Beau--ootiful Soo--oop!\\n                                                                                                                                                           \n",
       "128 ‘Shall we try another figure of the Lobster Quadrille?’ the Gryphon went\\n                                                                                                               \n",
       "129 \\n                                                                                                                                                                                       \n",
       "130 tone, ‘I’m afraid I’ve offended it again!’ For the Mouse was swimming\\n                                                                                                                  \n",
       "131 \\n                                                                                                                                                                                       \n",
       "132 \\n                                                                                                                                                                                       \n",
       "133 \\n                                                                                                                                                                                       \n",
       "134 away. ‘You insult me by talking such nonsense!’\\n                                                                                                                                        \n",
       "135 ‘You’ll see me there,’ said the Cat, and vanished.\\n                                                                                                                                     \n",
       "136    Waiting in a hot tureen!\\n                                                                                                                                                            \n",
       "137 bats eat cats?’ for, you see, as she couldn’t answer either question,\\n                                                                                                                  \n",
       "138 was not a VERY good opportunity for showing off her knowledge, as there\\n                                                                                                                \n",
       "139 leaves: ‘I should have liked teaching it tricks very much, if--if I’d\\n                                                                                                                  \n",
       "140 \\n                                                                                                                                                                                       \n",
       "141 ‘--so long as I get SOMEWHERE,’ Alice added as an explanation.\\n                                                                                                                         \n",
       "142 \\n                                                                                                                                                                                       \n",
       "143 aloud; and in another moment it was out of sight.\\n                                                                                                                                      \n",
       "144 ‘Only a thimble,’ said Alice sadly.\\n                                                                                                                                                    \n",
       "145 wag my tail when I’m angry. Therefore I’m mad.’\\n                                                                                                                                        \n",
       "146 (she was obliged to say ‘creatures,’ you see, because some of them were\\n                                                                                                                \n",
       "147 ‘But what am I to do?’ said Alice.\\n                                                                                                                                                     \n",
       "148 Security footage shows that there were 2 witnesses. The first witness lives at the last house on \"Northwestern Dr\". The second witness, named Annabel, lives somewhere on \"Franklin Ave\".\n",
       "    city            \n",
       "1   Albany          \n",
       "2   Reno            \n",
       "3   SQL City        \n",
       "4   SQL City        \n",
       "5   Memphis         \n",
       "6   Round Lake Beach\n",
       "7   Jacksonville    \n",
       "8   Springdale      \n",
       "9   Murfreesboro    \n",
       "10  Temecula        \n",
       "11  Santa Clarita   \n",
       "12  Waterbury       \n",
       "13  Laredo          \n",
       "14  Amarillo        \n",
       "15  Colorado Springs\n",
       "16  Madison         \n",
       "17  Chandler        \n",
       "18  Ontario         \n",
       "19  Manchester      \n",
       "20  Mobile          \n",
       "21  Thousand Oaks   \n",
       "22  Bonita Springs  \n",
       "23  Syracuse        \n",
       "24  Denver          \n",
       "25  Evansville      \n",
       "26  Louisville      \n",
       "27  Grand Rapids    \n",
       "28  Paterson        \n",
       "29  North Charleston\n",
       "30  Indianapolis    \n",
       "⋮   ⋮               \n",
       "119 North Port      \n",
       "120 Normal          \n",
       "121 Kalamazoo       \n",
       "122 Boise           \n",
       "123 Gilbert         \n",
       "124 Scottsdale      \n",
       "125 Lexington       \n",
       "126 Pompano Beach   \n",
       "127 Visalia         \n",
       "128 Bel Air         \n",
       "129 Winter Haven    \n",
       "130 Baltimore       \n",
       "131 Naples          \n",
       "132 Tampa           \n",
       "133 Austin          \n",
       "134 Fort Collins    \n",
       "135 Lake Charles    \n",
       "136 Duluth          \n",
       "137 Odessa          \n",
       "138 Oceanside       \n",
       "139 Lorain          \n",
       "140 New Orleans     \n",
       "141 Davidson County \n",
       "142 Kansas City     \n",
       "143 Winter Haven    \n",
       "144 St. Petersburg  \n",
       "145 Appleton        \n",
       "146 Toledo          \n",
       "147 Spokane         \n",
       "148 SQL City        "
      ]
     },
     "metadata": {},
     "output_type": "display_data"
    }
   ],
   "source": [
    "#Example: \n",
    "#Select all records from the table crime_scene_report where type is murder:\n",
    "practice <- dbSendQuery(db, \"SELECT * \n",
    "                        FROM crime_scene_report\n",
    "                        WHERE type='murder'\n",
    "                        \")\n",
    "dbFetch(practice)"
   ]
  },
  {
   "cell_type": "code",
   "execution_count": 17,
   "id": "afa194e0",
   "metadata": {},
   "outputs": [
    {
     "ename": "ERROR",
     "evalue": "Error in parse(text = x, srcfile = src): <text>:4:0: unexpected end of input\n2: practice2 <-\n3: #dbFetch(practice2)\n  ^\n",
     "output_type": "error",
     "traceback": [
      "Error in parse(text = x, srcfile = src): <text>:4:0: unexpected end of input\n2: practice2 <-\n3: #dbFetch(practice2)\n  ^\nTraceback:\n"
     ]
    }
   ],
   "source": [
    "#Select all records from the table drivers_license where the eye color is amber:\n",
    "practice2 <-\n",
    "dbFetch(practice2)"
   ]
  },
  {
   "cell_type": "code",
   "execution_count": 13,
   "id": "e76c0ed5",
   "metadata": {},
   "outputs": [
    {
     "ename": "ERROR",
     "evalue": "Error in eval(expr, envir, enclos): object 'X' not found\n",
     "output_type": "error",
     "traceback": [
      "Error in eval(expr, envir, enclos): object 'X' not found\nTraceback:\n"
     ]
    }
   ],
   "source": [
    "#Select distinct records of eye_color from the table drivers_license:\n",
    "practice3 <- X\n",
    "#dbFetch(practice3)"
   ]
  },
  {
   "cell_type": "code",
   "execution_count": 18,
   "id": "548046ef",
   "metadata": {},
   "outputs": [
    {
     "ename": "ERROR",
     "evalue": "Error in parse(text = x, srcfile = src): <text>:4:0: unexpected end of input\n2: practice4 <- \n3: #dbFetch(practice4)\n  ^\n",
     "output_type": "error",
     "traceback": [
      "Error in parse(text = x, srcfile = src): <text>:4:0: unexpected end of input\n2: practice4 <- \n3: #dbFetch(practice4)\n  ^\nTraceback:\n"
     ]
    }
   ],
   "source": [
    "#Select distinct records of name from the table person:\n",
    "practice4 <- \n",
    "#dbFetch(practice4)"
   ]
  },
  {
   "cell_type": "code",
   "execution_count": 20,
   "id": "7af79b87",
   "metadata": {},
   "outputs": [
    {
     "ename": "ERROR",
     "evalue": "Error in parse(text = x, srcfile = src): <text>:4:0: unexpected end of input\n2: practice5 <- \n3: #dbFetch(practice5)\n  ^\n",
     "output_type": "error",
     "traceback": [
      "Error in parse(text = x, srcfile = src): <text>:4:0: unexpected end of input\n2: practice5 <- \n3: #dbFetch(practice5)\n  ^\nTraceback:\n"
     ]
    }
   ],
   "source": [
    "#Select distinct records of gender AND car_model from the table drivers_license:\n",
    "practice5 <- \n",
    "#dbFetch(practice5)"
   ]
  },
  {
   "cell_type": "code",
   "execution_count": 21,
   "id": "6bc70de6",
   "metadata": {},
   "outputs": [
    {
     "ename": "ERROR",
     "evalue": "Error in h(simpleError(msg, call)): error in evaluating the argument 'res' in selecting a method for function 'dbFetch': object 'practice6' not found\n",
     "output_type": "error",
     "traceback": [
      "Error in h(simpleError(msg, call)): error in evaluating the argument 'res' in selecting a method for function 'dbFetch': object 'practice6' not found\nTraceback:\n",
      "1. dbFetch(practice6)",
      "2. .handleSimpleError(function (cond) \n . .Internal(C_tryCatchHelper(addr, 1L, cond)), \"object 'practice6' not found\", \n .     base::quote(eval(expr, envir, enclos)))",
      "3. h(simpleError(msg, call))"
     ]
    }
   ],
   "source": [
    "#Select distinct records of type and city from the table crime_scene_report:\n",
    "practice6 <- \n",
    "dbFetch(practice6)"
   ]
  },
  {
   "cell_type": "code",
   "execution_count": 22,
   "id": "e66707f2",
   "metadata": {},
   "outputs": [
    {
     "ename": "ERROR",
     "evalue": "Error in h(simpleError(msg, call)): error in evaluating the argument 'res' in selecting a method for function 'dbFetch': object 'practice7' not found\n",
     "output_type": "error",
     "traceback": [
      "Error in h(simpleError(msg, call)): error in evaluating the argument 'res' in selecting a method for function 'dbFetch': object 'practice7' not found\nTraceback:\n",
      "1. dbFetch(practice7)",
      "2. .handleSimpleError(function (cond) \n . .Internal(C_tryCatchHelper(addr, 1L, cond)), \"object 'practice7' not found\", \n .     base::quote(eval(expr, envir, enclos)))",
      "3. h(simpleError(msg, call))"
     ]
    }
   ],
   "source": [
    "#Select all records from table drivers_license where the age is == 48:\n",
    "practice7 <- \n",
    "dbFetch(practice7)"
   ]
  },
  {
   "cell_type": "code",
   "execution_count": 23,
   "id": "8a8d25de",
   "metadata": {},
   "outputs": [
    {
     "ename": "ERROR",
     "evalue": "Error in h(simpleError(msg, call)): error in evaluating the argument 'res' in selecting a method for function 'dbFetch': object 'practice8' not found\n",
     "output_type": "error",
     "traceback": [
      "Error in h(simpleError(msg, call)): error in evaluating the argument 'res' in selecting a method for function 'dbFetch': object 'practice8' not found\nTraceback:\n",
      "1. dbFetch(practice8)",
      "2. .handleSimpleError(function (cond) \n . .Internal(C_tryCatchHelper(addr, 1L, cond)), \"object 'practice8' not found\", \n .     base::quote(eval(expr, envir, enclos)))",
      "3. h(simpleError(msg, call))"
     ]
    }
   ],
   "source": [
    "#Select all records from table drivers_license where the age is less than 48:\n",
    "practice8 <- \n",
    "dbFetch(practice8)"
   ]
  },
  {
   "cell_type": "code",
   "execution_count": 24,
   "id": "d4b76574",
   "metadata": {},
   "outputs": [
    {
     "ename": "ERROR",
     "evalue": "Error in h(simpleError(msg, call)): error in evaluating the argument 'res' in selecting a method for function 'dbFetch': object 'practice8' not found\n",
     "output_type": "error",
     "traceback": [
      "Error in h(simpleError(msg, call)): error in evaluating the argument 'res' in selecting a method for function 'dbFetch': object 'practice8' not found\nTraceback:\n",
      "1. dbFetch(practice8)",
      "2. .handleSimpleError(function (cond) \n . .Internal(C_tryCatchHelper(addr, 1L, cond)), \"object 'practice8' not found\", \n .     base::quote(eval(expr, envir, enclos)))",
      "3. h(simpleError(msg, call))"
     ]
    }
   ],
   "source": [
    "#Select all records from table drivers_license where the age is less than OR equal to 48:\n",
    "#Do you see a difference in the number of rows?\n",
    "practice8 <- \n",
    "dbFetch(practice8)"
   ]
  },
  {
   "cell_type": "code",
   "execution_count": 25,
   "id": "c8957bd0",
   "metadata": {},
   "outputs": [
    {
     "ename": "ERROR",
     "evalue": "Error in h(simpleError(msg, call)): error in evaluating the argument 'res' in selecting a method for function 'dbFetch': object 'practice9' not found\n",
     "output_type": "error",
     "traceback": [
      "Error in h(simpleError(msg, call)): error in evaluating the argument 'res' in selecting a method for function 'dbFetch': object 'practice9' not found\nTraceback:\n",
      "1. dbFetch(practice9)",
      "2. .handleSimpleError(function (cond) \n . .Internal(C_tryCatchHelper(addr, 1L, cond)), \"object 'practice9' not found\", \n .     base::quote(eval(expr, envir, enclos)))",
      "3. h(simpleError(msg, call))"
     ]
    }
   ],
   "source": [
    "#Select all records from table get_fit_now_check_in and order by check_in_date:\n",
    "#Do you see a difference in the number of rows?\n",
    "practice9 <- \n",
    "dbFetch(practice9)"
   ]
  },
  {
   "cell_type": "code",
   "execution_count": 26,
   "id": "684f5625",
   "metadata": {},
   "outputs": [
    {
     "ename": "ERROR",
     "evalue": "Error in h(simpleError(msg, call)): error in evaluating the argument 'res' in selecting a method for function 'dbFetch': object 'practice10' not found\n",
     "output_type": "error",
     "traceback": [
      "Error in h(simpleError(msg, call)): error in evaluating the argument 'res' in selecting a method for function 'dbFetch': object 'practice10' not found\nTraceback:\n",
      "1. dbFetch(practice10)",
      "2. .handleSimpleError(function (cond) \n . .Internal(C_tryCatchHelper(addr, 1L, cond)), \"object 'practice10' not found\", \n .     base::quote(eval(expr, envir, enclos)))",
      "3. h(simpleError(msg, call))"
     ]
    }
   ],
   "source": [
    "#Select all records from table get_fit_now_check_in and order by check_in_date and order by check_in_time:\n",
    "#Do you see a difference in the order of the rows?\n",
    "practice10 <- \n",
    "dbFetch(practice10)"
   ]
  },
  {
   "cell_type": "markdown",
   "id": "a8becde3",
   "metadata": {},
   "source": [
    "Now that we have practiced, let's solve this murder!"
   ]
  },
  {
   "cell_type": "markdown",
   "id": "31ca41f2",
   "metadata": {},
   "source": [
    "All we know at the start of our investigation is the <b>murder</b> occurred on <b>Jan.15, 2018</b> and that it took place in <b>SQL City<b>."
   ]
  },
  {
   "cell_type": "code",
   "execution_count": 46,
   "id": "e1422933",
   "metadata": {},
   "outputs": [
    {
     "data": {
      "text/html": [
       "<table class=\"dataframe\">\n",
       "<caption>A data.frame: 1 × 4</caption>\n",
       "<thead>\n",
       "\t<tr><th scope=col>date</th><th scope=col>type</th><th scope=col>description</th><th scope=col>city</th></tr>\n",
       "\t<tr><th scope=col>&lt;int&gt;</th><th scope=col>&lt;chr&gt;</th><th scope=col>&lt;chr&gt;</th><th scope=col>&lt;chr&gt;</th></tr>\n",
       "</thead>\n",
       "<tbody>\n",
       "\t<tr><td>20180115</td><td>murder</td><td>Security footage shows that there were 2 witnesses. The first witness lives at the last house on \"Northwestern Dr\". The second witness, named Annabel, lives somewhere on \"Franklin Ave\".</td><td>SQL City</td></tr>\n",
       "</tbody>\n",
       "</table>\n"
      ],
      "text/latex": [
       "A data.frame: 1 × 4\n",
       "\\begin{tabular}{llll}\n",
       " date & type & description & city\\\\\n",
       " <int> & <chr> & <chr> & <chr>\\\\\n",
       "\\hline\n",
       "\t 20180115 & murder & Security footage shows that there were 2 witnesses. The first witness lives at the last house on \"Northwestern Dr\". The second witness, named Annabel, lives somewhere on \"Franklin Ave\". & SQL City\\\\\n",
       "\\end{tabular}\n"
      ],
      "text/markdown": [
       "\n",
       "A data.frame: 1 × 4\n",
       "\n",
       "| date &lt;int&gt; | type &lt;chr&gt; | description &lt;chr&gt; | city &lt;chr&gt; |\n",
       "|---|---|---|---|\n",
       "| 20180115 | murder | Security footage shows that there were 2 witnesses. The first witness lives at the last house on \"Northwestern Dr\". The second witness, named Annabel, lives somewhere on \"Franklin Ave\". | SQL City |\n",
       "\n"
      ],
      "text/plain": [
       "  date     type  \n",
       "1 20180115 murder\n",
       "  description                                                                                                                                                                              \n",
       "1 Security footage shows that there were 2 witnesses. The first witness lives at the last house on \"Northwestern Dr\". The second witness, named Annabel, lives somewhere on \"Franklin Ave\".\n",
       "  city    \n",
       "1 SQL City"
      ]
     },
     "metadata": {},
     "output_type": "display_data"
    }
   ],
   "source": [
    "#Write a query in SQL to view the crime scene report \n",
    "#for the murder occurred on Jan.15, 2018 and that it took place in SQL City.\n",
    "#Select ALL records FROM the table WHERE...\n",
    "csr <- dbSendQuery(db, \"SELECT *\n",
    "                        FROM crime_scene_report\n",
    "                        WHERE\n",
    "                            date = '20180115'\n",
    "                        AND city = 'SQL City'\n",
    "                        AND type = 'murder'\n",
    "                        \")\n",
    "dbFetch(csr)"
   ]
  },
  {
   "cell_type": "markdown",
   "id": "b0332e69",
   "metadata": {},
   "source": [
    "Another clue! It looks like we have two witnesses! Now who are they and how do we find them?"
   ]
  },
  {
   "cell_type": "code",
   "execution_count": 27,
   "id": "d7981a60",
   "metadata": {},
   "outputs": [
    {
     "ename": "ERROR",
     "evalue": "Error in h(simpleError(msg, call)): error in evaluating the argument 'res' in selecting a method for function 'dbFetch': object 'first_witness' not found\n",
     "output_type": "error",
     "traceback": [
      "Error in h(simpleError(msg, call)): error in evaluating the argument 'res' in selecting a method for function 'dbFetch': object 'first_witness' not found\nTraceback:\n",
      "1. dbFetch(first_witness)",
      "2. .handleSimpleError(function (cond) \n . .Internal(C_tryCatchHelper(addr, 1L, cond)), \"object 'first_witness' not found\", \n .     base::quote(eval(expr, envir, enclos)))",
      "3. h(simpleError(msg, call))"
     ]
    }
   ],
   "source": [
    "#Write two queries in SQL to find each witness in the person table. \n",
    "#For the first query as first_witness, select all the records from person where the address_street_name \n",
    "#is Northwestern Drive and order by adress_number\n",
    "#Fetch the first_witness\n",
    "first_witness <- \n",
    "dbFetch(first_witness)"
   ]
  },
  {
   "cell_type": "markdown",
   "id": "725b63f4",
   "metadata": {},
   "source": [
    "We have identified our first witness as ________________. Now lets find the second!"
   ]
  },
  {
   "cell_type": "code",
   "execution_count": 28,
   "id": "24bbd804",
   "metadata": {},
   "outputs": [
    {
     "ename": "ERROR",
     "evalue": "Error in h(simpleError(msg, call)): error in evaluating the argument 'res' in selecting a method for function 'dbFetch': object 'second_witness' not found\n",
     "output_type": "error",
     "traceback": [
      "Error in h(simpleError(msg, call)): error in evaluating the argument 'res' in selecting a method for function 'dbFetch': object 'second_witness' not found\nTraceback:\n",
      "1. dbFetch(second_witness)",
      "2. .handleSimpleError(function (cond) \n . .Internal(C_tryCatchHelper(addr, 1L, cond)), \"object 'second_witness' not found\", \n .     base::quote(eval(expr, envir, enclos)))",
      "3. h(simpleError(msg, call))"
     ]
    }
   ],
   "source": [
    "#For the third query as second_witness,\n",
    "#Select all the records from person where the address_street_name is Frnaklin Ave and the name includes Annabel. \n",
    "#Fetch the second_witness\n",
    "second_witness <- \n",
    "dbFetch(second_witness)"
   ]
  },
  {
   "cell_type": "markdown",
   "id": "a1f3aeb5",
   "metadata": {},
   "source": [
    "We have identified our second witness as _________. What were their witness statements? What did they see?"
   ]
  },
  {
   "cell_type": "code",
   "execution_count": 29,
   "id": "f0ccb275",
   "metadata": {},
   "outputs": [
    {
     "ename": "ERROR",
     "evalue": "Error in parse(text = x, srcfile = src): <text>:5:0: unexpected end of input\n3: witness_statements <- dbSendQuery(db, \n4: dbFetch(witness_statements)\n  ^\n",
     "output_type": "error",
     "traceback": [
      "Error in parse(text = x, srcfile = src): <text>:5:0: unexpected end of input\n3: witness_statements <- dbSendQuery(db, \n4: dbFetch(witness_statements)\n  ^\nTraceback:\n"
     ]
    }
   ],
   "source": [
    "#For our fourth query, witness_statements, lets find out what each witness saw...or claim they saw?\n",
    "#Select the peron's name and interview where the person_id is X, X (Get the ID from the above queries)\n",
    "witness_statements <- dbSendQuery(db, \n",
    "dbFetch(witness_statements)"
   ]
  },
  {
   "cell_type": "markdown",
   "id": "fcce7dc4",
   "metadata": {},
   "source": [
    "A few new clues! Explore the different clues with multiple queries. Seems like a reliable statement!"
   ]
  },
  {
   "cell_type": "code",
   "execution_count": 30,
   "id": "9a8007e6",
   "metadata": {},
   "outputs": [
    {
     "ename": "ERROR",
     "evalue": "Error in h(simpleError(msg, call)): error in evaluating the argument 'res' in selecting a method for function 'dbFetch': object 'suspects' not found\n",
     "output_type": "error",
     "traceback": [
      "Error in h(simpleError(msg, call)): error in evaluating the argument 'res' in selecting a method for function 'dbFetch': object 'suspects' not found\nTraceback:\n",
      "1. dbFetch(suspects)",
      "2. .handleSimpleError(function (cond) \n . .Internal(C_tryCatchHelper(addr, 1L, cond)), \"object 'suspects' not found\", \n .     base::quote(eval(expr, envir, enclos)))",
      "3. h(simpleError(msg, call))"
     ]
    }
   ],
   "source": [
    "#Create a query to select for the following clues: (You can create multiple queries or combine them into one and go from there.)\n",
    "#Remember to write our your query in the comments!\n",
    "suspects <- \n",
    "dbFetch (suspects)"
   ]
  },
  {
   "cell_type": "markdown",
   "id": "9737458f",
   "metadata": {},
   "source": [
    "We have a suspect! Lets check their witness statement. Do they have an alibi?"
   ]
  },
  {
   "cell_type": "code",
   "execution_count": 31,
   "id": "9ea71f17",
   "metadata": {},
   "outputs": [
    {
     "ename": "ERROR",
     "evalue": "Error in parse(text = x, srcfile = src): <text>:2:2: unexpected assignment\n1: #Remember to write our your query in the comments!\n2:  <-\n    ^\n",
     "output_type": "error",
     "traceback": [
      "Error in parse(text = x, srcfile = src): <text>:2:2: unexpected assignment\n1: #Remember to write our your query in the comments!\n2:  <-\n    ^\nTraceback:\n"
     ]
    }
   ],
   "source": [
    "#Remember to write our your query in the comments!\n",
    " <- \n",
    "dbFetch()"
   ]
  },
  {
   "cell_type": "markdown",
   "id": "323c42e5",
   "metadata": {},
   "source": [
    "Uh oh...turns out it wasn't just one person behind the crime...who is this additional person involved?"
   ]
  },
  {
   "cell_type": "code",
   "execution_count": 32,
   "id": "585c09e8",
   "metadata": {},
   "outputs": [
    {
     "ename": "ERROR",
     "evalue": "Error in parse(text = x, srcfile = src): <text>:4:2: unexpected assignment\n3: \n4:  <-\n    ^\n",
     "output_type": "error",
     "traceback": [
      "Error in parse(text = x, srcfile = src): <text>:4:2: unexpected assignment\n3: \n4:  <-\n    ^\nTraceback:\n"
     ]
    }
   ],
   "source": [
    "#Remember to write our your query in the comments!\n",
    "#You can complete this in a single query or multiple queries.\n",
    "\n",
    " <- \n",
    "\n",
    "dbFetch()"
   ]
  },
  {
   "cell_type": "markdown",
   "id": "4aaba561",
   "metadata": {},
   "source": [
    "Three different people match this description! Now which one attended the SQL Symphony Concert three times? "
   ]
  },
  {
   "cell_type": "code",
   "execution_count": 33,
   "id": "bed1e118",
   "metadata": {},
   "outputs": [
    {
     "ename": "ERROR",
     "evalue": "Error in parse(text = x, srcfile = src): <text>:6:0: unexpected end of input\n4: \n5: dbFetch(murderer)\n  ^\n",
     "output_type": "error",
     "traceback": [
      "Error in parse(text = x, srcfile = src): <text>:6:0: unexpected end of input\n4: \n5: dbFetch(murderer)\n  ^\nTraceback:\n"
     ]
    }
   ],
   "source": [
    "#Let's find the killer!\n",
    "#Remember to write our your query in the comments!\n",
    "murderer <- dbSendQuery(db, \n",
    "\n",
    "dbFetch(murderer)"
   ]
  },
  {
   "cell_type": "markdown",
   "id": "11abc489",
   "metadata": {},
   "source": [
    "<b>The murderer(s) is/are:</b>"
   ]
  },
  {
   "cell_type": "code",
   "execution_count": 109,
   "id": "c89e4d60",
   "metadata": {},
   "outputs": [
    {
     "name": "stderr",
     "output_type": "stream",
     "text": [
      "Warning message in connection_release(conn@ptr):\n",
      "“There are 1 result in use. The connection will be released when they are closed”\n"
     ]
    }
   ],
   "source": [
    "#Disconnect from the database. Always remember to disconnect :) \n",
    "dbDisconnect(db)"
   ]
  },
  {
   "cell_type": "code",
   "execution_count": null,
   "id": "b5045b4d",
   "metadata": {},
   "outputs": [],
   "source": []
  }
 ],
 "metadata": {
  "kernelspec": {
   "display_name": "Python 3 (ipykernel)",
   "language": "python",
   "name": "python3"
  },
  "language_info": {
   "codemirror_mode": {
    "name": "ipython",
    "version": 3
   },
   "file_extension": ".py",
   "mimetype": "text/x-python",
   "name": "python",
   "nbconvert_exporter": "python",
   "pygments_lexer": "ipython3",
   "version": "3.11.5"
  }
 },
 "nbformat": 4,
 "nbformat_minor": 5
}
