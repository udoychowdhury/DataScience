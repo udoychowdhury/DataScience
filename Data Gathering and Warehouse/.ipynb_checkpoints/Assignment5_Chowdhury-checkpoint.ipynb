{
 "cells": [
  {
   "cell_type": "markdown",
   "id": "76827fdb",
   "metadata": {},
   "source": [
    "# Assignment #5 - Data Gathering and Warehousing - DSSA-5102\n",
    "\n",
    "Instructor: Melissa Laurino</br>\n",
    "Spring 2024</br>\n",
    "\n",
    "Name:\n",
    "</br>\n",
    "Date:\n",
    "<br>\n",
    "<br>\n",
    "<b>Only Murders in the...Database?</b><br>\n",
    "An introduction to navigating SQL databases using R and Jupyter Notebook. <br>\n",
    "<br>\n",
    "Congrats! You have solved the murder from Assignment #4, let's practice more queries in SQL City! <br>\n",
    "<br>\n",
    "Your task for <b>Assignment #5</b> is to complete the following objectives:<br>\n",
    "<b>--</b>You are a data scientist that was hired by SQL City. Your objectives are as follows:<br>\n",
    "<b>---</b>Objective 1: The town is willing to fund more training for officers in SQL City based on the type of crime that is most committed. The training would help them identify the clues that indicate these two types upon arrival on a crime scene. As a data scientist, what crime type would you advise needs more training for officers in SQL city? What crime was committed the most in SQL City within the database date range? Save your query as a dataframe and quickly add a ggplot2 bar graph visual to support your recommendation.<br>\n",
    "<b>--</b>Objective 2: The town has also received more funding to encourage DOUBLE overtime for officers in SQL City during the month with the highest crime rate through out the date range of the database. What month would you advise the town to encourage officer overtime? <br>\n",
    "<b>--</b>Objective 3: To thank the officers for their extra training and overtime, the town will pay for their monthly gym membership. They want to give the officers the membership that the least amount of civilians have to avoid being recognized daily as the town heros. The membership can be used in any town. What membership does the town give them?<br><br>\n",
    "<b>--</b>Add detailed comments to explain EVERY query or SQL command you use while we are still learning and practicing. I have my steps outlined, but please add more cells inbetween for additional queries! There is no limit on the number of queries you can use. <br>\n",
    "<b>--</b>For each query include comments such as \"SELECT all records FROM table WHERE column name = X\"<br>\n",
    "<b>--</b>Answer any prompts in markdown cells.<br>\n",
    "\n",
    "Recommended Readings: Chapters 4-7 in Getting Started with SQL by Thomas Nield<br><br>\n",
    "\n",
    "Basic usage of database commands in R with SQLite library: https://rsqlite.r-dbi.org/\n",
    "SQL Dictionary: https://www.w3schools.com/sql/sql_ref_join.asp\n",
    "\n",
    "This fabulous database was created by @NUKnightLab on Github and can be found here: https://github.com/NUKnightLab/sql-mysteries\n"
   ]
  },
  {
   "cell_type": "code",
   "execution_count": 1,
   "id": "5e4ae281",
   "metadata": {},
   "outputs": [],
   "source": [
    "import sqlite3\n",
    "import pandas as pd\n",
    "\n",
    "# So there is no restrictions when looking at data\n",
    "pd.set_option('display.max_colwidth', None)  \n",
    "pd.set_option('display.max_columns', None)\n",
    "pd.set_option('display.max_rows', None)"
   ]
  },
  {
   "cell_type": "code",
   "execution_count": 2,
   "id": "89bc8e32",
   "metadata": {},
   "outputs": [],
   "source": [
    "# Connect to the .db file using sqlite3\n",
    "db_connection = sqlite3.connect('sql-murder-mystery.db')"
   ]
  },
  {
   "cell_type": "code",
   "execution_count": 3,
   "id": "3850f72a",
   "metadata": {},
   "outputs": [
    {
     "name": "stdout",
     "output_type": "stream",
     "text": [
      "['user', 'value']\n"
     ]
    }
   ],
   "source": [
    "#What are the column names for each table? What table will help us get to the next clue?\n",
    "# Specify table\n",
    "table_name = 'solution'\n",
    "\n",
    "query = f\"SELECT * FROM {table_name} LIMIT 1;\"\n",
    "df = pd.read_sql_query(query, db_connection)\n",
    "\n",
    "# Put column names into a df\n",
    "column_names = df.columns.tolist()\n",
    "print(column_names)\n",
    " \n",
    "# Below are tables and their columns\n",
    "# crime_scene_report\n",
    "    # ['date', 'type', 'description', 'city']\n",
    "# drivers_license\n",
    "    # ['id', 'age', 'height', 'eye_color', 'hair_color', 'gender', 'plate_number', 'car_make', 'car_model']\n",
    "# person\n",
    "    # ['id', 'name', 'license_id', 'address_number', 'address_street_name', 'ssn']\n",
    "# facebook_event_checkin\n",
    "    # ['person_id', 'event_id', 'event_name', 'date']\n",
    "# interview\n",
    "    # ['person_id', 'transcript']\n",
    "# get_fit_now_member\n",
    "    # ['id', 'person_id', 'name', 'membership_start_date', 'membership_status']\n",
    "# get_fit_now_check_in\n",
    "    # ['membership_id', 'check_in_date', 'check_in_time', 'check_out_time']\n",
    "# income\n",
    "    # ['ssn', 'annual_income']\n",
    "# solution\n",
    "    # ['user', 'value']"
   ]
  },
  {
   "cell_type": "markdown",
   "id": "25e53d9b",
   "metadata": {},
   "source": [
    "We can use the COUNT command to explore our queries further. COUNT will count the number of records that meet the specified criteria.\n",
    "Additional examples using COUNT: https://www.w3schools.com/sql/sql_count.asp"
   ]
  },
  {
   "cell_type": "code",
   "execution_count": 5,
   "id": "20476b98",
   "metadata": {},
   "outputs": [
    {
     "ename": "SyntaxError",
     "evalue": "unterminated string literal (detected at line 12) (3058953596.py, line 12)",
     "output_type": "error",
     "traceback": [
      "\u001b[0;36m  Cell \u001b[0;32mIn[5], line 12\u001b[0;36m\u001b[0m\n\u001b[0;31m    LIMIT 10;\"\"\"\"\u001b[0m\n\u001b[0m                ^\u001b[0m\n\u001b[0;31mSyntaxError\u001b[0m\u001b[0;31m:\u001b[0m unterminated string literal (detected at line 12)\n"
     ]
    }
   ],
   "source": [
    "#Practice analyzing COUNTS in data tables with SQL queries:\n",
    "#Brainstorming for Objective 1\n",
    "#We can find the top ten cities within our Murder Mystery database that had the most crimes by using the COUNT SQL command.\n",
    "#SELECT the cities that have the most counts within the table crime_scene_report and\n",
    "#GROUP the results BY city and ORDER BY a DESC count, only show a limit of 10 records:\n",
    "                               \n",
    "query = \"\"\"\"\n",
    "SELECT city, COUNT(*) as count\n",
    "From crime_scene_report\n",
    "GROUP BY city\n",
    "ORDER BY count DESC\n",
    "LIMIT 10;\"\"\"\"\n",
    "df = pd.read_sql_query(query, db_connection)\n",
    "\n",
    "print(df)\n",
    "\n",
    "#Looks like SQL City and Murfeesboro have the highest number of crimes! \n",
    "\n",
    "#Use COUNT(*) as count to determine the answers to the objectives below. \n",
    "                               \n",
    "                               "
   ]
  },
  {
   "cell_type": "markdown",
   "id": "93702940",
   "metadata": {},
   "source": [
    "<b>Objective 1:</b> The town is willing to fund more training for officers in SQL City based on the type of crime that is most committed. The training would help them identify the clues that indicate these two types upon arrival on a crime scene. As a data scientist, what crime type would you advise needs more training for officers in SQL city? What crime was committed the most in SQL City within the database date range? Save your query as a dataframe and quickly add a ggplot2 bar graph visual to support your recommendation."
   ]
  },
  {
   "cell_type": "code",
   "execution_count": 5,
   "id": "2079946e",
   "metadata": {},
   "outputs": [],
   "source": [
    "#Quick graphing library for a visual for objective 1:\n",
    "library('ggplot2')"
   ]
  },
  {
   "cell_type": "code",
   "execution_count": 7,
   "id": "dc9a43c8",
   "metadata": {},
   "outputs": [
    {
     "name": "stderr",
     "output_type": "stream",
     "text": [
      "Warning message:\n",
      "“Closing open result set, pending rows”\n"
     ]
    },
    {
     "ename": "ERROR",
     "evalue": "Error: not an error\n",
     "output_type": "error",
     "traceback": [
      "Error: not an error\nTraceback:\n",
      "1. dbSendQuery(db, \"\\n                                \")",
      "2. dbSendQuery(db, \"\\n                                \")",
      "3. .local(conn, statement, ...)",
      "4. new(\"SQLiteResult\", sql = statement, ptr = result_create(conn@ptr, \n .     statement), conn = conn, bigint = conn@bigint)",
      "5. initialize(value, ...)",
      "6. initialize(value, ...)",
      "7. result_create(conn@ptr, statement)"
     ]
    }
   ],
   "source": [
    "objective1 <- dbSendQuery(db, \"\n",
    "                                \")\n",
    "#Save our query into a dataframe that we can use to visualize results in ggplot2:\n",
    "objective1_dataframe <- dbFetch(objective1)\n",
    "print(objective1_dataframe)"
   ]
  },
  {
   "cell_type": "code",
   "execution_count": null,
   "id": "e99bfad0",
   "metadata": {},
   "outputs": [],
   "source": [
    "#Graph our results:\n",
    "\n",
    "\n"
   ]
  },
  {
   "cell_type": "markdown",
   "id": "a8007ef0",
   "metadata": {},
   "source": [
    "Answer:"
   ]
  },
  {
   "cell_type": "markdown",
   "id": "f8df6bf8",
   "metadata": {},
   "source": [
    "<b>Objective 2:</b> The town has also received more funding to encourage DOUBLE overtime for officers in SQL City during the month with the highest crime rate through out the date range of the database. What month would you advise the town to encourage officer overtime?"
   ]
  },
  {
   "cell_type": "code",
   "execution_count": null,
   "id": "02dcba2e",
   "metadata": {},
   "outputs": [],
   "source": [
    "objective2 <- \n",
    "\n",
    "\n"
   ]
  },
  {
   "cell_type": "markdown",
   "id": "b5524834",
   "metadata": {},
   "source": [
    "Answer:"
   ]
  },
  {
   "cell_type": "markdown",
   "id": "51313b07",
   "metadata": {},
   "source": [
    "<b>Objective 3:</b> To thank the officers for their extra training and overtime, the town will pay for their monthly gym membership. They want to give the officers the membership that the least amount of civilians have to avoid being recognized daily as the town heros. The membership can be used in any town. What membership does the town give them?"
   ]
  },
  {
   "cell_type": "code",
   "execution_count": null,
   "id": "317f86a1",
   "metadata": {},
   "outputs": [],
   "source": [
    "objective3 <- \n",
    "\n"
   ]
  },
  {
   "cell_type": "markdown",
   "id": "d3519f15",
   "metadata": {},
   "source": [
    "Answer:"
   ]
  },
  {
   "cell_type": "code",
   "execution_count": null,
   "id": "68e82785",
   "metadata": {},
   "outputs": [],
   "source": [
    "#Disconnect from the database. Always remember to disconnect :) \n",
    "\n"
   ]
  }
 ],
 "metadata": {
  "kernelspec": {
   "display_name": "Python 3 (ipykernel)",
   "language": "python",
   "name": "python3"
  },
  "language_info": {
   "codemirror_mode": {
    "name": "ipython",
    "version": 3
   },
   "file_extension": ".py",
   "mimetype": "text/x-python",
   "name": "python",
   "nbconvert_exporter": "python",
   "pygments_lexer": "ipython3",
   "version": "3.11.5"
  }
 },
 "nbformat": 4,
 "nbformat_minor": 5
}
