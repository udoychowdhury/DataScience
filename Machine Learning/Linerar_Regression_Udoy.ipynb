{
 "cells": [
  {
   "cell_type": "markdown",
   "metadata": {},
   "source": [
    "## Assignment 1: Linear Regression"
   ]
  },
  {
   "cell_type": "markdown",
   "metadata": {},
   "source": [
    "Download the dssa5201_annual_revenue_inference.csv file on Blackboard. This dataset contains actual data of number of employees, time in business and annual revenue of various businesses from across the United States. The goal is to build a multi-variate linear regression model that attempts to use number of employees and time in business to predict the annual revenue of a business. Your submission will be assessed on code completeness and details of code commentary. As a heads up, the predictive capability I anticipate will not be exceptionally accurate due to the complexity of the problem is wanting moreso than two independent variables, however, this is an excellent exercise to understand how to implement an end-to-end linear regression model.\n",
    "Please rationalize your code step-by-step with insightful commentary in your code blocks, and submit a completed and annotated Jupyter notebook in the Assignment 1 item on Blackboard."
   ]
  },
  {
   "cell_type": "markdown",
   "metadata": {},
   "source": [
    "#### Imports"
   ]
  },
  {
   "cell_type": "code",
   "execution_count": 1,
   "metadata": {},
   "outputs": [],
   "source": [
    "# Data Handling\n",
    "import pandas as pd\n",
    "import numpy as np\n",
    "\n",
    "# Data Visualization\n",
    "import matplotlib.pyplot as plt\n",
    "import seaborn as sns\n",
    "\n",
    "# Train test split\n",
    "from sklearn.model_selection import train_test_split\n",
    "\n",
    "# Imputer for missing data\n",
    "from sklearn.impute import SimpleImputer\n",
    "\n",
    "# Standard scaler\n",
    "    # change scale/magnitudes of data to 0 - 1; \n",
    "    # z = (x - u) / s, \n",
    "    # x = value, \n",
    "    # u = mean of training samples, \n",
    "    # s = stdev\n",
    "from sklearn.preprocessing import StandardScaler\n",
    "\n",
    "# Display Restrictions\n",
    "pd.set_option('display.max_columns', None)  \n",
    "pd.set_option('display.width', None) "
   ]
  },
  {
   "cell_type": "markdown",
   "metadata": {},
   "source": [
    "#### Read File"
   ]
  },
  {
   "cell_type": "code",
   "execution_count": 2,
   "metadata": {},
   "outputs": [
    {
     "name": "stdout",
     "output_type": "stream",
     "text": [
      "(791242, 4)\n"
     ]
    },
    {
     "data": {
      "text/html": [
       "<div>\n",
       "<style scoped>\n",
       "    .dataframe tbody tr th:only-of-type {\n",
       "        vertical-align: middle;\n",
       "    }\n",
       "\n",
       "    .dataframe tbody tr th {\n",
       "        vertical-align: top;\n",
       "    }\n",
       "\n",
       "    .dataframe thead th {\n",
       "        text-align: right;\n",
       "    }\n",
       "</style>\n",
       "<table border=\"1\" class=\"dataframe\">\n",
       "  <thead>\n",
       "    <tr style=\"text-align: right;\">\n",
       "      <th></th>\n",
       "      <th>company_record_id</th>\n",
       "      <th>estimated_number_employees</th>\n",
       "      <th>time_in_business</th>\n",
       "      <th>annual_revenue</th>\n",
       "    </tr>\n",
       "  </thead>\n",
       "  <tbody>\n",
       "    <tr>\n",
       "      <th>0</th>\n",
       "      <td>4e6f6c1c-930b-401b-9d41-160b21beaf82-W3VAj2fkn...</td>\n",
       "      <td>4</td>\n",
       "      <td>48</td>\n",
       "      <td>NaN</td>\n",
       "    </tr>\n",
       "    <tr>\n",
       "      <th>1</th>\n",
       "      <td>7e7afb56-92da-4a95-b884-df7cc7a1ed3e-SBUho6F8i...</td>\n",
       "      <td>3</td>\n",
       "      <td>10</td>\n",
       "      <td>NaN</td>\n",
       "    </tr>\n",
       "    <tr>\n",
       "      <th>2</th>\n",
       "      <td>b798c1ac-7d85-43b8-b9c2-ea1a3b493d41-SBUho6F8i...</td>\n",
       "      <td>3</td>\n",
       "      <td>23</td>\n",
       "      <td>NaN</td>\n",
       "    </tr>\n",
       "    <tr>\n",
       "      <th>3</th>\n",
       "      <td>789afae7-138a-4a3c-80dd-1ef54651f7f2-8Mrkv62pC...</td>\n",
       "      <td>1</td>\n",
       "      <td>10</td>\n",
       "      <td>NaN</td>\n",
       "    </tr>\n",
       "    <tr>\n",
       "      <th>4</th>\n",
       "      <td>34593385-a7a0-45c7-9b03-a9e21202f7f2-f97BTCYPv...</td>\n",
       "      <td>30</td>\n",
       "      <td>9</td>\n",
       "      <td>NaN</td>\n",
       "    </tr>\n",
       "  </tbody>\n",
       "</table>\n",
       "</div>"
      ],
      "text/plain": [
       "                                   company_record_id  \\\n",
       "0  4e6f6c1c-930b-401b-9d41-160b21beaf82-W3VAj2fkn...   \n",
       "1  7e7afb56-92da-4a95-b884-df7cc7a1ed3e-SBUho6F8i...   \n",
       "2  b798c1ac-7d85-43b8-b9c2-ea1a3b493d41-SBUho6F8i...   \n",
       "3  789afae7-138a-4a3c-80dd-1ef54651f7f2-8Mrkv62pC...   \n",
       "4  34593385-a7a0-45c7-9b03-a9e21202f7f2-f97BTCYPv...   \n",
       "\n",
       "   estimated_number_employees  time_in_business  annual_revenue  \n",
       "0                           4                48             NaN  \n",
       "1                           3                10             NaN  \n",
       "2                           3                23             NaN  \n",
       "3                           1                10             NaN  \n",
       "4                          30                 9             NaN  "
      ]
     },
     "execution_count": 2,
     "metadata": {},
     "output_type": "execute_result"
    }
   ],
   "source": [
    "originaldf = pd.read_csv('dssa5201_annual_revenue_inference.csv')\n",
    "print(originaldf.shape)\n",
    "originaldf.head()"
   ]
  },
  {
   "cell_type": "markdown",
   "metadata": {},
   "source": [
    "#### Do initial Visualizations"
   ]
  },
  {
   "cell_type": "code",
   "execution_count": 3,
   "metadata": {},
   "outputs": [
    {
     "data": {
      "text/plain": [
       "Text(0, 0.5, 'Frequency')"
      ]
     },
     "execution_count": 3,
     "metadata": {},
     "output_type": "execute_result"
    },
    {
     "data": {
      "image/png": "[encoded data removed]",
      "text/plain": [
       "<Figure size 720x432 with 1 Axes>"
      ]
     },
     "metadata": {
      "needs_background": "light"
     },
     "output_type": "display_data"
    }
   ],
   "source": [
    "# Visualize the distribution of the target variable, annual_revenue\n",
    "\n",
    "    # Randomly select 1000 rows\n",
    "subsample_df = originaldf.sample(n=1000, random_state=42)\n",
    "\n",
    "plt.figure(figsize=(10, 6))\n",
    "    # KDE is Kernal Density Estimation\n",
    "        # Provides a curve instead of bars\n",
    "        # Removes the need of specifying bins for histograms\n",
    "sns.histplot(subsample_df['annual_revenue'], kde=True)\n",
    "plt.title('Distribution of Annual Revenue')\n",
    "plt.xlabel('Annual Revenue')\n",
    "plt.ylabel('Frequency')"
   ]
  },
  {
   "cell_type": "code",
   "execution_count": 3,
   "metadata": {},
   "outputs": [
    {
     "data": {
      "text/plain": [
       "Text(0, 0.5, 'Annual Revenue ($)')"
      ]
     },
     "execution_count": 3,
     "metadata": {},
     "output_type": "execute_result"
    },
    {
     "data": {
      "image/png": "[encoded data removed]",
      "text/plain": [
       "<Figure size 720x432 with 1 Axes>"
      ]
     },
     "metadata": {
      "needs_background": "light"
     },
     "output_type": "display_data"
    }
   ],
   "source": [
    "# Scatter plot for Annual Revenue vs. Time in Business/Estimated Number of Employees (considering these are key features)\n",
    "plt.figure(figsize=(10, 6))\n",
    "sns.scatterplot(data=originaldf, x='time_in_business', y='annual_revenue')\n",
    "plt.title('Annual Revenue vs. Time in Business')\n",
    "plt.xlabel('Time in Business (years)')\n",
    "plt.ylabel('Annual Revenue ($)')"
   ]
  },
  {
   "cell_type": "code",
   "execution_count": 4,
   "metadata": {},
   "outputs": [
    {
     "data": {
      "text/html": [
       "<div>\n",
       "<style scoped>\n",
       "    .dataframe tbody tr th:only-of-type {\n",
       "        vertical-align: middle;\n",
       "    }\n",
       "\n",
       "    .dataframe tbody tr th {\n",
       "        vertical-align: top;\n",
       "    }\n",
       "\n",
       "    .dataframe thead th {\n",
       "        text-align: right;\n",
       "    }\n",
       "</style>\n",
       "<table border=\"1\" class=\"dataframe\">\n",
       "  <thead>\n",
       "    <tr style=\"text-align: right;\">\n",
       "      <th></th>\n",
       "      <th>company_record_id</th>\n",
       "      <th>estimated_number_employees</th>\n",
       "      <th>time_in_business</th>\n",
       "      <th>annual_revenue</th>\n",
       "    </tr>\n",
       "  </thead>\n",
       "  <tbody>\n",
       "    <tr>\n",
       "      <th>0</th>\n",
       "      <td>4e6f6c1c-930b-401b-9d41-160b21beaf82-W3VAj2fkn...</td>\n",
       "      <td>4</td>\n",
       "      <td>48</td>\n",
       "      <td>NaN</td>\n",
       "    </tr>\n",
       "    <tr>\n",
       "      <th>1</th>\n",
       "      <td>7e7afb56-92da-4a95-b884-df7cc7a1ed3e-SBUho6F8i...</td>\n",
       "      <td>3</td>\n",
       "      <td>10</td>\n",
       "      <td>NaN</td>\n",
       "    </tr>\n",
       "    <tr>\n",
       "      <th>2</th>\n",
       "      <td>b798c1ac-7d85-43b8-b9c2-ea1a3b493d41-SBUho6F8i...</td>\n",
       "      <td>3</td>\n",
       "      <td>23</td>\n",
       "      <td>NaN</td>\n",
       "    </tr>\n",
       "    <tr>\n",
       "      <th>3</th>\n",
       "      <td>789afae7-138a-4a3c-80dd-1ef54651f7f2-8Mrkv62pC...</td>\n",
       "      <td>1</td>\n",
       "      <td>10</td>\n",
       "      <td>NaN</td>\n",
       "    </tr>\n",
       "    <tr>\n",
       "      <th>4</th>\n",
       "      <td>34593385-a7a0-45c7-9b03-a9e21202f7f2-f97BTCYPv...</td>\n",
       "      <td>30</td>\n",
       "      <td>9</td>\n",
       "      <td>NaN</td>\n",
       "    </tr>\n",
       "    <tr>\n",
       "      <th>...</th>\n",
       "      <td>...</td>\n",
       "      <td>...</td>\n",
       "      <td>...</td>\n",
       "      <td>...</td>\n",
       "    </tr>\n",
       "    <tr>\n",
       "      <th>791237</th>\n",
       "      <td>86fe85d3-967f-482e-a93d-371035797ed1-SBUho6F8i...</td>\n",
       "      <td>1</td>\n",
       "      <td>7</td>\n",
       "      <td>NaN</td>\n",
       "    </tr>\n",
       "    <tr>\n",
       "      <th>791238</th>\n",
       "      <td>00cbcebf-23b1-4fa8-bade-287a85bff6c3-SBUho6F8i...</td>\n",
       "      <td>18</td>\n",
       "      <td>4</td>\n",
       "      <td>NaN</td>\n",
       "    </tr>\n",
       "    <tr>\n",
       "      <th>791239</th>\n",
       "      <td>8a3796f0-6427-4f86-adbc-98c81dd082e7-SBUho6F8i...</td>\n",
       "      <td>97</td>\n",
       "      <td>32</td>\n",
       "      <td>26185000.0</td>\n",
       "    </tr>\n",
       "    <tr>\n",
       "      <th>791240</th>\n",
       "      <td>9477e2be-fe0a-41a7-98bf-602e3f2da021-8Mrkv62pC...</td>\n",
       "      <td>1</td>\n",
       "      <td>32</td>\n",
       "      <td>27314000.0</td>\n",
       "    </tr>\n",
       "    <tr>\n",
       "      <th>791241</th>\n",
       "      <td>350aa59d-c8cd-422e-9298-5e2f124d7073-7jrZye2KJ...</td>\n",
       "      <td>6</td>\n",
       "      <td>6</td>\n",
       "      <td>NaN</td>\n",
       "    </tr>\n",
       "  </tbody>\n",
       "</table>\n",
       "<p>791242 rows × 4 columns</p>\n",
       "</div>"
      ],
      "text/plain": [
       "                                        company_record_id  \\\n",
       "0       4e6f6c1c-930b-401b-9d41-160b21beaf82-W3VAj2fkn...   \n",
       "1       7e7afb56-92da-4a95-b884-df7cc7a1ed3e-SBUho6F8i...   \n",
       "2       b798c1ac-7d85-43b8-b9c2-ea1a3b493d41-SBUho6F8i...   \n",
       "3       789afae7-138a-4a3c-80dd-1ef54651f7f2-8Mrkv62pC...   \n",
       "4       34593385-a7a0-45c7-9b03-a9e21202f7f2-f97BTCYPv...   \n",
       "...                                                   ...   \n",
       "791237  86fe85d3-967f-482e-a93d-371035797ed1-SBUho6F8i...   \n",
       "791238  00cbcebf-23b1-4fa8-bade-287a85bff6c3-SBUho6F8i...   \n",
       "791239  8a3796f0-6427-4f86-adbc-98c81dd082e7-SBUho6F8i...   \n",
       "791240  9477e2be-fe0a-41a7-98bf-602e3f2da021-8Mrkv62pC...   \n",
       "791241  350aa59d-c8cd-422e-9298-5e2f124d7073-7jrZye2KJ...   \n",
       "\n",
       "        estimated_number_employees  time_in_business  annual_revenue  \n",
       "0                                4                48             NaN  \n",
       "1                                3                10             NaN  \n",
       "2                                3                23             NaN  \n",
       "3                                1                10             NaN  \n",
       "4                               30                 9             NaN  \n",
       "...                            ...               ...             ...  \n",
       "791237                           1                 7             NaN  \n",
       "791238                          18                 4             NaN  \n",
       "791239                          97                32      26185000.0  \n",
       "791240                           1                32      27314000.0  \n",
       "791241                           6                 6             NaN  \n",
       "\n",
       "[791242 rows x 4 columns]"
      ]
     },
     "execution_count": 4,
     "metadata": {},
     "output_type": "execute_result"
    }
   ],
   "source": [
    "originaldf"
   ]
  },
  {
   "cell_type": "markdown",
   "metadata": {},
   "source": [
    "#### Split the Data"
   ]
  },
  {
   "cell_type": "code",
   "execution_count": 5,
   "metadata": {},
   "outputs": [],
   "source": [
    "# Initial Data Split: 80/20\n",
    "\n",
    "# All features are in x\n",
    "x = originaldf.drop('annual_revenue', axis=1)  \n",
    "# Target variable is in y\n",
    "Y = originaldf['annual_revenue']  \n",
    "\n",
    "# Split the data into training and testing sets \n",
    "    # Random state means it will split the data the same way everytime\n",
    "X_train, X_test, y_train, y_test = train_test_split(x, Y, test_size=0.2, random_state=42)\n",
    "\n",
    "# Reset the indexes of the training and testing sets\n",
    "X_train = X_train.reset_index(drop=True)\n",
    "X_test = X_test.reset_index(drop=True)\n",
    "y_train = y_train.reset_index(drop=True)\n",
    "y_test = y_test.reset_index(drop=True)"
   ]
  },
  {
   "cell_type": "markdown",
   "metadata": {},
   "source": [
    "#### Proccess the File"
   ]
  },
  {
   "cell_type": "markdown",
   "metadata": {},
   "source": [
    "Drop Unneeded Column"
   ]
  },
  {
   "cell_type": "code",
   "execution_count": 6,
   "metadata": {},
   "outputs": [],
   "source": [
    "# Drop 'company_record_id' from both the training and testing sets\n",
    "    # It will not help us at all\n",
    "X_train.drop('company_record_id', axis=1, inplace=True)\n",
    "X_test.drop('company_record_id', axis=1, inplace=True)"
   ]
  },
  {
   "cell_type": "markdown",
   "metadata": {},
   "source": [
    "Get rid of nulls, replace it with the mean of each column"
   ]
  },
  {
   "cell_type": "code",
   "execution_count": 9,
   "metadata": {},
   "outputs": [],
   "source": [
    "# Replace missing values with mean\n",
    "my_imputer = SimpleImputer()\n",
    "\n",
    "# Apply the imputer to the data\n",
    "X_train_imputed = pd.DataFrame(my_imputer.fit_transform(X_train))\n",
    "X_test_imputed = pd.DataFrame(my_imputer.fit_transform(X_test))\n",
    "\n",
    "    # Copy the column names from the original dataframe\n",
    "X_train_imputed.columns = X_train.columns\n",
    "X_test_imputed.columns = X_test.columns"
   ]
  },
  {
   "cell_type": "code",
   "execution_count": 10,
   "metadata": {},
   "outputs": [
    {
     "name": "stdout",
     "output_type": "stream",
     "text": [
      "<class 'pandas.core.frame.DataFrame'>\n",
      "RangeIndex: 632993 entries, 0 to 632992\n",
      "Data columns (total 2 columns):\n",
      " #   Column                      Non-Null Count   Dtype  \n",
      "---  ------                      --------------   -----  \n",
      " 0   estimated_number_employees  632993 non-null  float64\n",
      " 1   time_in_business            632993 non-null  float64\n",
      "dtypes: float64(2)\n",
      "memory usage: 9.7 MB\n",
      "<class 'pandas.core.frame.DataFrame'>\n",
      "RangeIndex: 158249 entries, 0 to 158248\n",
      "Data columns (total 2 columns):\n",
      " #   Column                      Non-Null Count   Dtype  \n",
      "---  ------                      --------------   -----  \n",
      " 0   estimated_number_employees  158249 non-null  float64\n",
      " 1   time_in_business            158249 non-null  float64\n",
      "dtypes: float64(2)\n",
      "memory usage: 2.4 MB\n"
     ]
    }
   ],
   "source": [
    "# Check if all rows are filled\n",
    "X_train_imputed.info()\n",
    "X_test_imputed.info()"
   ]
  },
  {
   "cell_type": "markdown",
   "metadata": {},
   "source": [
    "Get rid of outliers using IQR"
   ]
  },
  {
   "cell_type": "code",
   "execution_count": 11,
   "metadata": {},
   "outputs": [
    {
     "name": "stdout",
     "output_type": "stream",
     "text": [
      "Number of records after outlier purge: 545550\n",
      "Number of records after outlier purge: 136250\n"
     ]
    }
   ],
   "source": [
    "# Calulcate quartiles and IQR\n",
    "Q1 = X_train_imputed.quantile(0.25)\n",
    "Q3 = X_train_imputed.quantile(0.75)\n",
    "IQR = Q3 - Q1\n",
    "\n",
    "\n",
    "# Determine Outliers\n",
    "    # '~ ' = get the records that output false (not an outlier), \n",
    "    # '|' = OR\n",
    "    # '.any' = it will be TRUE if either of the two conditions are met or both\n",
    "X_train_imputed_no_outliers = X_train_imputed[~((X_train_imputed < (Q1 - 2.5 * IQR)) |(X_train_imputed > (Q3 + 2.5 * IQR))).any(axis=1)]\n",
    "print(f'Number of records after outlier purge: {len(X_train_imputed_no_outliers)}')\n",
    "\n",
    "X_test_imputed_no_outliers = X_test_imputed[~((X_test_imputed < (Q1 - 2.5 * IQR)) |(X_test_imputed > (Q3 + 2.5 * IQR))).any(axis=1)]\n",
    "print(f'Number of records after outlier purge: {len(X_test_imputed_no_outliers)}')"
   ]
  },
  {
   "cell_type": "code",
   "execution_count": 12,
   "metadata": {},
   "outputs": [],
   "source": [
    "# Y data needs to contain the exact rows of x\n",
    "    # Inner join on index\n",
    "y_train_no_outliers = y_train.loc[X_train_imputed_no_outliers.index]\n",
    "y_test_no_outliers = y_test.loc[X_test_imputed_no_outliers.index]"
   ]
  },
  {
   "cell_type": "code",
   "execution_count": 20,
   "metadata": {},
   "outputs": [
    {
     "data": {
      "text/html": [
       "<div>\n",
       "<style scoped>\n",
       "    .dataframe tbody tr th:only-of-type {\n",
       "        vertical-align: middle;\n",
       "    }\n",
       "\n",
       "    .dataframe tbody tr th {\n",
       "        vertical-align: top;\n",
       "    }\n",
       "\n",
       "    .dataframe thead th {\n",
       "        text-align: right;\n",
       "    }\n",
       "</style>\n",
       "<table border=\"1\" class=\"dataframe\">\n",
       "  <thead>\n",
       "    <tr style=\"text-align: right;\">\n",
       "      <th></th>\n",
       "      <th>estimated_number_employees</th>\n",
       "      <th>time_in_business</th>\n",
       "      <th>annual_revenue</th>\n",
       "    </tr>\n",
       "  </thead>\n",
       "  <tbody>\n",
       "    <tr>\n",
       "      <th>count</th>\n",
       "      <td>545550.000000</td>\n",
       "      <td>545550.000000</td>\n",
       "      <td>2.698890e+05</td>\n",
       "    </tr>\n",
       "    <tr>\n",
       "      <th>mean</th>\n",
       "      <td>17.284487</td>\n",
       "      <td>22.802005</td>\n",
       "      <td>2.630554e+07</td>\n",
       "    </tr>\n",
       "    <tr>\n",
       "      <th>std</th>\n",
       "      <td>22.935751</td>\n",
       "      <td>18.780463</td>\n",
       "      <td>1.923961e+09</td>\n",
       "    </tr>\n",
       "    <tr>\n",
       "      <th>min</th>\n",
       "      <td>1.000000</td>\n",
       "      <td>0.000000</td>\n",
       "      <td>1.000000e+03</td>\n",
       "    </tr>\n",
       "    <tr>\n",
       "      <th>25%</th>\n",
       "      <td>3.000000</td>\n",
       "      <td>9.000000</td>\n",
       "      <td>3.910000e+06</td>\n",
       "    </tr>\n",
       "    <tr>\n",
       "      <th>50%</th>\n",
       "      <td>8.000000</td>\n",
       "      <td>17.000000</td>\n",
       "      <td>7.981000e+06</td>\n",
       "    </tr>\n",
       "    <tr>\n",
       "      <th>75%</th>\n",
       "      <td>20.000000</td>\n",
       "      <td>31.000000</td>\n",
       "      <td>1.825200e+07</td>\n",
       "    </tr>\n",
       "    <tr>\n",
       "      <th>max</th>\n",
       "      <td>130.000000</td>\n",
       "      <td>101.000000</td>\n",
       "      <td>9.000000e+11</td>\n",
       "    </tr>\n",
       "  </tbody>\n",
       "</table>\n",
       "</div>"
      ],
      "text/plain": [
       "       estimated_number_employees  time_in_business  annual_revenue\n",
       "count               545550.000000     545550.000000    2.698890e+05\n",
       "mean                    17.284487         22.802005    2.630554e+07\n",
       "std                     22.935751         18.780463    1.923961e+09\n",
       "min                      1.000000          0.000000    1.000000e+03\n",
       "25%                      3.000000          9.000000    3.910000e+06\n",
       "50%                      8.000000         17.000000    7.981000e+06\n",
       "75%                     20.000000         31.000000    1.825200e+07\n",
       "max                    130.000000        101.000000    9.000000e+11"
      ]
     },
     "execution_count": 20,
     "metadata": {},
     "output_type": "execute_result"
    }
   ],
   "source": [
    "# Check if it worked\n",
    "X_train_imputed_no_outliers.describe()"
   ]
  },
  {
   "cell_type": "markdown",
   "metadata": {},
   "source": [
    "Another Initial Visualization"
   ]
  },
  {
   "cell_type": "code",
   "execution_count": 14,
   "metadata": {},
   "outputs": [
    {
     "data": {
      "image/png": "[encoded data removed]",
      "text/plain": [
       "<Figure size 360x360 with 1 Axes>"
      ]
     },
     "metadata": {
      "needs_background": "light"
     },
     "output_type": "display_data"
    }
   ],
   "source": [
    "# Show distribution Plot\n",
    "    # Looks like this as there are massive outliers in annual_revenue\n",
    "sns.displot(data = Y, kind = \"kde\");"
   ]
  },
  {
   "cell_type": "markdown",
   "metadata": {},
   "source": [
    "#### Use the new proccessed file"
   ]
  },
  {
   "cell_type": "markdown",
   "metadata": {},
   "source": [
    "Combine feature and target variables"
   ]
  },
  {
   "cell_type": "code",
   "execution_count": 39,
   "metadata": {},
   "outputs": [
    {
     "name": "stderr",
     "output_type": "stream",
     "text": [
      "/var/folders/wm/z1f6_f9d3zb9gt8g3wkr4cl00000gn/T/ipykernel_25445/3397074263.py:3: SettingWithCopyWarning: \n",
      "A value is trying to be set on a copy of a slice from a DataFrame.\n",
      "Try using .loc[row_indexer,col_indexer] = value instead\n",
      "\n",
      "See the caveats in the documentation: https://pandas.pydata.org/pandas-docs/stable/user_guide/indexing.html#returning-a-view-versus-a-copy\n",
      "  X_train_imputed_no_outliers_annual_revenue['annual_revenue'] = y_train_no_outliers\n"
     ]
    }
   ],
   "source": [
    "# Adding annual_revenue back into x train\n",
    "X_train_imputed_no_outliers_annual_revenue = X_train_imputed_no_outliers\n",
    "X_train_imputed_no_outliers_annual_revenue['annual_revenue'] = y_train_no_outliers"
   ]
  },
  {
   "cell_type": "markdown",
   "metadata": {},
   "source": [
    "Plot the linear model"
   ]
  },
  {
   "cell_type": "code",
   "execution_count": 42,
   "metadata": {},
   "outputs": [
    {
     "data": {
      "image/png": "[encoded data removed]",
      "text/plain": [
       "<Figure size 360x360 with 1 Axes>"
      ]
     },
     "metadata": {
      "needs_background": "light"
     },
     "output_type": "display_data"
    }
   ],
   "source": [
    "# Show Linear Model\n",
    "lm = sns.lmplot(data = X_train_imputed_no_outliers_annual_revenue, x = 'time_in_business', y = 'annual_revenue')\n",
    "lm.set(xlim = (0,130))\n",
    "\n",
    "# Excluded it from showing the annual_revenue max since it was messing the graph up\n",
    "lm.set(ylim = (0, 9000000000));\n"
   ]
  },
  {
   "cell_type": "markdown",
   "metadata": {},
   "source": [
    "Show Correlation through a heat map"
   ]
  },
  {
   "cell_type": "code",
   "execution_count": 17,
   "metadata": {},
   "outputs": [
    {
     "data": {
      "text/plain": [
       "<AxesSubplot:>"
      ]
     },
     "execution_count": 17,
     "metadata": {},
     "output_type": "execute_result"
    },
    {
     "data": {
      "image/png": "[encoded data removed]",
      "text/plain": [
       "<Figure size 1440x1080 with 2 Axes>"
      ]
     },
     "metadata": {
      "needs_background": "light"
     },
     "output_type": "display_data"
    }
   ],
   "source": [
    "# Show Heat Mao\n",
    "plt.figure(figsize = (20,15))\n",
    "sns.heatmap(X_train_imputed_no_outliers.corr(), annot = True)"
   ]
  },
  {
   "cell_type": "markdown",
   "metadata": {},
   "source": [
    "#### Perform Linear Model Calculations"
   ]
  },
  {
   "cell_type": "code",
   "execution_count": 23,
   "metadata": {},
   "outputs": [],
   "source": [
    "# Scale the x training and test data frames and keep the column names\n",
    "sc = StandardScaler()\n",
    "x_train_scaled = pd.DataFrame(sc.fit_transform(X_train_imputed_no_outliers), columns = X_train_imputed_no_outliers.columns)\n",
    "x_test_scaled = pd.DataFrame(sc.transform(X_test_imputed_no_outliers), columns = X_test_imputed_no_outliers.columns)"
   ]
  },
  {
   "cell_type": "code",
   "execution_count": 32,
   "metadata": {},
   "outputs": [],
   "source": [
    "# Y (annual_revenue) has nulls so imputing values into just like performed for x\n",
    "# Replace missing values with mean\n",
    "my_imputer = SimpleImputer()\n",
    "\n",
    "# Apply the imputer to the data\n",
    "y_train_no_outliers_imputed = my_imputer.fit_transform(y_train_no_outliers.values.reshape(-1, 1))\n",
    "y_test_no_outliers_imputed = my_imputer.fit_transform(y_test_no_outliers.values.reshape(-1, 1))\n"
   ]
  },
  {
   "cell_type": "markdown",
   "metadata": {},
   "source": [
    "Linear Regression"
   ]
  },
  {
   "cell_type": "code",
   "execution_count": 35,
   "metadata": {},
   "outputs": [
    {
     "name": "stdout",
     "output_type": "stream",
     "text": [
      "R^2 Value: -0.001295351790002952\n",
      "MSE Value: 3.706673672458209e+16\n"
     ]
    }
   ],
   "source": [
    "# Imports\n",
    "from sklearn.linear_model import LinearRegression\n",
    "from sklearn.metrics import r2_score\n",
    "from sklearn.metrics import mean_squared_error\n",
    "\n",
    "# Provides insight into the relationships between features and the target variable.\n",
    "linreg = LinearRegression()\n",
    "linreg.fit(x_train_scaled, y_train_no_outliers_imputed)\n",
    "\n",
    "# Get the predicted values\n",
    "y_pred_linreg = linreg.predict(x_test_scaled)\n",
    "\n",
    "# The R^2 value (coefficient of determination) \n",
    "    # Measures proportion of the variance in the dependent variable that is predictable from the independent variables\n",
    "    # Higher R^2 value indicates a better fit\n",
    "print(f'R^2 Value: {r2_score(y_test_no_outliers_imputed, y_pred_linreg)}')\n",
    "\n",
    "# The MSE (Mean Squared Error) \n",
    "    # Measures average squared difference between the actual and predicted values\n",
    "    # Lower MSE values indicate better model performance\n",
    "print(f'MSE Value: {mean_squared_error(y_test_no_outliers_imputed, y_pred_linreg)}')\n"
   ]
  },
  {
   "cell_type": "markdown",
   "metadata": {},
   "source": [
    "Ridge"
   ]
  },
  {
   "cell_type": "code",
   "execution_count": 37,
   "metadata": {},
   "outputs": [
    {
     "name": "stdout",
     "output_type": "stream",
     "text": [
      "R^2 Value: -0.0012953506200925613\n",
      "MSE Value: 3.706673668127343e+16\n"
     ]
    }
   ],
   "source": [
    "# Imports\n",
    "from sklearn.linear_model import Ridge\n",
    "\n",
    "# Ridge regression is a variant of linear regression that includes regularization to prevent overfitting.\n",
    "    # Alpha controls strength of regularization\n",
    "ridge = Ridge(alpha = 1.0)\n",
    "ridge.fit(x_train_scaled, y_train_no_outliers_imputed)\n",
    "\n",
    "# Get predicted values\n",
    "y_pred_ridge = ridge.predict(x_test_scaled)\n",
    "\n",
    "print(f'R^2 Value: {r2_score(y_test_no_outliers_imputed, y_pred_ridge)}')\n",
    "\n",
    "print(f'MSE Value: {mean_squared_error(y_test_no_outliers_imputed, y_pred_ridge)}')\n"
   ]
  },
  {
   "cell_type": "markdown",
   "metadata": {},
   "source": [
    "Random Forest"
   ]
  },
  {
   "cell_type": "code",
   "execution_count": 36,
   "metadata": {},
   "outputs": [
    {
     "name": "stderr",
     "output_type": "stream",
     "text": [
      "/var/folders/wm/z1f6_f9d3zb9gt8g3wkr4cl00000gn/T/ipykernel_25445/1602736055.py:4: DataConversionWarning: A column-vector y was passed when a 1d array was expected. Please change the shape of y to (n_samples,), for example using ravel().\n",
      "  ran_forests.fit(x_train_scaled, y_train_no_outliers_imputed)\n"
     ]
    },
    {
     "name": "stdout",
     "output_type": "stream",
     "text": [
      "R^2 Value: -1.2344495775240478\n",
      "MSE Value: 8.271660710935549e+16\n"
     ]
    }
   ],
   "source": [
    "# Imports\n",
    "from sklearn.ensemble import RandomForestRegressor\n",
    "\n",
    "# Random forest constructs multiple decision trees during training and outputs the mean prediction of the individual trees\n",
    "ran_forests = RandomForestRegressor()\n",
    "ran_forests.fit(x_train_scaled, y_train_no_outliers_imputed)\n",
    "\n",
    "# Get predicted values\n",
    "y_pred_ranforests = ran_forests.predict(x_test_scaled)\n",
    "\n",
    "print(f'R^2 Value: {r2_score(y_test_no_outliers_imputed, y_pred_ranforests)}')\n",
    "\n",
    "print(f'MSE Value: {mean_squared_error(y_test_no_outliers_imputed, y_pred_ranforests)}')"
   ]
  }
 ],
 "metadata": {
  "kernelspec": {
   "display_name": "base",
   "language": "python",
   "name": "python3"
  },
  "language_info": {
   "codemirror_mode": {
    "name": "ipython",
    "version": 3
   },
   "file_extension": ".py",
   "mimetype": "text/x-python",
   "name": "python",
   "nbconvert_exporter": "python",
   "pygments_lexer": "ipython3",
   "version": "3.9.7"
  }
 },
 "nbformat": 4,
 "nbformat_minor": 2
}
