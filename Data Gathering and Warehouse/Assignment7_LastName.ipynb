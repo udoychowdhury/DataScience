{
 "cells": [
  {
   "cell_type": "markdown",
   "id": "f369c6ca",
   "metadata": {},
   "source": [
    "# Assignment #7 - Data Gathering and Warehousing - DSSA-5102\n",
    "\n",
    "Instructor: Melissa Laurino</br>\n",
    "Spring 2024</br>\n",
    "\n",
    "Name: \n",
    "</br>\n",
    "Date:\n",
    "<br>\n",
    "<br>\n",
    "**At this time in the semester:** <br>\n",
    "--We have explored a dataset. <br>\n",
    "--We have cleaned our dataset. <br>\n",
    "--We created a Github account with a repository for this class and included a Metadata file about our data. <br>\n",
    "--We introduced general SQL syntax, queries, and applications in R.<br>\n",
    "--Created our own database from scratch in R using libraries RMariaDB and RSQLite <br>\n",
    "<br>\n",
    "\n",
    "Now we will populate and create **all** tables for our dataset into our database.<br>\n",
    "\n",
    "We used two R packages to create two separate databases for practice in our previous assignment. One was stored on our MySQL server using R package RMariaDB, and the other was stored locally using R package RSQLite. Choose ONE of the methods we practiced to continue to create all tables and populate your tables with your data from your dataset (Feel free to practice with both methods!). After using either method, create a visual database schema diagram in MySQL Workbench. <br>\n",
    "Keep in mind - if you are creating your database locally with RSQLite, you can then upload your database.db file to the MySQL Workbench to obtain the database schema diagram.\n",
    "<br>\n",
    "Follow the instructions below to complete the assignment. Be sure to comment all code. Include a .png image of your database schema from MySQL Workbench in your Blackboard submission or Github repository.\n"
   ]
  },
  {
   "cell_type": "markdown",
   "id": "777d028a",
   "metadata": {},
   "source": [
    "R Package for creating database tables:__________________"
   ]
  },
  {
   "cell_type": "code",
   "execution_count": null,
   "id": "4b6bbe50",
   "metadata": {},
   "outputs": [],
   "source": [
    "#Install necessary packages. After you have them installed, do not install them again. You should already have these installed from Assignment #4.\n",
    "#Continuing to run install.packages could update the versions of other dependent packages.\n",
    "#install.packages(\"RMariaDB\")\n",
    "#install.packages(\"DBI\")\n",
    "#install.packages(\"sqldf\")\n",
    "#install.packages(\"RSQLite\")"
   ]
  },
  {
   "cell_type": "code",
   "execution_count": null,
   "id": "209701f8",
   "metadata": {},
   "outputs": [],
   "source": [
    "#Only uncomment the R package(s) you plan to use. \n",
    "#library(DBI)\n",
    "#library(RMariaDB)\n",
    "#library(RSQLite)"
   ]
  },
  {
   "cell_type": "code",
   "execution_count": 1,
   "id": "f61dba89",
   "metadata": {},
   "outputs": [],
   "source": [
    "#Connect to the database you created in Assignment #6 using your preferred method."
   ]
  },
  {
   "cell_type": "code",
   "execution_count": null,
   "id": "8f2937ac",
   "metadata": {},
   "outputs": [],
   "source": []
  },
  {
   "cell_type": "code",
   "execution_count": null,
   "id": "0ea54f10",
   "metadata": {},
   "outputs": [],
   "source": []
  },
  {
   "cell_type": "code",
   "execution_count": null,
   "id": "e0963fcd",
   "metadata": {},
   "outputs": [],
   "source": []
  },
  {
   "cell_type": "code",
   "execution_count": null,
   "id": "714bd858",
   "metadata": {},
   "outputs": [],
   "source": []
  },
  {
   "cell_type": "code",
   "execution_count": null,
   "id": "2d88f3fd",
   "metadata": {},
   "outputs": [],
   "source": []
  },
  {
   "cell_type": "code",
   "execution_count": null,
   "id": "0ce8d209",
   "metadata": {},
   "outputs": [],
   "source": []
  },
  {
   "cell_type": "code",
   "execution_count": null,
   "id": "b5d41a54",
   "metadata": {},
   "outputs": [],
   "source": []
  },
  {
   "cell_type": "code",
   "execution_count": null,
   "id": "58cbf160",
   "metadata": {},
   "outputs": [],
   "source": [
    "#Close the database connection :)\n",
    "dbDisconnect(db)"
   ]
  },
  {
   "cell_type": "markdown",
   "id": "9c103358",
   "metadata": {},
   "source": [
    "**MySQL Workbench**<br>\n",
    "To export your database schema as a .PNG:<br>\n",
    "->Go to your EER Diagram<br>\n",
    "->File<br>\n",
    "->Export<br>\n",
    "->Export as .PNG"
   ]
  }
 ],
 "metadata": {
  "kernelspec": {
   "display_name": "R",
   "language": "R",
   "name": "ir"
  },
  "language_info": {
   "codemirror_mode": "r",
   "file_extension": ".r",
   "mimetype": "text/x-r-source",
   "name": "R",
   "pygments_lexer": "r",
   "version": "4.3.2"
  }
 },
 "nbformat": 4,
 "nbformat_minor": 5
}
