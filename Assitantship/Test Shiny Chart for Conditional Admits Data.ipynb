{
 "cells": [
  {
   "cell_type": "code",
   "execution_count": 2,
   "id": "814350be",
   "metadata": {},
   "outputs": [
    {
     "name": "stdout",
     "output_type": "stream",
     "text": [
      "Defaulting to user installation because normal site-packages is not writeable\n",
      "Collecting dash\n",
      "  Obtaining dependency information for dash from https://files.pythonhosted.org/packages/b2/10/388c4a697275417a6974033e6ea7235d61e648e6c39d9cc06fcc6a6f71d4/dash-2.15.0-py3-none-any.whl.metadata\n",
      "  Downloading dash-2.15.0-py3-none-any.whl.metadata (11 kB)\n",
      "Requirement already satisfied: pandas in /usr/local/anaconda3/lib/python3.11/site-packages (2.0.3)\n",
      "Requirement already satisfied: Flask<3.1,>=1.0.4 in /usr/local/anaconda3/lib/python3.11/site-packages (from dash) (2.2.2)\n",
      "Requirement already satisfied: Werkzeug<3.1 in /usr/local/anaconda3/lib/python3.11/site-packages (from dash) (2.2.3)\n",
      "Requirement already satisfied: plotly>=5.0.0 in /usr/local/anaconda3/lib/python3.11/site-packages (from dash) (5.9.0)\n",
      "Collecting dash-html-components==2.0.0 (from dash)\n",
      "  Downloading dash_html_components-2.0.0-py3-none-any.whl (4.1 kB)\n",
      "Collecting dash-core-components==2.0.0 (from dash)\n",
      "  Downloading dash_core_components-2.0.0-py3-none-any.whl (3.8 kB)\n",
      "Collecting dash-table==5.0.0 (from dash)\n",
      "  Downloading dash_table-5.0.0-py3-none-any.whl (3.9 kB)\n",
      "Requirement already satisfied: typing-extensions>=4.1.1 in /usr/local/anaconda3/lib/python3.11/site-packages (from dash) (4.7.1)\n",
      "Requirement already satisfied: requests in /usr/local/anaconda3/lib/python3.11/site-packages (from dash) (2.31.0)\n",
      "Collecting retrying (from dash)\n",
      "  Downloading retrying-1.3.4-py3-none-any.whl (11 kB)\n",
      "Requirement already satisfied: nest-asyncio in /usr/local/anaconda3/lib/python3.11/site-packages (from dash) (1.5.6)\n",
      "Requirement already satisfied: setuptools in /usr/local/anaconda3/lib/python3.11/site-packages (from dash) (68.0.0)\n",
      "Requirement already satisfied: importlib-metadata in /usr/local/anaconda3/lib/python3.11/site-packages (from dash) (6.0.0)\n",
      "Requirement already satisfied: python-dateutil>=2.8.2 in /usr/local/anaconda3/lib/python3.11/site-packages (from pandas) (2.8.2)\n",
      "Requirement already satisfied: pytz>=2020.1 in /usr/local/anaconda3/lib/python3.11/site-packages (from pandas) (2023.3.post1)\n",
      "Requirement already satisfied: tzdata>=2022.1 in /usr/local/anaconda3/lib/python3.11/site-packages (from pandas) (2023.3)\n",
      "Requirement already satisfied: numpy>=1.21.0 in /usr/local/anaconda3/lib/python3.11/site-packages (from pandas) (1.24.3)\n",
      "Requirement already satisfied: Jinja2>=3.0 in /usr/local/anaconda3/lib/python3.11/site-packages (from Flask<3.1,>=1.0.4->dash) (3.1.2)\n",
      "Requirement already satisfied: itsdangerous>=2.0 in /usr/local/anaconda3/lib/python3.11/site-packages (from Flask<3.1,>=1.0.4->dash) (2.0.1)\n",
      "Requirement already satisfied: click>=8.0 in /usr/local/anaconda3/lib/python3.11/site-packages (from Flask<3.1,>=1.0.4->dash) (8.0.4)\n",
      "Requirement already satisfied: tenacity>=6.2.0 in /usr/local/anaconda3/lib/python3.11/site-packages (from plotly>=5.0.0->dash) (8.2.2)\n",
      "Requirement already satisfied: six>=1.5 in /usr/local/anaconda3/lib/python3.11/site-packages (from python-dateutil>=2.8.2->pandas) (1.16.0)\n",
      "Requirement already satisfied: MarkupSafe>=2.1.1 in /usr/local/anaconda3/lib/python3.11/site-packages (from Werkzeug<3.1->dash) (2.1.1)\n",
      "Requirement already satisfied: zipp>=0.5 in /usr/local/anaconda3/lib/python3.11/site-packages (from importlib-metadata->dash) (3.11.0)\n",
      "Requirement already satisfied: charset-normalizer<4,>=2 in /usr/local/anaconda3/lib/python3.11/site-packages (from requests->dash) (2.0.4)\n",
      "Requirement already satisfied: idna<4,>=2.5 in /usr/local/anaconda3/lib/python3.11/site-packages (from requests->dash) (3.4)\n",
      "Requirement already satisfied: urllib3<3,>=1.21.1 in /usr/local/anaconda3/lib/python3.11/site-packages (from requests->dash) (1.26.16)\n",
      "Requirement already satisfied: certifi>=2017.4.17 in /usr/local/anaconda3/lib/python3.11/site-packages (from requests->dash) (2023.7.22)\n",
      "Downloading dash-2.15.0-py3-none-any.whl (10.2 MB)\n",
      "\u001b[2K   \u001b[90m━━━━━━━━━━━━━━━━━━━━━━━━━━━━━━━━━━━━━━━━\u001b[0m \u001b[32m10.2/10.2 MB\u001b[0m \u001b[31m16.2 MB/s\u001b[0m eta \u001b[36m0:00:00\u001b[0m00:01\u001b[0m0:01\u001b[0m\n",
      "\u001b[?25hInstalling collected packages: dash-table, dash-html-components, dash-core-components, retrying, dash\n",
      "\u001b[33m  WARNING: The scripts dash-generate-components, dash-update-components and renderer are installed in '/Users/udoychowdhury/.local/bin' which is not on PATH.\n",
      "  Consider adding this directory to PATH or, if you prefer to suppress this warning, use --no-warn-script-location.\u001b[0m\u001b[33m\n",
      "\u001b[0mSuccessfully installed dash-2.15.0 dash-core-components-2.0.0 dash-html-components-2.0.0 dash-table-5.0.0 retrying-1.3.4\n",
      "Note: you may need to restart the kernel to use updated packages.\n"
     ]
    }
   ],
   "source": [
    "pip install dash pandas"
   ]
  },
  {
   "cell_type": "code",
   "execution_count": 79,
   "id": "34d008b6",
   "metadata": {},
   "outputs": [],
   "source": [
    "# Import libraries\n",
    "# For interactive web applications\n",
    "import dash\n",
    "from dash import dcc, html\n",
    "from dash.dependencies import Input, Output\n",
    "# For data manupilation\n",
    "import pandas as pd\n",
    "import numpy as np  \n",
    "# For graphs\n",
    "import plotly.graph_objs as go  \n",
    "import plotly.express as px "
   ]
  },
  {
   "cell_type": "code",
   "execution_count": 80,
   "id": "030034bf",
   "metadata": {},
   "outputs": [],
   "source": [
    "# File path for file\n",
    "file_path = 'Conditionally Admitted Students.xlsx'  \n",
    "# Read the Excel file\n",
    "df = pd.read_excel(file_path, sheet_name='Conditional Admits')"
   ]
  },
  {
   "cell_type": "code",
   "execution_count": 81,
   "id": "235b0c25",
   "metadata": {},
   "outputs": [],
   "source": [
    "# Initialize Dash app\n",
    "app = dash.Dash(__name__)\n",
    "\n",
    "# Define layout\n",
    "app.layout = html.Div([\n",
    "    # Create a space for the the widgets to pick variables\n",
    "    html.Div([\n",
    "        # Dropdown for selecting the X variable\n",
    "        dcc.Dropdown(\n",
    "            id='x-variable-selector',\n",
    "            # Insert the columns in the datasheet as the variables\n",
    "            options=[{'label': i, 'value': i} for i in df.columns],\n",
    "            # Default Valye\n",
    "            value='ETHNICITY',\n",
    "            # Format the widget\n",
    "            style={'width': '48%', 'display': 'inline-block'}\n",
    "        ),\n",
    "        # Dropdown for selecting the Y variable\n",
    "        dcc.Dropdown(\n",
    "            id='y-variable-selector', \n",
    "            # Insert the columns in the datasheet as the variables (Categorical)\n",
    "            options=[{'label': i, 'value': i} for i in df.columns if df[i].dtype == 'O'],  \n",
    "            # Default Valye\n",
    "            value='AGE',\n",
    "            # Format the widget\n",
    "            style={'width': '48%', 'display': 'inline-block', 'marginLeft': '4%'}  # Style the dropdown, with added left margin\n",
    "        )\n",
    "    ]),\n",
    "    # Placeholder so it can be updated (Display)\n",
    "    dcc.Graph(id='variable-relationship-graph')\n",
    "])"
   ]
  },
  {
   "cell_type": "code",
   "execution_count": 82,
   "id": "9ec7df9a",
   "metadata": {},
   "outputs": [],
   "source": [
    "# Callback function to update variables based on user\n",
    "@app.callback(\n",
    "    # Specifies what to update\n",
    "    Output('variable-relationship-graph', 'figure'),\n",
    "    # Specifies the inputs that will be triggers \n",
    "    [Input('x-variable-selector', 'value'),\n",
    "     Input('y-variable-selector', 'value')]\n",
    ")\n",
    "\n",
    "# Function that updates graphs\n",
    "def update_graph(x_var, y_var):\n",
    "    \n",
    "    # Generate clustered bar chart\n",
    "        # Prepare data\n",
    "            # Group the data inorder to get counts\n",
    "    grouped_data = df.groupby([x_var, y_var]).size().reset_index(name='Counts')\n",
    "    \n",
    "        # Create the chart\n",
    "            # Y variable is used the color the charts \n",
    "    fig = px.bar(grouped_data, x=x_var, y='Counts', color=y_var, barmode='group',\n",
    "                 title=f'Clustered Bar Chart: {y_var} within {x_var}')\n",
    "    \n",
    "    return fig"
   ]
  },
  {
   "cell_type": "code",
   "execution_count": 83,
   "id": "5d5c7a1f",
   "metadata": {},
   "outputs": [
    {
     "data": {
      "text/html": [
       "\n",
       "        <iframe\n",
       "            width=\"100%\"\n",
       "            height=\"650\"\n",
       "            src=\"http://127.0.0.1:8050/\"\n",
       "            frameborder=\"0\"\n",
       "            allowfullscreen\n",
       "            \n",
       "        ></iframe>\n",
       "        "
      ],
      "text/plain": [
       "<IPython.lib.display.IFrame at 0x133d32350>"
      ]
     },
     "metadata": {},
     "output_type": "display_data"
    }
   ],
   "source": [
    "# Run the app\n",
    "if __name__ == '__main__':\n",
    "    app.run_server(debug=True)"
   ]
  },
  {
   "cell_type": "code",
   "execution_count": null,
   "id": "da2f6b50",
   "metadata": {},
   "outputs": [],
   "source": []
  },
  {
   "cell_type": "code",
   "execution_count": null,
   "id": "1077eff9",
   "metadata": {},
   "outputs": [],
   "source": []
  }
 ],
 "metadata": {
  "kernelspec": {
   "display_name": "Python 3 (ipykernel)",
   "language": "python",
   "name": "python3"
  },
  "language_info": {
   "codemirror_mode": {
    "name": "ipython",
    "version": 3
   },
   "file_extension": ".py",
   "mimetype": "text/x-python",
   "name": "python",
   "nbconvert_exporter": "python",
   "pygments_lexer": "ipython3",
   "version": "3.11.5"
  }
 },
 "nbformat": 4,
 "nbformat_minor": 5
}
