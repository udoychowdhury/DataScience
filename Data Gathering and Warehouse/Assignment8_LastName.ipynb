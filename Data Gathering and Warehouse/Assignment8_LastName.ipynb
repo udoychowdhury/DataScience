{
 "cells": [
  {
   "cell_type": "markdown",
   "id": "f369c6ca",
   "metadata": {},
   "source": [
    "# Assignment #8 - Data Gathering and Warehousing - DSSA-5102\n",
    "\n",
    "Instructor: Melissa Laurino</br>\n",
    "Spring 2024</br>\n",
    "\n",
    "Name:\n",
    "</br>\n",
    "Date:\n",
    "<br>\n",
    "<br>\n",
    "**At this time in the semester:** <br>\n",
    "--We have explored a dataset. <br>\n",
    "--We have cleaned our dataset. <br>\n",
    "--We created a Github account with a repository for this class and included a Metadata file about our data. <br>\n",
    "--We introduced general SQL syntax, queries, and applications in R.<br>\n",
    "--Created our own database from scratch in R using libraries RMariaDB and RSQLite <br>\n",
    "--Populated our databases we created from scratch\n",
    "--Created a visual enhanced entity relationship diagram for our database\n",
    "<br>\n",
    "\n",
    "Now we will **JOIN** our knowledge and tables to answer questions about our dataset! We will practice joining tables and understand the importance of using different commands.<br>\n",
    "\n",
    "JOIN statements are used to combine results from two or more tables based on a related column between them.<br>\n",
    "\n",
    "Review the powerpoint and readings specified on Blackboard.<br>\n",
    "\n",
    "In the event your database does not meet the requirements below to answer the question, please use the database provided in Assignment #4 and #5. Remember to credit your data source.\n",
    "\n",
    "We used two R packages to create two separate databases for practice in our previous assignment. Feel free to use your preferred package for the exploration below.<br>\n",
    "\n",
    "Follow the instructions below to complete the assignment. Be sure to comment **all** code and answer **all** questions in markdown for full credit.<br>\n",
    "\n",
    "**Data origin:**\n"
   ]
  },
  {
   "cell_type": "markdown",
   "id": "777d028a",
   "metadata": {},
   "source": [
    "R Package for joining tables:__________________"
   ]
  },
  {
   "cell_type": "code",
   "execution_count": 66,
   "id": "4b6bbe50",
   "metadata": {},
   "outputs": [],
   "source": [
    "#Install necessary packages. After you have them installed, do not install them again. You should already have these installed from Assignment #4.\n",
    "#Continuing to run install.packages could update the versions of other dependent packages.\n",
    "#install.packages(\"RMariaDB\")\n",
    "#install.packages(\"DBI\")\n",
    "#install.packages(\"sqldf\")\n",
    "#install.packages(\"RSQLite\")"
   ]
  },
  {
   "cell_type": "code",
   "execution_count": 43,
   "id": "209701f8",
   "metadata": {},
   "outputs": [],
   "source": [
    "#Only uncomment the R package(s) you plan to use!\n",
    "library(DBI)\n",
    "library(RMariaDB)\n",
    "#library(hms)\n",
    "#library(RSQLite)"
   ]
  },
  {
   "cell_type": "code",
   "execution_count": 44,
   "id": "f61dba89",
   "metadata": {},
   "outputs": [],
   "source": [
    "#Connect to the database you created in Assignment #6 using your preferred method.\n",
    "localuserpassword <- \"XXXX\" #We wrote this password down in our first class.\n",
    "localport <- XXXX #This is your local instance number when you open MySQL Workbench.\n",
    "db_name <- \"XXX\" #My class_example database I am using.\n",
    "\n",
    "#Connect to the server using RMariaDB()\n",
    "con <- dbConnect(RMariaDB::MariaDB(), \n",
    "                 host = 'localhost',\n",
    "                 user = 'root',\n",
    "                 password = localuserpassword,\n",
    "                 port = localport)\n",
    "#In order to connect to the server, we must include all of the above."
   ]
  },
  {
   "cell_type": "code",
   "execution_count": 45,
   "id": "8f2937ac",
   "metadata": {},
   "outputs": [
    {
     "data": {
      "text/html": [
       "0"
      ],
      "text/latex": [
       "0"
      ],
      "text/markdown": [
       "0"
      ],
      "text/plain": [
       "[1] 0"
      ]
     },
     "metadata": {},
     "output_type": "display_data"
    }
   ],
   "source": [
    "#Specify what database to use when using multiple databases or reusing SQL code:\n",
    "dbExecute(con, paste(\"USE\", XXXX))"
   ]
  },
  {
   "cell_type": "code",
   "execution_count": null,
   "id": "00916d5f",
   "metadata": {},
   "outputs": [],
   "source": [
    "#List the table names of the database.\n",
    "dbListTables(XXXX)"
   ]
  },
  {
   "cell_type": "code",
   "execution_count": 1,
   "id": "be54d9b7",
   "metadata": {},
   "outputs": [
    {
     "ename": "ERROR",
     "evalue": "Error in dbListTables(XXXX): could not find function \"dbListTables\"\n",
     "output_type": "error",
     "traceback": [
      "Error in dbListTables(XXXX): could not find function \"dbListTables\"\nTraceback:\n"
     ]
    }
   ],
   "source": [
    "#List the table names of the database.\n",
    "dbListTables(XXXX)"
   ]
  },
  {
   "cell_type": "code",
   "execution_count": 48,
   "id": "895087b5",
   "metadata": {},
   "outputs": [
    {
     "data": {
      "text/html": [
       "<table class=\"dataframe\">\n",
       "<caption>A data.frame: 10 × 7</caption>\n",
       "<thead>\n",
       "\t<tr><th scope=col>id</th><th scope=col>date</th><th scope=col>genus_species</th><th scope=col>general_area</th><th scope=col>time_start</th><th scope=col>latitude_start</th><th scope=col>longitude_start</th></tr>\n",
       "\t<tr><th scope=col>&lt;int&gt;</th><th scope=col>&lt;date&gt;</th><th scope=col>&lt;chr&gt;</th><th scope=col>&lt;chr&gt;</th><th scope=col>&lt;time&gt;</th><th scope=col>&lt;dbl&gt;</th><th scope=col>&lt;dbl&gt;</th></tr>\n",
       "</thead>\n",
       "<tbody>\n",
       "\t<tr><td> 1</td><td>2014-06-07</td><td>C.c. Loggerhead </td><td>Atlantic Ocean                 </td><td>20:18:00</td><td>38.85756</td><td>-74.94939</td></tr>\n",
       "\t<tr><td> 2</td><td>2014-06-14</td><td>D.c. Leatherback</td><td>Atlantic Ocean                 </td><td>15:15:00</td><td>38.92476</td><td>-74.93063</td></tr>\n",
       "\t<tr><td> 3</td><td>2014-06-15</td><td>C.c. Loggerhead </td><td>Atlantic Ocean                 </td><td>19:04:00</td><td>38.91881</td><td>-74.92920</td></tr>\n",
       "\t<tr><td> 4</td><td>2014-06-28</td><td>C.c. Loggerhead </td><td>Atlantic Ocean                 </td><td>19:28:00</td><td>38.88125</td><td>-74.88590</td></tr>\n",
       "\t<tr><td> 5</td><td>2014-06-30</td><td>C.c. Loggerhead </td><td>Atlantic Ocean                 </td><td>      NA</td><td>38.85850</td><td>-74.84258</td></tr>\n",
       "\t<tr><td> 6</td><td>2014-07-07</td><td>C.c. Loggerhead </td><td>Atlantic Ocean                 </td><td>19:29:00</td><td>38.86369</td><td>-74.90698</td></tr>\n",
       "\t<tr><td> 7</td><td>2014-07-23</td><td>C.c. Loggerhead </td><td>Atlantic Ocean and Delaware Bay</td><td>      NA</td><td>38.89758</td><td>-75.04668</td></tr>\n",
       "\t<tr><td> 8</td><td>2015-07-18</td><td>C.c. Loggerhead </td><td>Atlantic Ocean and Delaware Bay</td><td>19:28:00</td><td>38.94107</td><td>-74.90737</td></tr>\n",
       "\t<tr><td> 9</td><td>2015-07-23</td><td>C.c. Loggerhead </td><td>Atlantic Ocean                 </td><td>19:22:00</td><td>38.97689</td><td>-74.78844</td></tr>\n",
       "\t<tr><td>10</td><td>2015-08-15</td><td>C.c. Loggerhead </td><td>Atlantic Ocean                 </td><td>18:52:00</td><td>38.91563</td><td>-74.91563</td></tr>\n",
       "</tbody>\n",
       "</table>\n"
      ],
      "text/latex": [
       "A data.frame: 10 × 7\n",
       "\\begin{tabular}{lllllll}\n",
       " id & date & genus\\_species & general\\_area & time\\_start & latitude\\_start & longitude\\_start\\\\\n",
       " <int> & <date> & <chr> & <chr> & <time> & <dbl> & <dbl>\\\\\n",
       "\\hline\n",
       "\t  1 & 2014-06-07 & C.c. Loggerhead  & Atlantic Ocean                  & 20:18:00 & 38.85756 & -74.94939\\\\\n",
       "\t  2 & 2014-06-14 & D.c. Leatherback & Atlantic Ocean                  & 15:15:00 & 38.92476 & -74.93063\\\\\n",
       "\t  3 & 2014-06-15 & C.c. Loggerhead  & Atlantic Ocean                  & 19:04:00 & 38.91881 & -74.92920\\\\\n",
       "\t  4 & 2014-06-28 & C.c. Loggerhead  & Atlantic Ocean                  & 19:28:00 & 38.88125 & -74.88590\\\\\n",
       "\t  5 & 2014-06-30 & C.c. Loggerhead  & Atlantic Ocean                  &       NA & 38.85850 & -74.84258\\\\\n",
       "\t  6 & 2014-07-07 & C.c. Loggerhead  & Atlantic Ocean                  & 19:29:00 & 38.86369 & -74.90698\\\\\n",
       "\t  7 & 2014-07-23 & C.c. Loggerhead  & Atlantic Ocean and Delaware Bay &       NA & 38.89758 & -75.04668\\\\\n",
       "\t  8 & 2015-07-18 & C.c. Loggerhead  & Atlantic Ocean and Delaware Bay & 19:28:00 & 38.94107 & -74.90737\\\\\n",
       "\t  9 & 2015-07-23 & C.c. Loggerhead  & Atlantic Ocean                  & 19:22:00 & 38.97689 & -74.78844\\\\\n",
       "\t 10 & 2015-08-15 & C.c. Loggerhead  & Atlantic Ocean                  & 18:52:00 & 38.91563 & -74.91563\\\\\n",
       "\\end{tabular}\n"
      ],
      "text/markdown": [
       "\n",
       "A data.frame: 10 × 7\n",
       "\n",
       "| id &lt;int&gt; | date &lt;date&gt; | genus_species &lt;chr&gt; | general_area &lt;chr&gt; | time_start &lt;time&gt; | latitude_start &lt;dbl&gt; | longitude_start &lt;dbl&gt; |\n",
       "|---|---|---|---|---|---|---|\n",
       "|  1 | 2014-06-07 | C.c. Loggerhead  | Atlantic Ocean                  | 20:18:00 | 38.85756 | -74.94939 |\n",
       "|  2 | 2014-06-14 | D.c. Leatherback | Atlantic Ocean                  | 15:15:00 | 38.92476 | -74.93063 |\n",
       "|  3 | 2014-06-15 | C.c. Loggerhead  | Atlantic Ocean                  | 19:04:00 | 38.91881 | -74.92920 |\n",
       "|  4 | 2014-06-28 | C.c. Loggerhead  | Atlantic Ocean                  | 19:28:00 | 38.88125 | -74.88590 |\n",
       "|  5 | 2014-06-30 | C.c. Loggerhead  | Atlantic Ocean                  |       NA | 38.85850 | -74.84258 |\n",
       "|  6 | 2014-07-07 | C.c. Loggerhead  | Atlantic Ocean                  | 19:29:00 | 38.86369 | -74.90698 |\n",
       "|  7 | 2014-07-23 | C.c. Loggerhead  | Atlantic Ocean and Delaware Bay |       NA | 38.89758 | -75.04668 |\n",
       "|  8 | 2015-07-18 | C.c. Loggerhead  | Atlantic Ocean and Delaware Bay | 19:28:00 | 38.94107 | -74.90737 |\n",
       "|  9 | 2015-07-23 | C.c. Loggerhead  | Atlantic Ocean                  | 19:22:00 | 38.97689 | -74.78844 |\n",
       "| 10 | 2015-08-15 | C.c. Loggerhead  | Atlantic Ocean                  | 18:52:00 | 38.91563 | -74.91563 |\n",
       "\n"
      ],
      "text/plain": [
       "   id date       genus_species    general_area                    time_start\n",
       "1   1 2014-06-07 C.c. Loggerhead  Atlantic Ocean                  20:18:00  \n",
       "2   2 2014-06-14 D.c. Leatherback Atlantic Ocean                  15:15:00  \n",
       "3   3 2014-06-15 C.c. Loggerhead  Atlantic Ocean                  19:04:00  \n",
       "4   4 2014-06-28 C.c. Loggerhead  Atlantic Ocean                  19:28:00  \n",
       "5   5 2014-06-30 C.c. Loggerhead  Atlantic Ocean                        NA  \n",
       "6   6 2014-07-07 C.c. Loggerhead  Atlantic Ocean                  19:29:00  \n",
       "7   7 2014-07-23 C.c. Loggerhead  Atlantic Ocean and Delaware Bay       NA  \n",
       "8   8 2015-07-18 C.c. Loggerhead  Atlantic Ocean and Delaware Bay 19:28:00  \n",
       "9   9 2015-07-23 C.c. Loggerhead  Atlantic Ocean                  19:22:00  \n",
       "10 10 2015-08-15 C.c. Loggerhead  Atlantic Ocean                  18:52:00  \n",
       "   latitude_start longitude_start\n",
       "1  38.85756       -74.94939      \n",
       "2  38.92476       -74.93063      \n",
       "3  38.91881       -74.92920      \n",
       "4  38.88125       -74.88590      \n",
       "5  38.85850       -74.84258      \n",
       "6  38.86369       -74.90698      \n",
       "7  38.89758       -75.04668      \n",
       "8  38.94107       -74.90737      \n",
       "9  38.97689       -74.78844      \n",
       "10 38.91563       -74.91563      "
      ]
     },
     "metadata": {},
     "output_type": "display_data"
    }
   ],
   "source": [
    "#Complete a quick query to ensure your data is available on the server.\n",
    "test <- dbGetQuery(con, \"SELECT * \n",
    "                        FROM tablename\n",
    "                        LIMIT 10\")\n",
    "test"
   ]
  },
  {
   "cell_type": "markdown",
   "id": "40c58ed6",
   "metadata": {},
   "source": [
    "#### INNER JOIN (or JOIN)\n",
    "Display matching records from TWO tables! Choose to combine two tables using inner join. Write your question you are answering with your data query. <br>\n",
    "<br>\n",
    "**Example Question:** What was the general area where sea turtles were observed during 13:00-16:00 (PM trip)? (Change to fit your data)\n",
    "<br>\n",
    "**What tables are we joining?** species and trip_detail (Change to fit your data)"
   ]
  },
  {
   "cell_type": "code",
   "execution_count": null,
   "id": "1a4ca6e9",
   "metadata": {},
   "outputs": [],
   "source": []
  },
  {
   "cell_type": "code",
   "execution_count": null,
   "id": "dd1ab572",
   "metadata": {},
   "outputs": [],
   "source": []
  },
  {
   "cell_type": "markdown",
   "id": "ef7b08b2",
   "metadata": {},
   "source": [
    "#### INNER JOIN (or JOIN)\n",
    "Display matching records from TWO tables! Choose to combine two tables using inner join. Write your question you are answering with your data query. <br>\n",
    "<br>\n",
    "**Research Question:** \n",
    "<br>\n",
    "**What tables are we joining?** "
   ]
  },
  {
   "cell_type": "code",
   "execution_count": null,
   "id": "3305d4f9",
   "metadata": {},
   "outputs": [],
   "source": []
  },
  {
   "cell_type": "code",
   "execution_count": null,
   "id": "45ff97b4",
   "metadata": {},
   "outputs": [],
   "source": []
  },
  {
   "cell_type": "markdown",
   "id": "501a12a4",
   "metadata": {},
   "source": [
    "**LEFT JOIN**\n",
    "<br>\n",
    "Returns ALL records from the left table and matching records from the right table. Write your question you are answering with your data query. \n",
    "<br><br>\n",
    "**Research Question:** \n",
    "<br>\n",
    "**What tables are we joining?**"
   ]
  },
  {
   "cell_type": "code",
   "execution_count": null,
   "id": "df10c5a2",
   "metadata": {},
   "outputs": [],
   "source": []
  },
  {
   "cell_type": "code",
   "execution_count": null,
   "id": "1c3b9d6f",
   "metadata": {},
   "outputs": [],
   "source": []
  },
  {
   "cell_type": "markdown",
   "id": "80db46b1",
   "metadata": {},
   "source": [
    "**LEFT JOIN**\n",
    "<br>\n",
    "Returns ALL records from the left table and matching records from the right table. Write your question you are answering with your data query. \n",
    "<br><br>\n",
    "**Research Question:** \n",
    "<br>\n",
    "**What tables are we joining?**"
   ]
  },
  {
   "cell_type": "code",
   "execution_count": null,
   "id": "774545fa",
   "metadata": {},
   "outputs": [],
   "source": []
  },
  {
   "cell_type": "code",
   "execution_count": null,
   "id": "c8a8bf07",
   "metadata": {},
   "outputs": [],
   "source": []
  },
  {
   "cell_type": "markdown",
   "id": "db5bb8cc",
   "metadata": {},
   "source": [
    "**RIGHT JOIN**\n",
    "<br>\n",
    "Returns ALL records from the right table and matching records from the left table. Write your question you are answering with your data query. <br>\n",
    "<br>\n",
    "**Research Question:** \n",
    "<br>\n",
    "**What tables are we joining?** "
   ]
  },
  {
   "cell_type": "code",
   "execution_count": null,
   "id": "b8803f4a",
   "metadata": {},
   "outputs": [],
   "source": []
  },
  {
   "cell_type": "code",
   "execution_count": null,
   "id": "fb880186",
   "metadata": {},
   "outputs": [],
   "source": []
  },
  {
   "cell_type": "markdown",
   "id": "99300192",
   "metadata": {},
   "source": [
    "**RIGHT JOIN**\n",
    "<br>\n",
    "Returns ALL records from the right table and matching records from the left table. Write your question you are answering with your data query. <br>\n",
    "<br>\n",
    "**Research Question:** \n",
    "<br>\n",
    "**What tables are we joining?** "
   ]
  },
  {
   "cell_type": "code",
   "execution_count": null,
   "id": "29a56f86",
   "metadata": {},
   "outputs": [],
   "source": []
  },
  {
   "cell_type": "code",
   "execution_count": null,
   "id": "21d52a0e",
   "metadata": {},
   "outputs": [],
   "source": []
  },
  {
   "cell_type": "markdown",
   "id": "4f772ff9",
   "metadata": {},
   "source": [
    "**FULL JOIN** or UNION\n",
    "<br>\n",
    "Can answer multiple objectives at the same time! Not recommended for large databases. Results may slow your machine or quit before finishing. Write your question you are answering with your data query. You can write your code to test it out, but it is okay if it does not run properly due to memory.<br>\n",
    "<br>\n",
    "**Question:** \n",
    "<br>\n",
    "**What tables are we joining?**"
   ]
  },
  {
   "cell_type": "code",
   "execution_count": null,
   "id": "4f55852b",
   "metadata": {},
   "outputs": [],
   "source": []
  },
  {
   "cell_type": "code",
   "execution_count": null,
   "id": "5c796996",
   "metadata": {},
   "outputs": [],
   "source": []
  },
  {
   "cell_type": "code",
   "execution_count": null,
   "id": "d75205e6",
   "metadata": {},
   "outputs": [],
   "source": [
    "#Close the database connection :)\n",
    "dbDisconnect(con)"
   ]
  },
  {
   "cell_type": "markdown",
   "id": "0ff1d169",
   "metadata": {},
   "source": [
    "**STOP**<br>\n",
    "Before you submit, did you comment all your code?<br>\n",
    "Did you answer all of the questions in the markdown cells?<br>\n",
    "Did you rename the file and write your name at the top of the .pynb?"
   ]
  }
 ],
 "metadata": {
  "kernelspec": {
   "display_name": "R",
   "language": "R",
   "name": "ir"
  },
  "language_info": {
   "codemirror_mode": "r",
   "file_extension": ".r",
   "mimetype": "text/x-r-source",
   "name": "R",
   "pygments_lexer": "r",
   "version": "4.3.2"
  }
 },
 "nbformat": 4,
 "nbformat_minor": 5
}
