{
 "cells": [
  {
   "cell_type": "markdown",
   "id": "bb56bdf4",
   "metadata": {},
   "source": [
    "### Log File ###\n",
    "https://docs.google.com/document/d/1J0BhavsaOvLj2zazWyO4EYncpshuRhhFoclmYcd55-A/edit\n"
   ]
  },
  {
   "cell_type": "markdown",
   "id": "8b3fbde2",
   "metadata": {},
   "source": [
    "### Imports ###"
   ]
  },
  {
   "cell_type": "code",
   "execution_count": 10,
   "id": "34d008b6",
   "metadata": {},
   "outputs": [],
   "source": [
    "# Import libraries\n",
    "import pandas as pd\n",
    "import numpy as np\n",
    "import scipy.stats as stats\n",
    "import plotly.express as px\n",
    "import matplotlib.pyplot as plt\n",
    "import seaborn as sns\n",
    "from scipy.stats import pearsonr\n",
    "\n",
    "# Remove display restrictions\n",
    "pd.set_option('display.max_columns', None)  \n",
    "pd.set_option('display.width', None) "
   ]
  },
  {
   "cell_type": "markdown",
   "id": "3e8c1aed",
   "metadata": {},
   "source": [
    "### Read in File ###"
   ]
  },
  {
   "cell_type": "code",
   "execution_count": 2,
   "id": "030034bf",
   "metadata": {},
   "outputs": [],
   "source": [
    "# File path for file\n",
    "file_path = '/Users/udoychowdhury/Documents/Assitantship/Conditionally Admitted Students.xlsx'\n",
    "\n",
    "# Read the Excel file\n",
    "df = pd.read_excel(file_path, sheet_name='Conditional Admits')"
   ]
  },
  {
   "cell_type": "markdown",
   "id": "5e6b433a",
   "metadata": {},
   "source": [
    "### Get location of Counties ###"
   ]
  },
  {
   "cell_type": "code",
   "execution_count": 86,
   "id": "dfe85a15",
   "metadata": {},
   "outputs": [
    {
     "data": {
      "text/html": [
       "<div>\n",
       "<style scoped>\n",
       "    .dataframe tbody tr th:only-of-type {\n",
       "        vertical-align: middle;\n",
       "    }\n",
       "\n",
       "    .dataframe tbody tr th {\n",
       "        vertical-align: top;\n",
       "    }\n",
       "\n",
       "    .dataframe thead th {\n",
       "        text-align: right;\n",
       "    }\n",
       "</style>\n",
       "<table border=\"1\" class=\"dataframe\">\n",
       "  <thead>\n",
       "    <tr style=\"text-align: right;\">\n",
       "      <th></th>\n",
       "      <th>HS_STATE</th>\n",
       "      <th>HS_COUNTY</th>\n",
       "    </tr>\n",
       "  </thead>\n",
       "  <tbody>\n",
       "    <tr>\n",
       "      <th>0</th>\n",
       "      <td>NULL</td>\n",
       "      <td>Out of State</td>\n",
       "    </tr>\n",
       "    <tr>\n",
       "      <th>2</th>\n",
       "      <td>NJ</td>\n",
       "      <td>Ocean</td>\n",
       "    </tr>\n",
       "    <tr>\n",
       "      <th>4</th>\n",
       "      <td>NJ</td>\n",
       "      <td>Gloucester</td>\n",
       "    </tr>\n",
       "    <tr>\n",
       "      <th>5</th>\n",
       "      <td>NJ</td>\n",
       "      <td>Burlington</td>\n",
       "    </tr>\n",
       "    <tr>\n",
       "      <th>6</th>\n",
       "      <td>NJ</td>\n",
       "      <td>Middlesex</td>\n",
       "    </tr>\n",
       "    <tr>\n",
       "      <th>8</th>\n",
       "      <td>NJ</td>\n",
       "      <td>Atlantic</td>\n",
       "    </tr>\n",
       "    <tr>\n",
       "      <th>9</th>\n",
       "      <td>NJ</td>\n",
       "      <td>Camden</td>\n",
       "    </tr>\n",
       "    <tr>\n",
       "      <th>11</th>\n",
       "      <td>NJ</td>\n",
       "      <td>Monmouth</td>\n",
       "    </tr>\n",
       "    <tr>\n",
       "      <th>25</th>\n",
       "      <td>NULL</td>\n",
       "      <td>NULL</td>\n",
       "    </tr>\n",
       "    <tr>\n",
       "      <th>26</th>\n",
       "      <td>NJ</td>\n",
       "      <td>Bergen</td>\n",
       "    </tr>\n",
       "    <tr>\n",
       "      <th>27</th>\n",
       "      <td>NJ</td>\n",
       "      <td>Cape May</td>\n",
       "    </tr>\n",
       "    <tr>\n",
       "      <th>33</th>\n",
       "      <td>NJ</td>\n",
       "      <td>Cumberland</td>\n",
       "    </tr>\n",
       "    <tr>\n",
       "      <th>42</th>\n",
       "      <td>NJ</td>\n",
       "      <td>Sussex</td>\n",
       "    </tr>\n",
       "    <tr>\n",
       "      <th>46</th>\n",
       "      <td>NJ</td>\n",
       "      <td>Essex</td>\n",
       "    </tr>\n",
       "    <tr>\n",
       "      <th>52</th>\n",
       "      <td>DE</td>\n",
       "      <td>Out of State</td>\n",
       "    </tr>\n",
       "    <tr>\n",
       "      <th>58</th>\n",
       "      <td>NJ</td>\n",
       "      <td>Mercer</td>\n",
       "    </tr>\n",
       "    <tr>\n",
       "      <th>64</th>\n",
       "      <td>NJ</td>\n",
       "      <td>Hudson</td>\n",
       "    </tr>\n",
       "    <tr>\n",
       "      <th>72</th>\n",
       "      <td>NJ</td>\n",
       "      <td>Union</td>\n",
       "    </tr>\n",
       "    <tr>\n",
       "      <th>84</th>\n",
       "      <td>NJ</td>\n",
       "      <td>Salem</td>\n",
       "    </tr>\n",
       "    <tr>\n",
       "      <th>104</th>\n",
       "      <td>NJ</td>\n",
       "      <td>Somerset</td>\n",
       "    </tr>\n",
       "    <tr>\n",
       "      <th>126</th>\n",
       "      <td>CT</td>\n",
       "      <td>Out of State</td>\n",
       "    </tr>\n",
       "    <tr>\n",
       "      <th>130</th>\n",
       "      <td>NJ</td>\n",
       "      <td>Morris</td>\n",
       "    </tr>\n",
       "    <tr>\n",
       "      <th>136</th>\n",
       "      <td>NY</td>\n",
       "      <td>Out of State</td>\n",
       "    </tr>\n",
       "    <tr>\n",
       "      <th>151</th>\n",
       "      <td>PA</td>\n",
       "      <td>Out of State</td>\n",
       "    </tr>\n",
       "    <tr>\n",
       "      <th>210</th>\n",
       "      <td>NJ</td>\n",
       "      <td>Passaic</td>\n",
       "    </tr>\n",
       "    <tr>\n",
       "      <th>264</th>\n",
       "      <td>NJ</td>\n",
       "      <td>Warren</td>\n",
       "    </tr>\n",
       "    <tr>\n",
       "      <th>350</th>\n",
       "      <td>NJ</td>\n",
       "      <td>Hunterdon</td>\n",
       "    </tr>\n",
       "  </tbody>\n",
       "</table>\n",
       "</div>"
      ],
      "text/plain": [
       "    HS_STATE     HS_COUNTY\n",
       "0       NULL  Out of State\n",
       "2         NJ         Ocean\n",
       "4         NJ    Gloucester\n",
       "5         NJ    Burlington\n",
       "6         NJ     Middlesex\n",
       "8         NJ      Atlantic\n",
       "9         NJ        Camden\n",
       "11        NJ      Monmouth\n",
       "25      NULL          NULL\n",
       "26        NJ        Bergen\n",
       "27        NJ      Cape May\n",
       "33        NJ    Cumberland\n",
       "42        NJ        Sussex\n",
       "46        NJ         Essex\n",
       "52        DE  Out of State\n",
       "58        NJ        Mercer\n",
       "64        NJ        Hudson\n",
       "72        NJ         Union\n",
       "84        NJ         Salem\n",
       "104       NJ      Somerset\n",
       "126       CT  Out of State\n",
       "130       NJ        Morris\n",
       "136       NY  Out of State\n",
       "151       PA  Out of State\n",
       "210       NJ       Passaic\n",
       "264       NJ        Warren\n",
       "350       NJ     Hunterdon"
      ]
     },
     "metadata": {},
     "output_type": "display_data"
    }
   ],
   "source": [
    "# Get distinct pairs of HS_STATE and HS_COUNTY\n",
    "distinct_pairs = df[['HS_STATE', 'HS_COUNTY']].drop_duplicates()\n",
    "\n",
    "display(distinct_pairs)"
   ]
  },
  {
   "cell_type": "code",
   "execution_count": 24,
   "id": "37964a8c",
   "metadata": {},
   "outputs": [
    {
     "data": {
      "text/html": [
       "<div>\n",
       "<style scoped>\n",
       "    .dataframe tbody tr th:only-of-type {\n",
       "        vertical-align: middle;\n",
       "    }\n",
       "\n",
       "    .dataframe tbody tr th {\n",
       "        vertical-align: top;\n",
       "    }\n",
       "\n",
       "    .dataframe thead th {\n",
       "        text-align: right;\n",
       "    }\n",
       "</style>\n",
       "<table border=\"1\" class=\"dataframe\">\n",
       "  <thead>\n",
       "    <tr style=\"text-align: right;\">\n",
       "      <th></th>\n",
       "      <th>ID</th>\n",
       "      <th>SPRADDR_CNTY_CODE</th>\n",
       "      <th>SARADAP_STYP_CODE_2</th>\n",
       "      <th>SPRADDR_STAT_CODE</th>\n",
       "      <th>SARADAP_ADMT_CODE</th>\n",
       "      <th>ETHNICITY</th>\n",
       "      <th>SARAPPD_APDC_CODE</th>\n",
       "      <th>SARAPPD_APDC_DATE</th>\n",
       "      <th>SARADAP_MAJR_CODE_1</th>\n",
       "      <th>SARADAP_PROGRAM_1</th>\n",
       "      <th>SARADAP_MAJR_CODE_CONC_1</th>\n",
       "      <th>AGE</th>\n",
       "      <th>HS_NAME</th>\n",
       "      <th>HS_CITY</th>\n",
       "      <th>HS_STATE</th>\n",
       "      <th>HS_COUNTY</th>\n",
       "      <th>HS_LAT</th>\n",
       "      <th>HS_LONG</th>\n",
       "      <th>SPBPERS_SEX</th>\n",
       "      <th>SAT_MATH</th>\n",
       "      <th>SAT_ERBW</th>\n",
       "      <th>SAT_TOTAL</th>\n",
       "      <th>ACT_COMPOSITE</th>\n",
       "      <th>COL_DESC</th>\n",
       "      <th>COL_STATE</th>\n",
       "      <th>DCHS_IND</th>\n",
       "      <th>REC_TEST_PLAN</th>\n",
       "      <th>HOUSING_INTEREST</th>\n",
       "      <th>FIRST_GEN_IND</th>\n",
       "      <th>PCKG_GROUP_IND</th>\n",
       "      <th>HOUS_DEP_PAID</th>\n",
       "      <th>FAFSA_IND</th>\n",
       "      <th>REC_EOF_LOCATION</th>\n",
       "      <th>REC_COUNTRY_OF_ORIG</th>\n",
       "      <th>REC_COMPLETED_DATE</th>\n",
       "    </tr>\n",
       "  </thead>\n",
       "  <tbody>\n",
       "    <tr>\n",
       "      <th>0</th>\n",
       "      <td>132318</td>\n",
       "      <td>1</td>\n",
       "      <td>F</td>\n",
       "      <td>NJ</td>\n",
       "      <td>FX</td>\n",
       "      <td>Non-Resident</td>\n",
       "      <td>IE</td>\n",
       "      <td>2022-04-20</td>\n",
       "      <td>CSCI</td>\n",
       "      <td>CSCI</td>\n",
       "      <td>COND</td>\n",
       "      <td>21</td>\n",
       "      <td>MC College</td>\n",
       "      <td>Sylhet</td>\n",
       "      <td>NaN</td>\n",
       "      <td>Out of State</td>\n",
       "      <td>NaN</td>\n",
       "      <td>NaN</td>\n",
       "      <td>M</td>\n",
       "      <td>NaN</td>\n",
       "      <td>NaN</td>\n",
       "      <td>0</td>\n",
       "      <td>NaN</td>\n",
       "      <td>NaN</td>\n",
       "      <td>NaN</td>\n",
       "      <td>NaN</td>\n",
       "      <td>I will NOT submit SAT or ACT scores</td>\n",
       "      <td>HO</td>\n",
       "      <td>FGNN: Graduated from college: Bachelors degree</td>\n",
       "      <td>NaN</td>\n",
       "      <td>Y</td>\n",
       "      <td>N</td>\n",
       "      <td>NaN</td>\n",
       "      <td>Bangladesh</td>\n",
       "      <td>2022-03-23</td>\n",
       "    </tr>\n",
       "    <tr>\n",
       "      <th>1</th>\n",
       "      <td>132296</td>\n",
       "      <td>99</td>\n",
       "      <td>F</td>\n",
       "      <td>NaN</td>\n",
       "      <td>FX</td>\n",
       "      <td>Non-Resident</td>\n",
       "      <td>IE</td>\n",
       "      <td>2022-04-21</td>\n",
       "      <td>CSCI</td>\n",
       "      <td>CSCI</td>\n",
       "      <td>COND</td>\n",
       "      <td>18</td>\n",
       "      <td>Milestone College</td>\n",
       "      <td>Dhaka</td>\n",
       "      <td>NaN</td>\n",
       "      <td>Out of State</td>\n",
       "      <td>NaN</td>\n",
       "      <td>NaN</td>\n",
       "      <td>M</td>\n",
       "      <td>NaN</td>\n",
       "      <td>NaN</td>\n",
       "      <td>0</td>\n",
       "      <td>NaN</td>\n",
       "      <td>NaN</td>\n",
       "      <td>NaN</td>\n",
       "      <td>NaN</td>\n",
       "      <td>I will NOT submit SAT or ACT scores</td>\n",
       "      <td>HO</td>\n",
       "      <td>FGNN: Graduated from college: Bachelors degree</td>\n",
       "      <td>NaN</td>\n",
       "      <td>Y</td>\n",
       "      <td>N</td>\n",
       "      <td>NaN</td>\n",
       "      <td>Bangladesh</td>\n",
       "      <td>2022-03-21</td>\n",
       "    </tr>\n",
       "    <tr>\n",
       "      <th>2</th>\n",
       "      <td>131801</td>\n",
       "      <td>29</td>\n",
       "      <td>F</td>\n",
       "      <td>NJ</td>\n",
       "      <td>FR</td>\n",
       "      <td>Native Hawaiian or other Pacific Islander</td>\n",
       "      <td>IE</td>\n",
       "      <td>2022-04-23</td>\n",
       "      <td>BIOL</td>\n",
       "      <td>BIOL-BS</td>\n",
       "      <td>COND</td>\n",
       "      <td>18</td>\n",
       "      <td>BRICK TOWNSHIP HIGH SCHOOL</td>\n",
       "      <td>BRICKTOWN</td>\n",
       "      <td>NJ</td>\n",
       "      <td>Ocean</td>\n",
       "      <td>39.8359</td>\n",
       "      <td>-74.2029</td>\n",
       "      <td>M</td>\n",
       "      <td>NaN</td>\n",
       "      <td>NaN</td>\n",
       "      <td>0</td>\n",
       "      <td>NaN</td>\n",
       "      <td>OCEAN COUNTY COLLEGE</td>\n",
       "      <td>NJ</td>\n",
       "      <td>NaN</td>\n",
       "      <td>I will NOT submit SAT or ACT scores</td>\n",
       "      <td>HO</td>\n",
       "      <td>NaN</td>\n",
       "      <td>UGONN</td>\n",
       "      <td>Y</td>\n",
       "      <td>Y</td>\n",
       "      <td>NaN</td>\n",
       "      <td>NaN</td>\n",
       "      <td>2022-02-21</td>\n",
       "    </tr>\n",
       "    <tr>\n",
       "      <th>3</th>\n",
       "      <td>130864</td>\n",
       "      <td>29</td>\n",
       "      <td>F</td>\n",
       "      <td>NJ</td>\n",
       "      <td>FI</td>\n",
       "      <td>Non-Resident</td>\n",
       "      <td>IE</td>\n",
       "      <td>2022-03-25</td>\n",
       "      <td>BIOL</td>\n",
       "      <td>BIOL-BS</td>\n",
       "      <td>COND</td>\n",
       "      <td>19</td>\n",
       "      <td>SOUTHERN REGIONAL HIGH SCHOOL</td>\n",
       "      <td>MANAHAWKIN</td>\n",
       "      <td>NJ</td>\n",
       "      <td>Ocean</td>\n",
       "      <td>39.8359</td>\n",
       "      <td>-74.2029</td>\n",
       "      <td>F</td>\n",
       "      <td>NaN</td>\n",
       "      <td>NaN</td>\n",
       "      <td>0</td>\n",
       "      <td>NaN</td>\n",
       "      <td>NaN</td>\n",
       "      <td>NaN</td>\n",
       "      <td>NaN</td>\n",
       "      <td>I will submit SAT or ACT scores</td>\n",
       "      <td>N</td>\n",
       "      <td>FGNN: Graduate school</td>\n",
       "      <td>NaN</td>\n",
       "      <td>N</td>\n",
       "      <td>N</td>\n",
       "      <td>NaN</td>\n",
       "      <td>Sierra Leone</td>\n",
       "      <td>2021-10-22</td>\n",
       "    </tr>\n",
       "    <tr>\n",
       "      <th>4</th>\n",
       "      <td>132778</td>\n",
       "      <td>15</td>\n",
       "      <td>F</td>\n",
       "      <td>NJ</td>\n",
       "      <td>FR</td>\n",
       "      <td>Caucasian or White</td>\n",
       "      <td>IE</td>\n",
       "      <td>2022-08-30</td>\n",
       "      <td>HLSC</td>\n",
       "      <td>HLTH-BS</td>\n",
       "      <td>COND</td>\n",
       "      <td>18</td>\n",
       "      <td>DELSEA REGIONAL HIGH SCHOOL</td>\n",
       "      <td>FRANKLINVILLE</td>\n",
       "      <td>NJ</td>\n",
       "      <td>Gloucester</td>\n",
       "      <td>39.7067</td>\n",
       "      <td>-75.1299</td>\n",
       "      <td>F</td>\n",
       "      <td>NaN</td>\n",
       "      <td>NaN</td>\n",
       "      <td>0</td>\n",
       "      <td>NaN</td>\n",
       "      <td>NaN</td>\n",
       "      <td>NaN</td>\n",
       "      <td>NaN</td>\n",
       "      <td>I will NOT submit SAT or ACT scores</td>\n",
       "      <td>HO</td>\n",
       "      <td>FGNN: Graduated from college: Bachelors degree</td>\n",
       "      <td>UGOFFN</td>\n",
       "      <td>N</td>\n",
       "      <td>Y</td>\n",
       "      <td>NaN</td>\n",
       "      <td>NaN</td>\n",
       "      <td>2022-08-17</td>\n",
       "    </tr>\n",
       "    <tr>\n",
       "      <th>...</th>\n",
       "      <td>...</td>\n",
       "      <td>...</td>\n",
       "      <td>...</td>\n",
       "      <td>...</td>\n",
       "      <td>...</td>\n",
       "      <td>...</td>\n",
       "      <td>...</td>\n",
       "      <td>...</td>\n",
       "      <td>...</td>\n",
       "      <td>...</td>\n",
       "      <td>...</td>\n",
       "      <td>...</td>\n",
       "      <td>...</td>\n",
       "      <td>...</td>\n",
       "      <td>...</td>\n",
       "      <td>...</td>\n",
       "      <td>...</td>\n",
       "      <td>...</td>\n",
       "      <td>...</td>\n",
       "      <td>...</td>\n",
       "      <td>...</td>\n",
       "      <td>...</td>\n",
       "      <td>...</td>\n",
       "      <td>...</td>\n",
       "      <td>...</td>\n",
       "      <td>...</td>\n",
       "      <td>...</td>\n",
       "      <td>...</td>\n",
       "      <td>...</td>\n",
       "      <td>...</td>\n",
       "      <td>...</td>\n",
       "      <td>...</td>\n",
       "      <td>...</td>\n",
       "      <td>...</td>\n",
       "      <td>...</td>\n",
       "    </tr>\n",
       "    <tr>\n",
       "      <th>370</th>\n",
       "      <td>124114</td>\n",
       "      <td>1</td>\n",
       "      <td>F</td>\n",
       "      <td>NJ</td>\n",
       "      <td>FR</td>\n",
       "      <td>More Than 1 Race</td>\n",
       "      <td>IE</td>\n",
       "      <td>2022-08-08</td>\n",
       "      <td>CSCI</td>\n",
       "      <td>CSCI</td>\n",
       "      <td>COND</td>\n",
       "      <td>25</td>\n",
       "      <td>ATLANTIC COUNTY INST OF TECH</td>\n",
       "      <td>MAYS LANDING</td>\n",
       "      <td>NJ</td>\n",
       "      <td>Atlantic</td>\n",
       "      <td>39.4704</td>\n",
       "      <td>-74.4522</td>\n",
       "      <td>M</td>\n",
       "      <td>NaN</td>\n",
       "      <td>NaN</td>\n",
       "      <td>0</td>\n",
       "      <td>NaN</td>\n",
       "      <td>NaN</td>\n",
       "      <td>NaN</td>\n",
       "      <td>NaN</td>\n",
       "      <td>I will NOT submit SAT or ACT scores</td>\n",
       "      <td>N</td>\n",
       "      <td>FGNY: High School diploma or GED</td>\n",
       "      <td>UGWPN</td>\n",
       "      <td>N</td>\n",
       "      <td>Y</td>\n",
       "      <td>NaN</td>\n",
       "      <td>NaN</td>\n",
       "      <td>2022-07-29</td>\n",
       "    </tr>\n",
       "    <tr>\n",
       "      <th>371</th>\n",
       "      <td>132815</td>\n",
       "      <td>13</td>\n",
       "      <td>F</td>\n",
       "      <td>NJ</td>\n",
       "      <td>FR</td>\n",
       "      <td>Black or African American</td>\n",
       "      <td>IE</td>\n",
       "      <td>2022-05-01</td>\n",
       "      <td>HLSC</td>\n",
       "      <td>HLTH-BS</td>\n",
       "      <td>COND</td>\n",
       "      <td>18</td>\n",
       "      <td>NORTH STAR ACADEMY CHARTER</td>\n",
       "      <td>NEWARK</td>\n",
       "      <td>NJ</td>\n",
       "      <td>Essex</td>\n",
       "      <td>40.7879</td>\n",
       "      <td>-74.3687</td>\n",
       "      <td>F</td>\n",
       "      <td>540.0</td>\n",
       "      <td>510.0</td>\n",
       "      <td>1050</td>\n",
       "      <td>NaN</td>\n",
       "      <td>NaN</td>\n",
       "      <td>NaN</td>\n",
       "      <td>NaN</td>\n",
       "      <td>I will NOT submit SAT or ACT scores</td>\n",
       "      <td>HO</td>\n",
       "      <td>NaN</td>\n",
       "      <td>UGONN</td>\n",
       "      <td>N</td>\n",
       "      <td>Y</td>\n",
       "      <td>NaN</td>\n",
       "      <td>NaN</td>\n",
       "      <td>2021-12-22</td>\n",
       "    </tr>\n",
       "    <tr>\n",
       "      <th>372</th>\n",
       "      <td>132463</td>\n",
       "      <td>1</td>\n",
       "      <td>F</td>\n",
       "      <td>NJ</td>\n",
       "      <td>FR</td>\n",
       "      <td>Hispanic or Latino</td>\n",
       "      <td>IE</td>\n",
       "      <td>2022-06-07</td>\n",
       "      <td>HLSC</td>\n",
       "      <td>HLTH-BS</td>\n",
       "      <td>COND</td>\n",
       "      <td>19</td>\n",
       "      <td>EGG HARBOR TOWNSHIP HS</td>\n",
       "      <td>EGG HARBOR TOWNSHIP</td>\n",
       "      <td>NJ</td>\n",
       "      <td>Atlantic</td>\n",
       "      <td>39.4704</td>\n",
       "      <td>-74.4522</td>\n",
       "      <td>F</td>\n",
       "      <td>NaN</td>\n",
       "      <td>NaN</td>\n",
       "      <td>0</td>\n",
       "      <td>NaN</td>\n",
       "      <td>NaN</td>\n",
       "      <td>NaN</td>\n",
       "      <td>NaN</td>\n",
       "      <td>I will NOT submit SAT or ACT scores</td>\n",
       "      <td>HO</td>\n",
       "      <td>FGNY: Some college</td>\n",
       "      <td>REJISR</td>\n",
       "      <td>N</td>\n",
       "      <td>Y</td>\n",
       "      <td>NaN</td>\n",
       "      <td>NaN</td>\n",
       "      <td>2022-04-25</td>\n",
       "    </tr>\n",
       "    <tr>\n",
       "      <th>373</th>\n",
       "      <td>132421</td>\n",
       "      <td>1</td>\n",
       "      <td>F</td>\n",
       "      <td>NJ</td>\n",
       "      <td>FR</td>\n",
       "      <td>Caucasian or White</td>\n",
       "      <td>IE</td>\n",
       "      <td>2022-05-03</td>\n",
       "      <td>HLSC</td>\n",
       "      <td>HLTH-BS</td>\n",
       "      <td>COND</td>\n",
       "      <td>18</td>\n",
       "      <td>NaN</td>\n",
       "      <td>NaN</td>\n",
       "      <td>NaN</td>\n",
       "      <td>NaN</td>\n",
       "      <td>NaN</td>\n",
       "      <td>NaN</td>\n",
       "      <td>F</td>\n",
       "      <td>NaN</td>\n",
       "      <td>NaN</td>\n",
       "      <td>0</td>\n",
       "      <td>17.0</td>\n",
       "      <td>NaN</td>\n",
       "      <td>NaN</td>\n",
       "      <td>NaN</td>\n",
       "      <td>I will submit SAT or ACT scores</td>\n",
       "      <td>N</td>\n",
       "      <td>FGNY: Some college</td>\n",
       "      <td>UGWPN</td>\n",
       "      <td>N</td>\n",
       "      <td>Y</td>\n",
       "      <td>NaN</td>\n",
       "      <td>NaN</td>\n",
       "      <td>2022-04-13</td>\n",
       "    </tr>\n",
       "    <tr>\n",
       "      <th>374</th>\n",
       "      <td>131953</td>\n",
       "      <td>7</td>\n",
       "      <td>F</td>\n",
       "      <td>NJ</td>\n",
       "      <td>FR</td>\n",
       "      <td>Caucasian or White</td>\n",
       "      <td>IE</td>\n",
       "      <td>2022-05-01</td>\n",
       "      <td>MARS</td>\n",
       "      <td>MARS-BA</td>\n",
       "      <td>COND</td>\n",
       "      <td>18</td>\n",
       "      <td>BISHOP EUTACE PREP SCHOOL</td>\n",
       "      <td>PENNSAUKEN</td>\n",
       "      <td>NJ</td>\n",
       "      <td>Camden</td>\n",
       "      <td>39.9259</td>\n",
       "      <td>-75.1196</td>\n",
       "      <td>F</td>\n",
       "      <td>NaN</td>\n",
       "      <td>NaN</td>\n",
       "      <td>0</td>\n",
       "      <td>NaN</td>\n",
       "      <td>NaN</td>\n",
       "      <td>NaN</td>\n",
       "      <td>NaN</td>\n",
       "      <td>I will NOT submit SAT or ACT scores</td>\n",
       "      <td>N</td>\n",
       "      <td>NaN</td>\n",
       "      <td>UGONN</td>\n",
       "      <td>Y</td>\n",
       "      <td>Y</td>\n",
       "      <td>NaN</td>\n",
       "      <td>NaN</td>\n",
       "      <td>2022-02-11</td>\n",
       "    </tr>\n",
       "  </tbody>\n",
       "</table>\n",
       "<p>375 rows × 35 columns</p>\n",
       "</div>"
      ],
      "text/plain": [
       "         ID  SPRADDR_CNTY_CODE SARADAP_STYP_CODE_2 SPRADDR_STAT_CODE  \\\n",
       "0    132318                  1                   F                NJ   \n",
       "1    132296                 99                   F               NaN   \n",
       "2    131801                 29                   F                NJ   \n",
       "3    130864                 29                   F                NJ   \n",
       "4    132778                 15                   F                NJ   \n",
       "..      ...                ...                 ...               ...   \n",
       "370  124114                  1                   F                NJ   \n",
       "371  132815                 13                   F                NJ   \n",
       "372  132463                  1                   F                NJ   \n",
       "373  132421                  1                   F                NJ   \n",
       "374  131953                  7                   F                NJ   \n",
       "\n",
       "    SARADAP_ADMT_CODE                                  ETHNICITY  \\\n",
       "0                  FX                               Non-Resident   \n",
       "1                  FX                               Non-Resident   \n",
       "2                  FR  Native Hawaiian or other Pacific Islander   \n",
       "3                  FI                               Non-Resident   \n",
       "4                  FR                         Caucasian or White   \n",
       "..                ...                                        ...   \n",
       "370                FR                           More Than 1 Race   \n",
       "371                FR                  Black or African American   \n",
       "372                FR                         Hispanic or Latino   \n",
       "373                FR                         Caucasian or White   \n",
       "374                FR                         Caucasian or White   \n",
       "\n",
       "    SARAPPD_APDC_CODE SARAPPD_APDC_DATE SARADAP_MAJR_CODE_1 SARADAP_PROGRAM_1  \\\n",
       "0                  IE        2022-04-20                CSCI              CSCI   \n",
       "1                  IE        2022-04-21                CSCI              CSCI   \n",
       "2                  IE        2022-04-23                BIOL           BIOL-BS   \n",
       "3                  IE        2022-03-25                BIOL           BIOL-BS   \n",
       "4                  IE        2022-08-30                HLSC           HLTH-BS   \n",
       "..                ...               ...                 ...               ...   \n",
       "370                IE        2022-08-08                CSCI              CSCI   \n",
       "371                IE        2022-05-01                HLSC           HLTH-BS   \n",
       "372                IE        2022-06-07                HLSC           HLTH-BS   \n",
       "373                IE        2022-05-03                HLSC           HLTH-BS   \n",
       "374                IE        2022-05-01                MARS           MARS-BA   \n",
       "\n",
       "    SARADAP_MAJR_CODE_CONC_1  AGE                        HS_NAME  \\\n",
       "0                       COND   21                     MC College   \n",
       "1                       COND   18              Milestone College   \n",
       "2                       COND   18     BRICK TOWNSHIP HIGH SCHOOL   \n",
       "3                       COND   19  SOUTHERN REGIONAL HIGH SCHOOL   \n",
       "4                       COND   18    DELSEA REGIONAL HIGH SCHOOL   \n",
       "..                       ...  ...                            ...   \n",
       "370                     COND   25   ATLANTIC COUNTY INST OF TECH   \n",
       "371                     COND   18     NORTH STAR ACADEMY CHARTER   \n",
       "372                     COND   19         EGG HARBOR TOWNSHIP HS   \n",
       "373                     COND   18                            NaN   \n",
       "374                     COND   18      BISHOP EUTACE PREP SCHOOL   \n",
       "\n",
       "                 HS_CITY HS_STATE     HS_COUNTY   HS_LAT  HS_LONG SPBPERS_SEX  \\\n",
       "0                 Sylhet      NaN  Out of State      NaN      NaN           M   \n",
       "1                  Dhaka      NaN  Out of State      NaN      NaN           M   \n",
       "2              BRICKTOWN       NJ         Ocean  39.8359 -74.2029           M   \n",
       "3             MANAHAWKIN       NJ         Ocean  39.8359 -74.2029           F   \n",
       "4          FRANKLINVILLE       NJ    Gloucester  39.7067 -75.1299           F   \n",
       "..                   ...      ...           ...      ...      ...         ...   \n",
       "370         MAYS LANDING       NJ      Atlantic  39.4704 -74.4522           M   \n",
       "371               NEWARK       NJ         Essex  40.7879 -74.3687           F   \n",
       "372  EGG HARBOR TOWNSHIP       NJ      Atlantic  39.4704 -74.4522           F   \n",
       "373                  NaN      NaN           NaN      NaN      NaN           F   \n",
       "374           PENNSAUKEN       NJ        Camden  39.9259 -75.1196           F   \n",
       "\n",
       "     SAT_MATH  SAT_ERBW  SAT_TOTAL  ACT_COMPOSITE              COL_DESC  \\\n",
       "0         NaN       NaN          0            NaN                   NaN   \n",
       "1         NaN       NaN          0            NaN                   NaN   \n",
       "2         NaN       NaN          0            NaN  OCEAN COUNTY COLLEGE   \n",
       "3         NaN       NaN          0            NaN                   NaN   \n",
       "4         NaN       NaN          0            NaN                   NaN   \n",
       "..        ...       ...        ...            ...                   ...   \n",
       "370       NaN       NaN          0            NaN                   NaN   \n",
       "371     540.0     510.0       1050            NaN                   NaN   \n",
       "372       NaN       NaN          0            NaN                   NaN   \n",
       "373       NaN       NaN          0           17.0                   NaN   \n",
       "374       NaN       NaN          0            NaN                   NaN   \n",
       "\n",
       "    COL_STATE DCHS_IND                        REC_TEST_PLAN HOUSING_INTEREST  \\\n",
       "0         NaN      NaN  I will NOT submit SAT or ACT scores               HO   \n",
       "1         NaN      NaN  I will NOT submit SAT or ACT scores               HO   \n",
       "2          NJ      NaN  I will NOT submit SAT or ACT scores               HO   \n",
       "3         NaN      NaN      I will submit SAT or ACT scores                N   \n",
       "4         NaN      NaN  I will NOT submit SAT or ACT scores               HO   \n",
       "..        ...      ...                                  ...              ...   \n",
       "370       NaN      NaN  I will NOT submit SAT or ACT scores                N   \n",
       "371       NaN      NaN  I will NOT submit SAT or ACT scores               HO   \n",
       "372       NaN      NaN  I will NOT submit SAT or ACT scores               HO   \n",
       "373       NaN      NaN      I will submit SAT or ACT scores                N   \n",
       "374       NaN      NaN  I will NOT submit SAT or ACT scores                N   \n",
       "\n",
       "                                      FIRST_GEN_IND PCKG_GROUP_IND  \\\n",
       "0    FGNN: Graduated from college: Bachelors degree            NaN   \n",
       "1    FGNN: Graduated from college: Bachelors degree            NaN   \n",
       "2                                               NaN          UGONN   \n",
       "3                             FGNN: Graduate school            NaN   \n",
       "4    FGNN: Graduated from college: Bachelors degree         UGOFFN   \n",
       "..                                              ...            ...   \n",
       "370                FGNY: High School diploma or GED          UGWPN   \n",
       "371                                             NaN          UGONN   \n",
       "372                              FGNY: Some college         REJISR   \n",
       "373                              FGNY: Some college          UGWPN   \n",
       "374                                             NaN          UGONN   \n",
       "\n",
       "    HOUS_DEP_PAID FAFSA_IND REC_EOF_LOCATION REC_COUNTRY_OF_ORIG  \\\n",
       "0               Y         N              NaN          Bangladesh   \n",
       "1               Y         N              NaN          Bangladesh   \n",
       "2               Y         Y              NaN                 NaN   \n",
       "3               N         N              NaN        Sierra Leone   \n",
       "4               N         Y              NaN                 NaN   \n",
       "..            ...       ...              ...                 ...   \n",
       "370             N         Y              NaN                 NaN   \n",
       "371             N         Y              NaN                 NaN   \n",
       "372             N         Y              NaN                 NaN   \n",
       "373             N         Y              NaN                 NaN   \n",
       "374             Y         Y              NaN                 NaN   \n",
       "\n",
       "    REC_COMPLETED_DATE  \n",
       "0           2022-03-23  \n",
       "1           2022-03-21  \n",
       "2           2022-02-21  \n",
       "3           2021-10-22  \n",
       "4           2022-08-17  \n",
       "..                 ...  \n",
       "370         2022-07-29  \n",
       "371         2021-12-22  \n",
       "372         2022-04-25  \n",
       "373         2022-04-13  \n",
       "374         2022-02-11  \n",
       "\n",
       "[375 rows x 35 columns]"
      ]
     },
     "metadata": {},
     "output_type": "display_data"
    }
   ],
   "source": [
    "# The coordinates for each county\n",
    "coordinates = {\n",
    "    ('NJ', 'Ocean'): (39.8359, -74.2029),\n",
    "    ('NJ', 'Gloucester'): (39.7067, -75.1299),\n",
    "    ('NJ', 'Burlington'): (39.8670, -74.6693),\n",
    "    ('NJ', 'Middlesex'): (40.4279, -74.3960),\n",
    "    ('NJ', 'Atlantic'): (39.4704, -74.4522),\n",
    "    ('NJ', 'Camden'): (39.9259, -75.1196),\n",
    "    ('NJ', 'Monmouth'): (40.2584, -74.1285),\n",
    "    ('NJ', 'Bergen'): (40.9601, -74.0716),\n",
    "    ('NJ', 'Cape May'): (39.0240, -74.9145),\n",
    "    ('NJ', 'Cumberland'): (39.4070, -75.1719),\n",
    "    ('NJ', 'Sussex'): (41.1381, -74.6912),\n",
    "    ('NJ', 'Essex'): (40.7879, -74.3687),\n",
    "    ('NJ', 'Mercer'): (40.2803, -74.7123),\n",
    "    ('NJ', 'Hudson'): (40.7375, -74.0754),\n",
    "    ('NJ', 'Union'): (40.6595, -74.2884),\n",
    "    ('NJ', 'Salem'): (39.5560, -75.3316),\n",
    "    ('NJ', 'Somerset'): (40.5656, -74.6704),\n",
    "    ('NJ', 'Morris'): (40.8339, -74.6060),\n",
    "    ('NJ', 'Passaic'): (41.0455, -74.2730),\n",
    "    ('NJ', 'Warren'): (40.8597, -75.0037),\n",
    "    ('NJ', 'Hunterdon'): (40.5795, -74.9160),\n",
    "    ('DE', 'Out of State'): (39.1582, -75.5244),\n",
    "    ('CT', 'Out of State'): (41.7637, -72.6851),\n",
    "    ('NY', 'Out of State'): (42.6526, -73.7562),\n",
    "    ('PA', 'Out of State'): (40.2698, -76.8756)\n",
    "}\n",
    "\n",
    "# Add latitude and longitude columns\n",
    "df['HS_LAT'] = df.apply(\n",
    "    lambda row: coordinates.get((row['HS_STATE'], row['HS_COUNTY']), (None, None))[0], axis=1)\n",
    "df['HS_LONG'] = df.apply(\n",
    "    lambda row: coordinates.get((row['HS_STATE'], row['HS_COUNTY']), (None, None))[1], axis=1)\n",
    "\n",
    "# Find index of HS_COUNTY\n",
    "county_index = df.columns.get_loc('HS_COUNTY')\n",
    "\n",
    "# Insert HS_LAT and HS_LONG columns after it\n",
    "df.insert(county_index + 1, 'HS_LAT', df.pop('HS_LAT'))\n",
    "df.insert(county_index + 2, 'HS_LONG', df.pop('HS_LONG'))\n",
    "\n",
    "# Fill null values with N\n",
    "df['HOUSING_INTEREST'].fillna('N', inplace=True)\n",
    "df['HOUS_DEP_PAID'].fillna('N', inplace=True)\n",
    "df['FAFSA_IND'].fillna('N', inplace=True)\n",
    "\n",
    "# Make all object into NULL and numerical into 0\n",
    "for col in df.columns:\n",
    "    if df[col].dtype == 'object':\n",
    "        df[col].fillna('null', inplace=True) \n",
    "    elif df[col].dtype == 'int64' or df[col].dtype == 'float64':\n",
    "        df[col].fillna(0, inplace=True)\n",
    "\n",
    "# Display the updated DataFrame\n",
    "display(df)"
   ]
  },
  {
   "cell_type": "markdown",
   "id": "c465efdf",
   "metadata": {},
   "source": [
    "### Save the file ###"
   ]
  },
  {
   "cell_type": "code",
   "execution_count": 72,
   "id": "c588b916",
   "metadata": {},
   "outputs": [],
   "source": [
    "output_file_path = '/Users/udoychowdhury/Documents/Assitantship/Conditionally Admitted Students Updated.xlsx'\n",
    "df.to_excel(output_file_path, na_rep='NULL',index=False)"
   ]
  },
  {
   "cell_type": "markdown",
   "id": "83176239",
   "metadata": {},
   "source": [
    "### Read in file, See if manupilations worked ###"
   ]
  },
  {
   "cell_type": "code",
   "execution_count": 74,
   "id": "dd8b1c46",
   "metadata": {},
   "outputs": [
    {
     "data": {
      "text/html": [
       "<div>\n",
       "<style scoped>\n",
       "    .dataframe tbody tr th:only-of-type {\n",
       "        vertical-align: middle;\n",
       "    }\n",
       "\n",
       "    .dataframe tbody tr th {\n",
       "        vertical-align: top;\n",
       "    }\n",
       "\n",
       "    .dataframe thead th {\n",
       "        text-align: right;\n",
       "    }\n",
       "</style>\n",
       "<table border=\"1\" class=\"dataframe\">\n",
       "  <thead>\n",
       "    <tr style=\"text-align: right;\">\n",
       "      <th></th>\n",
       "      <th>ID</th>\n",
       "      <th>SPRADDR_CNTY_CODE</th>\n",
       "      <th>SARADAP_STYP_CODE_2</th>\n",
       "      <th>SPRADDR_STAT_CODE</th>\n",
       "      <th>SARADAP_ADMT_CODE</th>\n",
       "      <th>ETHNICITY</th>\n",
       "      <th>SARAPPD_APDC_CODE</th>\n",
       "      <th>SARAPPD_APDC_DATE</th>\n",
       "      <th>SARADAP_MAJR_CODE_1</th>\n",
       "      <th>SARADAP_PROGRAM_1</th>\n",
       "      <th>SARADAP_MAJR_CODE_CONC_1</th>\n",
       "      <th>AGE</th>\n",
       "      <th>HS_NAME</th>\n",
       "      <th>HS_CITY</th>\n",
       "      <th>HS_STATE</th>\n",
       "      <th>HS_COUNTY</th>\n",
       "      <th>HS_LAT</th>\n",
       "      <th>HS_LONG</th>\n",
       "      <th>SPBPERS_SEX</th>\n",
       "      <th>SAT_MATH</th>\n",
       "      <th>SAT_ERBW</th>\n",
       "      <th>SAT_TOTAL</th>\n",
       "      <th>ACT_COMPOSITE</th>\n",
       "      <th>COL_DESC</th>\n",
       "      <th>COL_STATE</th>\n",
       "      <th>DCHS_IND</th>\n",
       "      <th>REC_TEST_PLAN</th>\n",
       "      <th>HOUSING_INTEREST</th>\n",
       "      <th>FIRST_GEN_IND</th>\n",
       "      <th>PCKG_GROUP_IND</th>\n",
       "      <th>HOUS_DEP_PAID</th>\n",
       "      <th>FAFSA_IND</th>\n",
       "      <th>REC_EOF_LOCATION</th>\n",
       "      <th>REC_COUNTRY_OF_ORIG</th>\n",
       "      <th>REC_COMPLETED_DATE</th>\n",
       "    </tr>\n",
       "  </thead>\n",
       "  <tbody>\n",
       "    <tr>\n",
       "      <th>0</th>\n",
       "      <td>132318</td>\n",
       "      <td>1</td>\n",
       "      <td>F</td>\n",
       "      <td>NJ</td>\n",
       "      <td>FX</td>\n",
       "      <td>Non-Resident</td>\n",
       "      <td>IE</td>\n",
       "      <td>2022-04-20</td>\n",
       "      <td>CSCI</td>\n",
       "      <td>CSCI</td>\n",
       "      <td>COND</td>\n",
       "      <td>21</td>\n",
       "      <td>MC College</td>\n",
       "      <td>Sylhet</td>\n",
       "      <td>NULL</td>\n",
       "      <td>Out of State</td>\n",
       "      <td>0.0000</td>\n",
       "      <td>0.0000</td>\n",
       "      <td>M</td>\n",
       "      <td>0</td>\n",
       "      <td>0</td>\n",
       "      <td>0</td>\n",
       "      <td>0</td>\n",
       "      <td>NULL</td>\n",
       "      <td>NULL</td>\n",
       "      <td>N</td>\n",
       "      <td>I will NOT submit SAT or ACT scores</td>\n",
       "      <td>HO</td>\n",
       "      <td>FGNN: Graduated from college: Bachelors degree</td>\n",
       "      <td>NULL</td>\n",
       "      <td>Y</td>\n",
       "      <td>N</td>\n",
       "      <td>NULL</td>\n",
       "      <td>Bangladesh</td>\n",
       "      <td>2022-03-23</td>\n",
       "    </tr>\n",
       "    <tr>\n",
       "      <th>1</th>\n",
       "      <td>132296</td>\n",
       "      <td>99</td>\n",
       "      <td>F</td>\n",
       "      <td>NULL</td>\n",
       "      <td>FX</td>\n",
       "      <td>Non-Resident</td>\n",
       "      <td>IE</td>\n",
       "      <td>2022-04-21</td>\n",
       "      <td>CSCI</td>\n",
       "      <td>CSCI</td>\n",
       "      <td>COND</td>\n",
       "      <td>18</td>\n",
       "      <td>Milestone College</td>\n",
       "      <td>Dhaka</td>\n",
       "      <td>NULL</td>\n",
       "      <td>Out of State</td>\n",
       "      <td>0.0000</td>\n",
       "      <td>0.0000</td>\n",
       "      <td>M</td>\n",
       "      <td>0</td>\n",
       "      <td>0</td>\n",
       "      <td>0</td>\n",
       "      <td>0</td>\n",
       "      <td>NULL</td>\n",
       "      <td>NULL</td>\n",
       "      <td>N</td>\n",
       "      <td>I will NOT submit SAT or ACT scores</td>\n",
       "      <td>HO</td>\n",
       "      <td>FGNN: Graduated from college: Bachelors degree</td>\n",
       "      <td>NULL</td>\n",
       "      <td>Y</td>\n",
       "      <td>N</td>\n",
       "      <td>NULL</td>\n",
       "      <td>Bangladesh</td>\n",
       "      <td>2022-03-21</td>\n",
       "    </tr>\n",
       "    <tr>\n",
       "      <th>2</th>\n",
       "      <td>131801</td>\n",
       "      <td>29</td>\n",
       "      <td>F</td>\n",
       "      <td>NJ</td>\n",
       "      <td>FR</td>\n",
       "      <td>Native Hawaiian or other Pacific Islander</td>\n",
       "      <td>IE</td>\n",
       "      <td>2022-04-23</td>\n",
       "      <td>BIOL</td>\n",
       "      <td>BIOL-BS</td>\n",
       "      <td>COND</td>\n",
       "      <td>18</td>\n",
       "      <td>BRICK TOWNSHIP HIGH SCHOOL</td>\n",
       "      <td>BRICKTOWN</td>\n",
       "      <td>NJ</td>\n",
       "      <td>Ocean</td>\n",
       "      <td>39.8359</td>\n",
       "      <td>-74.2029</td>\n",
       "      <td>M</td>\n",
       "      <td>0</td>\n",
       "      <td>0</td>\n",
       "      <td>0</td>\n",
       "      <td>0</td>\n",
       "      <td>OCEAN COUNTY COLLEGE</td>\n",
       "      <td>NJ</td>\n",
       "      <td>N</td>\n",
       "      <td>I will NOT submit SAT or ACT scores</td>\n",
       "      <td>HO</td>\n",
       "      <td>NULL</td>\n",
       "      <td>UGONN</td>\n",
       "      <td>Y</td>\n",
       "      <td>Y</td>\n",
       "      <td>NULL</td>\n",
       "      <td>NULL</td>\n",
       "      <td>2022-02-21</td>\n",
       "    </tr>\n",
       "    <tr>\n",
       "      <th>3</th>\n",
       "      <td>130864</td>\n",
       "      <td>29</td>\n",
       "      <td>F</td>\n",
       "      <td>NJ</td>\n",
       "      <td>FI</td>\n",
       "      <td>Non-Resident</td>\n",
       "      <td>IE</td>\n",
       "      <td>2022-03-25</td>\n",
       "      <td>BIOL</td>\n",
       "      <td>BIOL-BS</td>\n",
       "      <td>COND</td>\n",
       "      <td>19</td>\n",
       "      <td>SOUTHERN REGIONAL HIGH SCHOOL</td>\n",
       "      <td>MANAHAWKIN</td>\n",
       "      <td>NJ</td>\n",
       "      <td>Ocean</td>\n",
       "      <td>39.8359</td>\n",
       "      <td>-74.2029</td>\n",
       "      <td>F</td>\n",
       "      <td>0</td>\n",
       "      <td>0</td>\n",
       "      <td>0</td>\n",
       "      <td>0</td>\n",
       "      <td>NULL</td>\n",
       "      <td>NULL</td>\n",
       "      <td>N</td>\n",
       "      <td>I will submit SAT or ACT scores</td>\n",
       "      <td>N</td>\n",
       "      <td>FGNN: Graduate school</td>\n",
       "      <td>NULL</td>\n",
       "      <td>N</td>\n",
       "      <td>N</td>\n",
       "      <td>NULL</td>\n",
       "      <td>Sierra Leone</td>\n",
       "      <td>2021-10-22</td>\n",
       "    </tr>\n",
       "    <tr>\n",
       "      <th>4</th>\n",
       "      <td>132778</td>\n",
       "      <td>15</td>\n",
       "      <td>F</td>\n",
       "      <td>NJ</td>\n",
       "      <td>FR</td>\n",
       "      <td>Caucasian or White</td>\n",
       "      <td>IE</td>\n",
       "      <td>2022-08-30</td>\n",
       "      <td>HLSC</td>\n",
       "      <td>HLTH-BS</td>\n",
       "      <td>COND</td>\n",
       "      <td>18</td>\n",
       "      <td>DELSEA REGIONAL HIGH SCHOOL</td>\n",
       "      <td>FRANKLINVILLE</td>\n",
       "      <td>NJ</td>\n",
       "      <td>Gloucester</td>\n",
       "      <td>39.7067</td>\n",
       "      <td>-75.1299</td>\n",
       "      <td>F</td>\n",
       "      <td>0</td>\n",
       "      <td>0</td>\n",
       "      <td>0</td>\n",
       "      <td>0</td>\n",
       "      <td>NULL</td>\n",
       "      <td>NULL</td>\n",
       "      <td>N</td>\n",
       "      <td>I will NOT submit SAT or ACT scores</td>\n",
       "      <td>HO</td>\n",
       "      <td>FGNN: Graduated from college: Bachelors degree</td>\n",
       "      <td>UGOFFN</td>\n",
       "      <td>N</td>\n",
       "      <td>Y</td>\n",
       "      <td>NULL</td>\n",
       "      <td>NULL</td>\n",
       "      <td>2022-08-17</td>\n",
       "    </tr>\n",
       "    <tr>\n",
       "      <th>...</th>\n",
       "      <td>...</td>\n",
       "      <td>...</td>\n",
       "      <td>...</td>\n",
       "      <td>...</td>\n",
       "      <td>...</td>\n",
       "      <td>...</td>\n",
       "      <td>...</td>\n",
       "      <td>...</td>\n",
       "      <td>...</td>\n",
       "      <td>...</td>\n",
       "      <td>...</td>\n",
       "      <td>...</td>\n",
       "      <td>...</td>\n",
       "      <td>...</td>\n",
       "      <td>...</td>\n",
       "      <td>...</td>\n",
       "      <td>...</td>\n",
       "      <td>...</td>\n",
       "      <td>...</td>\n",
       "      <td>...</td>\n",
       "      <td>...</td>\n",
       "      <td>...</td>\n",
       "      <td>...</td>\n",
       "      <td>...</td>\n",
       "      <td>...</td>\n",
       "      <td>...</td>\n",
       "      <td>...</td>\n",
       "      <td>...</td>\n",
       "      <td>...</td>\n",
       "      <td>...</td>\n",
       "      <td>...</td>\n",
       "      <td>...</td>\n",
       "      <td>...</td>\n",
       "      <td>...</td>\n",
       "      <td>...</td>\n",
       "    </tr>\n",
       "    <tr>\n",
       "      <th>370</th>\n",
       "      <td>124114</td>\n",
       "      <td>1</td>\n",
       "      <td>F</td>\n",
       "      <td>NJ</td>\n",
       "      <td>FR</td>\n",
       "      <td>More Than 1 Race</td>\n",
       "      <td>IE</td>\n",
       "      <td>2022-08-08</td>\n",
       "      <td>CSCI</td>\n",
       "      <td>CSCI</td>\n",
       "      <td>COND</td>\n",
       "      <td>25</td>\n",
       "      <td>ATLANTIC COUNTY INST OF TECH</td>\n",
       "      <td>MAYS LANDING</td>\n",
       "      <td>NJ</td>\n",
       "      <td>Atlantic</td>\n",
       "      <td>39.4704</td>\n",
       "      <td>-74.4522</td>\n",
       "      <td>M</td>\n",
       "      <td>0</td>\n",
       "      <td>0</td>\n",
       "      <td>0</td>\n",
       "      <td>0</td>\n",
       "      <td>NULL</td>\n",
       "      <td>NULL</td>\n",
       "      <td>N</td>\n",
       "      <td>I will NOT submit SAT or ACT scores</td>\n",
       "      <td>N</td>\n",
       "      <td>FGNY: High School diploma or GED</td>\n",
       "      <td>UGWPN</td>\n",
       "      <td>N</td>\n",
       "      <td>Y</td>\n",
       "      <td>NULL</td>\n",
       "      <td>NULL</td>\n",
       "      <td>2022-07-29</td>\n",
       "    </tr>\n",
       "    <tr>\n",
       "      <th>371</th>\n",
       "      <td>132815</td>\n",
       "      <td>13</td>\n",
       "      <td>F</td>\n",
       "      <td>NJ</td>\n",
       "      <td>FR</td>\n",
       "      <td>Black or African American</td>\n",
       "      <td>IE</td>\n",
       "      <td>2022-05-01</td>\n",
       "      <td>HLSC</td>\n",
       "      <td>HLTH-BS</td>\n",
       "      <td>COND</td>\n",
       "      <td>18</td>\n",
       "      <td>NORTH STAR ACADEMY CHARTER</td>\n",
       "      <td>NEWARK</td>\n",
       "      <td>NJ</td>\n",
       "      <td>Essex</td>\n",
       "      <td>40.7879</td>\n",
       "      <td>-74.3687</td>\n",
       "      <td>F</td>\n",
       "      <td>540</td>\n",
       "      <td>510</td>\n",
       "      <td>1050</td>\n",
       "      <td>0</td>\n",
       "      <td>NULL</td>\n",
       "      <td>NULL</td>\n",
       "      <td>N</td>\n",
       "      <td>I will NOT submit SAT or ACT scores</td>\n",
       "      <td>HO</td>\n",
       "      <td>NULL</td>\n",
       "      <td>UGONN</td>\n",
       "      <td>N</td>\n",
       "      <td>Y</td>\n",
       "      <td>NULL</td>\n",
       "      <td>NULL</td>\n",
       "      <td>2021-12-22</td>\n",
       "    </tr>\n",
       "    <tr>\n",
       "      <th>372</th>\n",
       "      <td>132463</td>\n",
       "      <td>1</td>\n",
       "      <td>F</td>\n",
       "      <td>NJ</td>\n",
       "      <td>FR</td>\n",
       "      <td>Hispanic or Latino</td>\n",
       "      <td>IE</td>\n",
       "      <td>2022-06-07</td>\n",
       "      <td>HLSC</td>\n",
       "      <td>HLTH-BS</td>\n",
       "      <td>COND</td>\n",
       "      <td>19</td>\n",
       "      <td>EGG HARBOR TOWNSHIP HS</td>\n",
       "      <td>EGG HARBOR TOWNSHIP</td>\n",
       "      <td>NJ</td>\n",
       "      <td>Atlantic</td>\n",
       "      <td>39.4704</td>\n",
       "      <td>-74.4522</td>\n",
       "      <td>F</td>\n",
       "      <td>0</td>\n",
       "      <td>0</td>\n",
       "      <td>0</td>\n",
       "      <td>0</td>\n",
       "      <td>NULL</td>\n",
       "      <td>NULL</td>\n",
       "      <td>N</td>\n",
       "      <td>I will NOT submit SAT or ACT scores</td>\n",
       "      <td>HO</td>\n",
       "      <td>FGNY: Some college</td>\n",
       "      <td>REJISR</td>\n",
       "      <td>N</td>\n",
       "      <td>Y</td>\n",
       "      <td>NULL</td>\n",
       "      <td>NULL</td>\n",
       "      <td>2022-04-25</td>\n",
       "    </tr>\n",
       "    <tr>\n",
       "      <th>373</th>\n",
       "      <td>132421</td>\n",
       "      <td>1</td>\n",
       "      <td>F</td>\n",
       "      <td>NJ</td>\n",
       "      <td>FR</td>\n",
       "      <td>Caucasian or White</td>\n",
       "      <td>IE</td>\n",
       "      <td>2022-05-03</td>\n",
       "      <td>HLSC</td>\n",
       "      <td>HLTH-BS</td>\n",
       "      <td>COND</td>\n",
       "      <td>18</td>\n",
       "      <td>NULL</td>\n",
       "      <td>NULL</td>\n",
       "      <td>NULL</td>\n",
       "      <td>NULL</td>\n",
       "      <td>0.0000</td>\n",
       "      <td>0.0000</td>\n",
       "      <td>F</td>\n",
       "      <td>0</td>\n",
       "      <td>0</td>\n",
       "      <td>0</td>\n",
       "      <td>17</td>\n",
       "      <td>NULL</td>\n",
       "      <td>NULL</td>\n",
       "      <td>N</td>\n",
       "      <td>I will submit SAT or ACT scores</td>\n",
       "      <td>N</td>\n",
       "      <td>FGNY: Some college</td>\n",
       "      <td>UGWPN</td>\n",
       "      <td>N</td>\n",
       "      <td>Y</td>\n",
       "      <td>NULL</td>\n",
       "      <td>NULL</td>\n",
       "      <td>2022-04-13</td>\n",
       "    </tr>\n",
       "    <tr>\n",
       "      <th>374</th>\n",
       "      <td>131953</td>\n",
       "      <td>7</td>\n",
       "      <td>F</td>\n",
       "      <td>NJ</td>\n",
       "      <td>FR</td>\n",
       "      <td>Caucasian or White</td>\n",
       "      <td>IE</td>\n",
       "      <td>2022-05-01</td>\n",
       "      <td>MARS</td>\n",
       "      <td>MARS-BA</td>\n",
       "      <td>COND</td>\n",
       "      <td>18</td>\n",
       "      <td>BISHOP EUTACE PREP SCHOOL</td>\n",
       "      <td>PENNSAUKEN</td>\n",
       "      <td>NJ</td>\n",
       "      <td>Camden</td>\n",
       "      <td>39.9259</td>\n",
       "      <td>-75.1196</td>\n",
       "      <td>F</td>\n",
       "      <td>0</td>\n",
       "      <td>0</td>\n",
       "      <td>0</td>\n",
       "      <td>0</td>\n",
       "      <td>NULL</td>\n",
       "      <td>NULL</td>\n",
       "      <td>N</td>\n",
       "      <td>I will NOT submit SAT or ACT scores</td>\n",
       "      <td>N</td>\n",
       "      <td>NULL</td>\n",
       "      <td>UGONN</td>\n",
       "      <td>Y</td>\n",
       "      <td>Y</td>\n",
       "      <td>NULL</td>\n",
       "      <td>NULL</td>\n",
       "      <td>2022-02-11</td>\n",
       "    </tr>\n",
       "  </tbody>\n",
       "</table>\n",
       "<p>375 rows × 35 columns</p>\n",
       "</div>"
      ],
      "text/plain": [
       "         ID  SPRADDR_CNTY_CODE SARADAP_STYP_CODE_2 SPRADDR_STAT_CODE  \\\n",
       "0    132318                  1                   F                NJ   \n",
       "1    132296                 99                   F              NULL   \n",
       "2    131801                 29                   F                NJ   \n",
       "3    130864                 29                   F                NJ   \n",
       "4    132778                 15                   F                NJ   \n",
       "..      ...                ...                 ...               ...   \n",
       "370  124114                  1                   F                NJ   \n",
       "371  132815                 13                   F                NJ   \n",
       "372  132463                  1                   F                NJ   \n",
       "373  132421                  1                   F                NJ   \n",
       "374  131953                  7                   F                NJ   \n",
       "\n",
       "    SARADAP_ADMT_CODE                                  ETHNICITY  \\\n",
       "0                  FX                               Non-Resident   \n",
       "1                  FX                               Non-Resident   \n",
       "2                  FR  Native Hawaiian or other Pacific Islander   \n",
       "3                  FI                               Non-Resident   \n",
       "4                  FR                         Caucasian or White   \n",
       "..                ...                                        ...   \n",
       "370                FR                           More Than 1 Race   \n",
       "371                FR                  Black or African American   \n",
       "372                FR                         Hispanic or Latino   \n",
       "373                FR                         Caucasian or White   \n",
       "374                FR                         Caucasian or White   \n",
       "\n",
       "    SARAPPD_APDC_CODE SARAPPD_APDC_DATE SARADAP_MAJR_CODE_1 SARADAP_PROGRAM_1  \\\n",
       "0                  IE        2022-04-20                CSCI              CSCI   \n",
       "1                  IE        2022-04-21                CSCI              CSCI   \n",
       "2                  IE        2022-04-23                BIOL           BIOL-BS   \n",
       "3                  IE        2022-03-25                BIOL           BIOL-BS   \n",
       "4                  IE        2022-08-30                HLSC           HLTH-BS   \n",
       "..                ...               ...                 ...               ...   \n",
       "370                IE        2022-08-08                CSCI              CSCI   \n",
       "371                IE        2022-05-01                HLSC           HLTH-BS   \n",
       "372                IE        2022-06-07                HLSC           HLTH-BS   \n",
       "373                IE        2022-05-03                HLSC           HLTH-BS   \n",
       "374                IE        2022-05-01                MARS           MARS-BA   \n",
       "\n",
       "    SARADAP_MAJR_CODE_CONC_1  AGE                        HS_NAME  \\\n",
       "0                       COND   21                     MC College   \n",
       "1                       COND   18              Milestone College   \n",
       "2                       COND   18     BRICK TOWNSHIP HIGH SCHOOL   \n",
       "3                       COND   19  SOUTHERN REGIONAL HIGH SCHOOL   \n",
       "4                       COND   18    DELSEA REGIONAL HIGH SCHOOL   \n",
       "..                       ...  ...                            ...   \n",
       "370                     COND   25   ATLANTIC COUNTY INST OF TECH   \n",
       "371                     COND   18     NORTH STAR ACADEMY CHARTER   \n",
       "372                     COND   19         EGG HARBOR TOWNSHIP HS   \n",
       "373                     COND   18                           NULL   \n",
       "374                     COND   18      BISHOP EUTACE PREP SCHOOL   \n",
       "\n",
       "                 HS_CITY HS_STATE     HS_COUNTY   HS_LAT  HS_LONG SPBPERS_SEX  \\\n",
       "0                 Sylhet     NULL  Out of State   0.0000   0.0000           M   \n",
       "1                  Dhaka     NULL  Out of State   0.0000   0.0000           M   \n",
       "2              BRICKTOWN       NJ         Ocean  39.8359 -74.2029           M   \n",
       "3             MANAHAWKIN       NJ         Ocean  39.8359 -74.2029           F   \n",
       "4          FRANKLINVILLE       NJ    Gloucester  39.7067 -75.1299           F   \n",
       "..                   ...      ...           ...      ...      ...         ...   \n",
       "370         MAYS LANDING       NJ      Atlantic  39.4704 -74.4522           M   \n",
       "371               NEWARK       NJ         Essex  40.7879 -74.3687           F   \n",
       "372  EGG HARBOR TOWNSHIP       NJ      Atlantic  39.4704 -74.4522           F   \n",
       "373                 NULL     NULL          NULL   0.0000   0.0000           F   \n",
       "374           PENNSAUKEN       NJ        Camden  39.9259 -75.1196           F   \n",
       "\n",
       "     SAT_MATH  SAT_ERBW  SAT_TOTAL  ACT_COMPOSITE              COL_DESC  \\\n",
       "0           0         0          0              0                  NULL   \n",
       "1           0         0          0              0                  NULL   \n",
       "2           0         0          0              0  OCEAN COUNTY COLLEGE   \n",
       "3           0         0          0              0                  NULL   \n",
       "4           0         0          0              0                  NULL   \n",
       "..        ...       ...        ...            ...                   ...   \n",
       "370         0         0          0              0                  NULL   \n",
       "371       540       510       1050              0                  NULL   \n",
       "372         0         0          0              0                  NULL   \n",
       "373         0         0          0             17                  NULL   \n",
       "374         0         0          0              0                  NULL   \n",
       "\n",
       "    COL_STATE DCHS_IND                        REC_TEST_PLAN HOUSING_INTEREST  \\\n",
       "0        NULL        N  I will NOT submit SAT or ACT scores               HO   \n",
       "1        NULL        N  I will NOT submit SAT or ACT scores               HO   \n",
       "2          NJ        N  I will NOT submit SAT or ACT scores               HO   \n",
       "3        NULL        N      I will submit SAT or ACT scores                N   \n",
       "4        NULL        N  I will NOT submit SAT or ACT scores               HO   \n",
       "..        ...      ...                                  ...              ...   \n",
       "370      NULL        N  I will NOT submit SAT or ACT scores                N   \n",
       "371      NULL        N  I will NOT submit SAT or ACT scores               HO   \n",
       "372      NULL        N  I will NOT submit SAT or ACT scores               HO   \n",
       "373      NULL        N      I will submit SAT or ACT scores                N   \n",
       "374      NULL        N  I will NOT submit SAT or ACT scores                N   \n",
       "\n",
       "                                      FIRST_GEN_IND PCKG_GROUP_IND  \\\n",
       "0    FGNN: Graduated from college: Bachelors degree           NULL   \n",
       "1    FGNN: Graduated from college: Bachelors degree           NULL   \n",
       "2                                              NULL          UGONN   \n",
       "3                             FGNN: Graduate school           NULL   \n",
       "4    FGNN: Graduated from college: Bachelors degree         UGOFFN   \n",
       "..                                              ...            ...   \n",
       "370                FGNY: High School diploma or GED          UGWPN   \n",
       "371                                            NULL          UGONN   \n",
       "372                              FGNY: Some college         REJISR   \n",
       "373                              FGNY: Some college          UGWPN   \n",
       "374                                            NULL          UGONN   \n",
       "\n",
       "    HOUS_DEP_PAID FAFSA_IND REC_EOF_LOCATION REC_COUNTRY_OF_ORIG  \\\n",
       "0               Y         N             NULL          Bangladesh   \n",
       "1               Y         N             NULL          Bangladesh   \n",
       "2               Y         Y             NULL                NULL   \n",
       "3               N         N             NULL        Sierra Leone   \n",
       "4               N         Y             NULL                NULL   \n",
       "..            ...       ...              ...                 ...   \n",
       "370             N         Y             NULL                NULL   \n",
       "371             N         Y             NULL                NULL   \n",
       "372             N         Y             NULL                NULL   \n",
       "373             N         Y             NULL                NULL   \n",
       "374             Y         Y             NULL                NULL   \n",
       "\n",
       "    REC_COMPLETED_DATE  \n",
       "0           2022-03-23  \n",
       "1           2022-03-21  \n",
       "2           2022-02-21  \n",
       "3           2021-10-22  \n",
       "4           2022-08-17  \n",
       "..                 ...  \n",
       "370         2022-07-29  \n",
       "371         2021-12-22  \n",
       "372         2022-04-25  \n",
       "373         2022-04-13  \n",
       "374         2022-02-11  \n",
       "\n",
       "[375 rows x 35 columns]"
      ]
     },
     "metadata": {},
     "output_type": "display_data"
    }
   ],
   "source": [
    "# File path for file\n",
    "file_path = '/Users/udoychowdhury/Documents/Assitantship/Conditionally Admitted Students Updated.xlsx'\n",
    "# Read the Excel file\n",
    "df = pd.read_excel(file_path)\n",
    "# Make the null values into NULL\n",
    "df.replace({pd.NA: 'NULL', pd.NaT: 'NULL'}, inplace=True)\n",
    "# Disaply df\n",
    "display(df)"
   ]
  },
  {
   "cell_type": "markdown",
   "id": "73a41c5f",
   "metadata": {},
   "source": [
    "### Check Data Types ###"
   ]
  },
  {
   "cell_type": "code",
   "execution_count": 33,
   "id": "1c0d2b4d",
   "metadata": {},
   "outputs": [
    {
     "data": {
      "text/plain": [
       "ID                            int64\n",
       "SPRADDR_CNTY_CODE             int64\n",
       "SARADAP_STYP_CODE_2          object\n",
       "SPRADDR_STAT_CODE            object\n",
       "SARADAP_ADMT_CODE            object\n",
       "ETHNICITY                    object\n",
       "SARAPPD_APDC_CODE            object\n",
       "SARAPPD_APDC_DATE            object\n",
       "SARADAP_MAJR_CODE_1          object\n",
       "SARADAP_PROGRAM_1            object\n",
       "SARADAP_MAJR_CODE_CONC_1     object\n",
       "AGE                           int64\n",
       "HS_NAME                      object\n",
       "HS_CITY                      object\n",
       "HS_STATE                     object\n",
       "HS_COUNTY                    object\n",
       "HS_LAT                      float64\n",
       "HS_LONG                     float64\n",
       "SPBPERS_SEX                  object\n",
       "SAT_MATH                      int64\n",
       "SAT_ERBW                      int64\n",
       "SAT_TOTAL                     int64\n",
       "ACT_COMPOSITE                 int64\n",
       "COL_DESC                     object\n",
       "COL_STATE                    object\n",
       "DCHS_IND                     object\n",
       "REC_TEST_PLAN                object\n",
       "HOUSING_INTEREST             object\n",
       "FIRST_GEN_IND                object\n",
       "PCKG_GROUP_IND               object\n",
       "HOUS_DEP_PAID                object\n",
       "FAFSA_IND                    object\n",
       "REC_EOF_LOCATION             object\n",
       "REC_COUNTRY_OF_ORIG          object\n",
       "REC_COMPLETED_DATE           object\n",
       "dtype: object"
      ]
     },
     "execution_count": 33,
     "metadata": {},
     "output_type": "execute_result"
    }
   ],
   "source": [
    "df.dtypes"
   ]
  },
  {
   "cell_type": "markdown",
   "id": "a28e7a0c",
   "metadata": {},
   "source": [
    "### Cramers V ###"
   ]
  },
  {
   "cell_type": "code",
   "execution_count": 84,
   "id": "817a413e",
   "metadata": {},
   "outputs": [
    {
     "name": "stderr",
     "output_type": "stream",
     "text": [
      "/var/folders/wm/z1f6_f9d3zb9gt8g3wkr4cl00000gn/T/ipykernel_14383/3780974041.py:15: RuntimeWarning:\n",
      "\n",
      "invalid value encountered in double_scalars\n",
      "\n"
     ]
    },
    {
     "data": {
      "text/html": [
       "<div>\n",
       "<style scoped>\n",
       "    .dataframe tbody tr th:only-of-type {\n",
       "        vertical-align: middle;\n",
       "    }\n",
       "\n",
       "    .dataframe tbody tr th {\n",
       "        vertical-align: top;\n",
       "    }\n",
       "\n",
       "    .dataframe thead th {\n",
       "        text-align: right;\n",
       "    }\n",
       "</style>\n",
       "<table border=\"1\" class=\"dataframe\">\n",
       "  <thead>\n",
       "    <tr style=\"text-align: right;\">\n",
       "      <th></th>\n",
       "      <th>Variable</th>\n",
       "      <th>Cramers_V</th>\n",
       "    </tr>\n",
       "  </thead>\n",
       "  <tbody>\n",
       "    <tr>\n",
       "      <th>0</th>\n",
       "      <td>ETHNICITY</td>\n",
       "      <td>1.000000</td>\n",
       "    </tr>\n",
       "    <tr>\n",
       "      <th>1</th>\n",
       "      <td>SPRADDR_CNTY_CODE</td>\n",
       "      <td>0.331347</td>\n",
       "    </tr>\n",
       "    <tr>\n",
       "      <th>2</th>\n",
       "      <td>SARADAP_STYP_CODE_2</td>\n",
       "      <td>NaN</td>\n",
       "    </tr>\n",
       "    <tr>\n",
       "      <th>3</th>\n",
       "      <td>SPRADDR_STAT_CODE</td>\n",
       "      <td>0.265583</td>\n",
       "    </tr>\n",
       "    <tr>\n",
       "      <th>4</th>\n",
       "      <td>SARADAP_ADMT_CODE</td>\n",
       "      <td>0.425931</td>\n",
       "    </tr>\n",
       "    <tr>\n",
       "      <th>5</th>\n",
       "      <td>ETHNICITY</td>\n",
       "      <td>1.000000</td>\n",
       "    </tr>\n",
       "    <tr>\n",
       "      <th>6</th>\n",
       "      <td>SARAPPD_APDC_CODE</td>\n",
       "      <td>0.102564</td>\n",
       "    </tr>\n",
       "    <tr>\n",
       "      <th>7</th>\n",
       "      <td>SARAPPD_APDC_DATE</td>\n",
       "      <td>0.511704</td>\n",
       "    </tr>\n",
       "    <tr>\n",
       "      <th>8</th>\n",
       "      <td>SARADAP_MAJR_CODE_1</td>\n",
       "      <td>0.196208</td>\n",
       "    </tr>\n",
       "    <tr>\n",
       "      <th>9</th>\n",
       "      <td>SARADAP_PROGRAM_1</td>\n",
       "      <td>0.218586</td>\n",
       "    </tr>\n",
       "    <tr>\n",
       "      <th>10</th>\n",
       "      <td>SARADAP_MAJR_CODE_CONC_1</td>\n",
       "      <td>NaN</td>\n",
       "    </tr>\n",
       "    <tr>\n",
       "      <th>11</th>\n",
       "      <td>AGE</td>\n",
       "      <td>0.227092</td>\n",
       "    </tr>\n",
       "    <tr>\n",
       "      <th>12</th>\n",
       "      <td>HS_NAME</td>\n",
       "      <td>0.784456</td>\n",
       "    </tr>\n",
       "    <tr>\n",
       "      <th>13</th>\n",
       "      <td>HS_CITY</td>\n",
       "      <td>0.765423</td>\n",
       "    </tr>\n",
       "    <tr>\n",
       "      <th>14</th>\n",
       "      <td>HS_STATE</td>\n",
       "      <td>0.242185</td>\n",
       "    </tr>\n",
       "    <tr>\n",
       "      <th>15</th>\n",
       "      <td>HS_COUNTY</td>\n",
       "      <td>0.350709</td>\n",
       "    </tr>\n",
       "    <tr>\n",
       "      <th>16</th>\n",
       "      <td>HS_LAT</td>\n",
       "      <td>0.384461</td>\n",
       "    </tr>\n",
       "    <tr>\n",
       "      <th>17</th>\n",
       "      <td>HS_LONG</td>\n",
       "      <td>0.384461</td>\n",
       "    </tr>\n",
       "    <tr>\n",
       "      <th>18</th>\n",
       "      <td>SPBPERS_SEX</td>\n",
       "      <td>0.199431</td>\n",
       "    </tr>\n",
       "    <tr>\n",
       "      <th>19</th>\n",
       "      <td>SAT_MATH</td>\n",
       "      <td>0.257387</td>\n",
       "    </tr>\n",
       "    <tr>\n",
       "      <th>20</th>\n",
       "      <td>SAT_ERBW</td>\n",
       "      <td>0.215862</td>\n",
       "    </tr>\n",
       "    <tr>\n",
       "      <th>21</th>\n",
       "      <td>SAT_TOTAL</td>\n",
       "      <td>0.262269</td>\n",
       "    </tr>\n",
       "    <tr>\n",
       "      <th>22</th>\n",
       "      <td>ACT_COMPOSITE</td>\n",
       "      <td>0.086651</td>\n",
       "    </tr>\n",
       "    <tr>\n",
       "      <th>23</th>\n",
       "      <td>COL_DESC</td>\n",
       "      <td>0.265987</td>\n",
       "    </tr>\n",
       "    <tr>\n",
       "      <th>24</th>\n",
       "      <td>COL_STATE</td>\n",
       "      <td>0.150069</td>\n",
       "    </tr>\n",
       "    <tr>\n",
       "      <th>25</th>\n",
       "      <td>DCHS_IND</td>\n",
       "      <td>0.104522</td>\n",
       "    </tr>\n",
       "    <tr>\n",
       "      <th>26</th>\n",
       "      <td>REC_TEST_PLAN</td>\n",
       "      <td>0.071764</td>\n",
       "    </tr>\n",
       "    <tr>\n",
       "      <th>27</th>\n",
       "      <td>HOUSING_INTEREST</td>\n",
       "      <td>0.364322</td>\n",
       "    </tr>\n",
       "    <tr>\n",
       "      <th>28</th>\n",
       "      <td>FIRST_GEN_IND</td>\n",
       "      <td>0.166030</td>\n",
       "    </tr>\n",
       "    <tr>\n",
       "      <th>29</th>\n",
       "      <td>PCKG_GROUP_IND</td>\n",
       "      <td>0.311076</td>\n",
       "    </tr>\n",
       "    <tr>\n",
       "      <th>30</th>\n",
       "      <td>HOUS_DEP_PAID</td>\n",
       "      <td>0.192259</td>\n",
       "    </tr>\n",
       "    <tr>\n",
       "      <th>31</th>\n",
       "      <td>FAFSA_IND</td>\n",
       "      <td>0.515596</td>\n",
       "    </tr>\n",
       "    <tr>\n",
       "      <th>32</th>\n",
       "      <td>REC_EOF_LOCATION</td>\n",
       "      <td>0.182974</td>\n",
       "    </tr>\n",
       "    <tr>\n",
       "      <th>33</th>\n",
       "      <td>REC_COUNTRY_OF_ORIG</td>\n",
       "      <td>0.707107</td>\n",
       "    </tr>\n",
       "    <tr>\n",
       "      <th>34</th>\n",
       "      <td>REC_COMPLETED_DATE</td>\n",
       "      <td>0.657643</td>\n",
       "    </tr>\n",
       "  </tbody>\n",
       "</table>\n",
       "</div>"
      ],
      "text/plain": [
       "                    Variable  Cramers_V\n",
       "0                  ETHNICITY   1.000000\n",
       "1          SPRADDR_CNTY_CODE   0.331347\n",
       "2        SARADAP_STYP_CODE_2        NaN\n",
       "3          SPRADDR_STAT_CODE   0.265583\n",
       "4          SARADAP_ADMT_CODE   0.425931\n",
       "5                  ETHNICITY   1.000000\n",
       "6          SARAPPD_APDC_CODE   0.102564\n",
       "7          SARAPPD_APDC_DATE   0.511704\n",
       "8        SARADAP_MAJR_CODE_1   0.196208\n",
       "9          SARADAP_PROGRAM_1   0.218586\n",
       "10  SARADAP_MAJR_CODE_CONC_1        NaN\n",
       "11                       AGE   0.227092\n",
       "12                   HS_NAME   0.784456\n",
       "13                   HS_CITY   0.765423\n",
       "14                  HS_STATE   0.242185\n",
       "15                 HS_COUNTY   0.350709\n",
       "16                    HS_LAT   0.384461\n",
       "17                   HS_LONG   0.384461\n",
       "18               SPBPERS_SEX   0.199431\n",
       "19                  SAT_MATH   0.257387\n",
       "20                  SAT_ERBW   0.215862\n",
       "21                 SAT_TOTAL   0.262269\n",
       "22             ACT_COMPOSITE   0.086651\n",
       "23                  COL_DESC   0.265987\n",
       "24                 COL_STATE   0.150069\n",
       "25                  DCHS_IND   0.104522\n",
       "26             REC_TEST_PLAN   0.071764\n",
       "27          HOUSING_INTEREST   0.364322\n",
       "28             FIRST_GEN_IND   0.166030\n",
       "29            PCKG_GROUP_IND   0.311076\n",
       "30             HOUS_DEP_PAID   0.192259\n",
       "31                 FAFSA_IND   0.515596\n",
       "32          REC_EOF_LOCATION   0.182974\n",
       "33       REC_COUNTRY_OF_ORIG   0.707107\n",
       "34        REC_COMPLETED_DATE   0.657643"
      ]
     },
     "execution_count": 84,
     "metadata": {},
     "output_type": "execute_result"
    }
   ],
   "source": [
    "def calculate_cramers_v(x, y):\n",
    "    # Create a contingency table from two Series, x and y\n",
    "    contingency_table = pd.crosstab(x, y)\n",
    "    \n",
    "    # Calculate the chi-squared test statistic and p-value\n",
    "    chi2, p, dof, expected = stats.chi2_contingency(contingency_table, correction=False)\n",
    "    \n",
    "    # Total observations\n",
    "    N = np.sum(contingency_table.values)\n",
    "    \n",
    "    # Minimum dimension minus one (for Cramer's V formula)\n",
    "    min_dim = min(contingency_table.shape) - 1\n",
    "    \n",
    "    # Cramer's V calculation\n",
    "    result = np.sqrt((chi2 / N) / min_dim)\n",
    "    \n",
    "    return result\n",
    "\n",
    "def cramer_v_for_all_vars(df, y_var):\n",
    "    results = [{'Variable': y_var, 'Cramers_V': 1.0}]  # Assuming perfect association of y_var with itself\n",
    "    for col in df.columns:\n",
    "        if col != 'ID':  \n",
    "            x = df[col]\n",
    "            y = df[y_var]\n",
    "            cramers_v_value = calculate_cramers_v(x, y)\n",
    "            results.append({'Variable': col, 'Cramers_V': cramers_v_value})\n",
    "    return pd.DataFrame(results)\n",
    "\n",
    "\n",
    "y_variable = 'ETHNICITY'\n",
    "results_df = cramer_v_for_all_vars(df, y_variable)\n",
    "\n",
    "results_df"
   ]
  },
  {
   "cell_type": "code",
   "execution_count": 15,
   "id": "9a6b214f",
   "metadata": {},
   "outputs": [
    {
     "data": {
      "application/vnd.plotly.v1+json": {
       "config": {
        "plotlyServerURL": "https://plot.ly"
       },
       "data": [
        {
         "hovertemplate": "Variable=%{x}<br>Cramers_V=%{marker.color}<extra></extra>",
         "legendgroup": "",
         "marker": {
          "color": [
           1,
           0.3313474661808073,
           null,
           0.13544345261348686,
           0.4259308749609981,
           1,
           0.10256353875587454,
           0.5117038116402912,
           0.19620799395427233,
           0.21858604411515248,
           null,
           0.22709181938921158,
           0.7863638843982382,
           0.767163803430273,
           0.13530094535884196,
           0.35046599758361674,
           0.34570472410030434,
           0.34570472410030434,
           0.19943070037825822,
           0.54367981209577,
           0.48543043584852796,
           0.26226939936050125,
           0.6997023176561111,
           0.856690611258699,
           0.5666478126576892,
           null,
           0.07176427144291592,
           0.3643217291348036,
           0.2817160787418456,
           0.17828191757422265,
           0.19225921910896704,
           0.5155958214598323,
           0.3536788902330046,
           null,
           0.6576433485195247
          ],
          "coloraxis": "coloraxis",
          "symbol": "circle"
         },
         "mode": "markers",
         "name": "",
         "orientation": "v",
         "showlegend": false,
         "type": "scatter",
         "x": [
          "ETHNICITY",
          "SPRADDR_CNTY_CODE",
          "SARADAP_STYP_CODE_2",
          "SPRADDR_STAT_CODE",
          "SARADAP_ADMT_CODE",
          "ETHNICITY",
          "SARAPPD_APDC_CODE",
          "SARAPPD_APDC_DATE",
          "SARADAP_MAJR_CODE_1",
          "SARADAP_PROGRAM_1",
          "SARADAP_MAJR_CODE_CONC_1",
          "AGE",
          "HS_NAME",
          "HS_CITY",
          "HS_STATE",
          "HS_COUNTY",
          "HS_LAT",
          "HS_LONG",
          "SPBPERS_SEX",
          "SAT_MATH",
          "SAT_ERBW",
          "SAT_TOTAL",
          "ACT_COMPOSITE",
          "COL_DESC",
          "COL_STATE",
          "DCHS_IND",
          "REC_TEST_PLAN",
          "HOUSING_INTEREST",
          "FIRST_GEN_IND",
          "PCKG_GROUP_IND",
          "HOUS_DEP_PAID",
          "FAFSA_IND",
          "REC_EOF_LOCATION",
          "REC_COUNTRY_OF_ORIG",
          "REC_COMPLETED_DATE"
         ],
         "xaxis": "x",
         "y": [
          1,
          0.3313474661808073,
          null,
          0.13544345261348686,
          0.4259308749609981,
          1,
          0.10256353875587454,
          0.5117038116402912,
          0.19620799395427233,
          0.21858604411515248,
          null,
          0.22709181938921158,
          0.7863638843982382,
          0.767163803430273,
          0.13530094535884196,
          0.35046599758361674,
          0.34570472410030434,
          0.34570472410030434,
          0.19943070037825822,
          0.54367981209577,
          0.48543043584852796,
          0.26226939936050125,
          0.6997023176561111,
          0.856690611258699,
          0.5666478126576892,
          null,
          0.07176427144291592,
          0.3643217291348036,
          0.2817160787418456,
          0.17828191757422265,
          0.19225921910896704,
          0.5155958214598323,
          0.3536788902330046,
          null,
          0.6576433485195247
         ],
         "yaxis": "y"
        }
       ],
       "layout": {
        "coloraxis": {
         "colorbar": {
          "title": {
           "text": "Cramers_V"
          }
         },
         "colorscale": [
          [
           0,
           "#0d0887"
          ],
          [
           0.1111111111111111,
           "#46039f"
          ],
          [
           0.2222222222222222,
           "#7201a8"
          ],
          [
           0.3333333333333333,
           "#9c179e"
          ],
          [
           0.4444444444444444,
           "#bd3786"
          ],
          [
           0.5555555555555556,
           "#d8576b"
          ],
          [
           0.6666666666666666,
           "#ed7953"
          ],
          [
           0.7777777777777778,
           "#fb9f3a"
          ],
          [
           0.8888888888888888,
           "#fdca26"
          ],
          [
           1,
           "#f0f921"
          ]
         ]
        },
        "height": 800,
        "legend": {
         "tracegroupgap": 0
        },
        "template": {
         "data": {
          "bar": [
           {
            "error_x": {
             "color": "#2a3f5f"
            },
            "error_y": {
             "color": "#2a3f5f"
            },
            "marker": {
             "line": {
              "color": "#E5ECF6",
              "width": 0.5
             },
             "pattern": {
              "fillmode": "overlay",
              "size": 10,
              "solidity": 0.2
             }
            },
            "type": "bar"
           }
          ],
          "barpolar": [
           {
            "marker": {
             "line": {
              "color": "#E5ECF6",
              "width": 0.5
             },
             "pattern": {
              "fillmode": "overlay",
              "size": 10,
              "solidity": 0.2
             }
            },
            "type": "barpolar"
           }
          ],
          "carpet": [
           {
            "aaxis": {
             "endlinecolor": "#2a3f5f",
             "gridcolor": "white",
             "linecolor": "white",
             "minorgridcolor": "white",
             "startlinecolor": "#2a3f5f"
            },
            "baxis": {
             "endlinecolor": "#2a3f5f",
             "gridcolor": "white",
             "linecolor": "white",
             "minorgridcolor": "white",
             "startlinecolor": "#2a3f5f"
            },
            "type": "carpet"
           }
          ],
          "choropleth": [
           {
            "colorbar": {
             "outlinewidth": 0,
             "ticks": ""
            },
            "type": "choropleth"
           }
          ],
          "contour": [
           {
            "colorbar": {
             "outlinewidth": 0,
             "ticks": ""
            },
            "colorscale": [
             [
              0,
              "#0d0887"
             ],
             [
              0.1111111111111111,
              "#46039f"
             ],
             [
              0.2222222222222222,
              "#7201a8"
             ],
             [
              0.3333333333333333,
              "#9c179e"
             ],
             [
              0.4444444444444444,
              "#bd3786"
             ],
             [
              0.5555555555555556,
              "#d8576b"
             ],
             [
              0.6666666666666666,
              "#ed7953"
             ],
             [
              0.7777777777777778,
              "#fb9f3a"
             ],
             [
              0.8888888888888888,
              "#fdca26"
             ],
             [
              1,
              "#f0f921"
             ]
            ],
            "type": "contour"
           }
          ],
          "contourcarpet": [
           {
            "colorbar": {
             "outlinewidth": 0,
             "ticks": ""
            },
            "type": "contourcarpet"
           }
          ],
          "heatmap": [
           {
            "colorbar": {
             "outlinewidth": 0,
             "ticks": ""
            },
            "colorscale": [
             [
              0,
              "#0d0887"
             ],
             [
              0.1111111111111111,
              "#46039f"
             ],
             [
              0.2222222222222222,
              "#7201a8"
             ],
             [
              0.3333333333333333,
              "#9c179e"
             ],
             [
              0.4444444444444444,
              "#bd3786"
             ],
             [
              0.5555555555555556,
              "#d8576b"
             ],
             [
              0.6666666666666666,
              "#ed7953"
             ],
             [
              0.7777777777777778,
              "#fb9f3a"
             ],
             [
              0.8888888888888888,
              "#fdca26"
             ],
             [
              1,
              "#f0f921"
             ]
            ],
            "type": "heatmap"
           }
          ],
          "heatmapgl": [
           {
            "colorbar": {
             "outlinewidth": 0,
             "ticks": ""
            },
            "colorscale": [
             [
              0,
              "#0d0887"
             ],
             [
              0.1111111111111111,
              "#46039f"
             ],
             [
              0.2222222222222222,
              "#7201a8"
             ],
             [
              0.3333333333333333,
              "#9c179e"
             ],
             [
              0.4444444444444444,
              "#bd3786"
             ],
             [
              0.5555555555555556,
              "#d8576b"
             ],
             [
              0.6666666666666666,
              "#ed7953"
             ],
             [
              0.7777777777777778,
              "#fb9f3a"
             ],
             [
              0.8888888888888888,
              "#fdca26"
             ],
             [
              1,
              "#f0f921"
             ]
            ],
            "type": "heatmapgl"
           }
          ],
          "histogram": [
           {
            "marker": {
             "pattern": {
              "fillmode": "overlay",
              "size": 10,
              "solidity": 0.2
             }
            },
            "type": "histogram"
           }
          ],
          "histogram2d": [
           {
            "colorbar": {
             "outlinewidth": 0,
             "ticks": ""
            },
            "colorscale": [
             [
              0,
              "#0d0887"
             ],
             [
              0.1111111111111111,
              "#46039f"
             ],
             [
              0.2222222222222222,
              "#7201a8"
             ],
             [
              0.3333333333333333,
              "#9c179e"
             ],
             [
              0.4444444444444444,
              "#bd3786"
             ],
             [
              0.5555555555555556,
              "#d8576b"
             ],
             [
              0.6666666666666666,
              "#ed7953"
             ],
             [
              0.7777777777777778,
              "#fb9f3a"
             ],
             [
              0.8888888888888888,
              "#fdca26"
             ],
             [
              1,
              "#f0f921"
             ]
            ],
            "type": "histogram2d"
           }
          ],
          "histogram2dcontour": [
           {
            "colorbar": {
             "outlinewidth": 0,
             "ticks": ""
            },
            "colorscale": [
             [
              0,
              "#0d0887"
             ],
             [
              0.1111111111111111,
              "#46039f"
             ],
             [
              0.2222222222222222,
              "#7201a8"
             ],
             [
              0.3333333333333333,
              "#9c179e"
             ],
             [
              0.4444444444444444,
              "#bd3786"
             ],
             [
              0.5555555555555556,
              "#d8576b"
             ],
             [
              0.6666666666666666,
              "#ed7953"
             ],
             [
              0.7777777777777778,
              "#fb9f3a"
             ],
             [
              0.8888888888888888,
              "#fdca26"
             ],
             [
              1,
              "#f0f921"
             ]
            ],
            "type": "histogram2dcontour"
           }
          ],
          "mesh3d": [
           {
            "colorbar": {
             "outlinewidth": 0,
             "ticks": ""
            },
            "type": "mesh3d"
           }
          ],
          "parcoords": [
           {
            "line": {
             "colorbar": {
              "outlinewidth": 0,
              "ticks": ""
             }
            },
            "type": "parcoords"
           }
          ],
          "pie": [
           {
            "automargin": true,
            "type": "pie"
           }
          ],
          "scatter": [
           {
            "fillpattern": {
             "fillmode": "overlay",
             "size": 10,
             "solidity": 0.2
            },
            "type": "scatter"
           }
          ],
          "scatter3d": [
           {
            "line": {
             "colorbar": {
              "outlinewidth": 0,
              "ticks": ""
             }
            },
            "marker": {
             "colorbar": {
              "outlinewidth": 0,
              "ticks": ""
             }
            },
            "type": "scatter3d"
           }
          ],
          "scattercarpet": [
           {
            "marker": {
             "colorbar": {
              "outlinewidth": 0,
              "ticks": ""
             }
            },
            "type": "scattercarpet"
           }
          ],
          "scattergeo": [
           {
            "marker": {
             "colorbar": {
              "outlinewidth": 0,
              "ticks": ""
             }
            },
            "type": "scattergeo"
           }
          ],
          "scattergl": [
           {
            "marker": {
             "colorbar": {
              "outlinewidth": 0,
              "ticks": ""
             }
            },
            "type": "scattergl"
           }
          ],
          "scattermapbox": [
           {
            "marker": {
             "colorbar": {
              "outlinewidth": 0,
              "ticks": ""
             }
            },
            "type": "scattermapbox"
           }
          ],
          "scatterpolar": [
           {
            "marker": {
             "colorbar": {
              "outlinewidth": 0,
              "ticks": ""
             }
            },
            "type": "scatterpolar"
           }
          ],
          "scatterpolargl": [
           {
            "marker": {
             "colorbar": {
              "outlinewidth": 0,
              "ticks": ""
             }
            },
            "type": "scatterpolargl"
           }
          ],
          "scatterternary": [
           {
            "marker": {
             "colorbar": {
              "outlinewidth": 0,
              "ticks": ""
             }
            },
            "type": "scatterternary"
           }
          ],
          "surface": [
           {
            "colorbar": {
             "outlinewidth": 0,
             "ticks": ""
            },
            "colorscale": [
             [
              0,
              "#0d0887"
             ],
             [
              0.1111111111111111,
              "#46039f"
             ],
             [
              0.2222222222222222,
              "#7201a8"
             ],
             [
              0.3333333333333333,
              "#9c179e"
             ],
             [
              0.4444444444444444,
              "#bd3786"
             ],
             [
              0.5555555555555556,
              "#d8576b"
             ],
             [
              0.6666666666666666,
              "#ed7953"
             ],
             [
              0.7777777777777778,
              "#fb9f3a"
             ],
             [
              0.8888888888888888,
              "#fdca26"
             ],
             [
              1,
              "#f0f921"
             ]
            ],
            "type": "surface"
           }
          ],
          "table": [
           {
            "cells": {
             "fill": {
              "color": "#EBF0F8"
             },
             "line": {
              "color": "white"
             }
            },
            "header": {
             "fill": {
              "color": "#C8D4E3"
             },
             "line": {
              "color": "white"
             }
            },
            "type": "table"
           }
          ]
         },
         "layout": {
          "annotationdefaults": {
           "arrowcolor": "#2a3f5f",
           "arrowhead": 0,
           "arrowwidth": 1
          },
          "autotypenumbers": "strict",
          "coloraxis": {
           "colorbar": {
            "outlinewidth": 0,
            "ticks": ""
           }
          },
          "colorscale": {
           "diverging": [
            [
             0,
             "#8e0152"
            ],
            [
             0.1,
             "#c51b7d"
            ],
            [
             0.2,
             "#de77ae"
            ],
            [
             0.3,
             "#f1b6da"
            ],
            [
             0.4,
             "#fde0ef"
            ],
            [
             0.5,
             "#f7f7f7"
            ],
            [
             0.6,
             "#e6f5d0"
            ],
            [
             0.7,
             "#b8e186"
            ],
            [
             0.8,
             "#7fbc41"
            ],
            [
             0.9,
             "#4d9221"
            ],
            [
             1,
             "#276419"
            ]
           ],
           "sequential": [
            [
             0,
             "#0d0887"
            ],
            [
             0.1111111111111111,
             "#46039f"
            ],
            [
             0.2222222222222222,
             "#7201a8"
            ],
            [
             0.3333333333333333,
             "#9c179e"
            ],
            [
             0.4444444444444444,
             "#bd3786"
            ],
            [
             0.5555555555555556,
             "#d8576b"
            ],
            [
             0.6666666666666666,
             "#ed7953"
            ],
            [
             0.7777777777777778,
             "#fb9f3a"
            ],
            [
             0.8888888888888888,
             "#fdca26"
            ],
            [
             1,
             "#f0f921"
            ]
           ],
           "sequentialminus": [
            [
             0,
             "#0d0887"
            ],
            [
             0.1111111111111111,
             "#46039f"
            ],
            [
             0.2222222222222222,
             "#7201a8"
            ],
            [
             0.3333333333333333,
             "#9c179e"
            ],
            [
             0.4444444444444444,
             "#bd3786"
            ],
            [
             0.5555555555555556,
             "#d8576b"
            ],
            [
             0.6666666666666666,
             "#ed7953"
            ],
            [
             0.7777777777777778,
             "#fb9f3a"
            ],
            [
             0.8888888888888888,
             "#fdca26"
            ],
            [
             1,
             "#f0f921"
            ]
           ]
          },
          "colorway": [
           "#636efa",
           "#EF553B",
           "#00cc96",
           "#ab63fa",
           "#FFA15A",
           "#19d3f3",
           "#FF6692",
           "#B6E880",
           "#FF97FF",
           "#FECB52"
          ],
          "font": {
           "color": "#2a3f5f"
          },
          "geo": {
           "bgcolor": "white",
           "lakecolor": "white",
           "landcolor": "#E5ECF6",
           "showlakes": true,
           "showland": true,
           "subunitcolor": "white"
          },
          "hoverlabel": {
           "align": "left"
          },
          "hovermode": "closest",
          "mapbox": {
           "style": "light"
          },
          "paper_bgcolor": "white",
          "plot_bgcolor": "#E5ECF6",
          "polar": {
           "angularaxis": {
            "gridcolor": "white",
            "linecolor": "white",
            "ticks": ""
           },
           "bgcolor": "#E5ECF6",
           "radialaxis": {
            "gridcolor": "white",
            "linecolor": "white",
            "ticks": ""
           }
          },
          "scene": {
           "xaxis": {
            "backgroundcolor": "#E5ECF6",
            "gridcolor": "white",
            "gridwidth": 2,
            "linecolor": "white",
            "showbackground": true,
            "ticks": "",
            "zerolinecolor": "white"
           },
           "yaxis": {
            "backgroundcolor": "#E5ECF6",
            "gridcolor": "white",
            "gridwidth": 2,
            "linecolor": "white",
            "showbackground": true,
            "ticks": "",
            "zerolinecolor": "white"
           },
           "zaxis": {
            "backgroundcolor": "#E5ECF6",
            "gridcolor": "white",
            "gridwidth": 2,
            "linecolor": "white",
            "showbackground": true,
            "ticks": "",
            "zerolinecolor": "white"
           }
          },
          "shapedefaults": {
           "line": {
            "color": "#2a3f5f"
           }
          },
          "ternary": {
           "aaxis": {
            "gridcolor": "white",
            "linecolor": "white",
            "ticks": ""
           },
           "baxis": {
            "gridcolor": "white",
            "linecolor": "white",
            "ticks": ""
           },
           "bgcolor": "#E5ECF6",
           "caxis": {
            "gridcolor": "white",
            "linecolor": "white",
            "ticks": ""
           }
          },
          "title": {
           "x": 0.05
          },
          "xaxis": {
           "automargin": true,
           "gridcolor": "white",
           "linecolor": "white",
           "ticks": "",
           "title": {
            "standoff": 15
           },
           "zerolinecolor": "white",
           "zerolinewidth": 2
          },
          "yaxis": {
           "automargin": true,
           "gridcolor": "white",
           "linecolor": "white",
           "ticks": "",
           "title": {
            "standoff": 15
           },
           "zerolinecolor": "white",
           "zerolinewidth": 2
          }
         }
        },
        "title": {
         "text": "Cramer's V Across Variables"
        },
        "xaxis": {
         "anchor": "y",
         "domain": [
          0,
          1
         ],
         "title": {
          "text": "Variable"
         }
        },
        "yaxis": {
         "anchor": "x",
         "domain": [
          0,
          1
         ],
         "title": {
          "text": "Cramers_V"
         }
        }
       }
      }
     },
     "metadata": {},
     "output_type": "display_data"
    }
   ],
   "source": [
    "# Plotting\n",
    "fig = px.scatter(results_df, x='Variable', y='Cramers_V', color='Cramers_V',\n",
    "                 title=\"Cramer's V Across Variables\")\n",
    "fig.update_layout(height=800)\n",
    "fig.show()"
   ]
  },
  {
   "cell_type": "markdown",
   "id": "6dc6101c",
   "metadata": {},
   "source": [
    "### Pearson Coefficient ###"
   ]
  },
  {
   "cell_type": "code",
   "execution_count": 77,
   "id": "2d19fa91",
   "metadata": {},
   "outputs": [
    {
     "name": "stdout",
     "output_type": "stream",
     "text": [
      "Pearson correlation coefficient: -0.07\n"
     ]
    },
    {
     "data": {
      "image/png": "[encoded data removed]",
      "text/plain": [
       "<Figure size 720x432 with 1 Axes>"
      ]
     },
     "metadata": {
      "needs_background": "light"
     },
     "output_type": "display_data"
    }
   ],
   "source": [
    "# Calculate Pearson correlation\n",
    "corr, p_value = pearsonr(df['AGE'], df['SAT_MATH'])\n",
    "print(f'Pearson correlation coefficient: {corr:.2f}')\n",
    "\n",
    "# Plot\n",
    "plt.figure(figsize=(10, 6))\n",
    "plt.scatter(df['AGE'], df['SAT_MATH'], color='blue', label=f'Correlation: {corr:.2f}')\n",
    "plt.title('Scatter plot of AGE vs SAT_MATH')\n",
    "plt.xlabel('AGE')\n",
    "plt.ylabel('SAT_MATH')\n",
    "plt.legend()\n",
    "plt.show()\n"
   ]
  },
  {
   "cell_type": "markdown",
   "id": "f3a65757",
   "metadata": {},
   "source": [
    "### Anova Test ###"
   ]
  },
  {
   "cell_type": "code",
   "execution_count": 81,
   "id": "6e991c6e",
   "metadata": {},
   "outputs": [
    {
     "name": "stdout",
     "output_type": "stream",
     "text": [
      "ANOVA test results: F=3.3952295362053735, p=0.0015829612674988208\n"
     ]
    },
    {
     "data": {
      "image/png": "[encoded data removed]",
      "text/plain": [
       "<Figure size 720x432 with 1 Axes>"
      ]
     },
     "metadata": {
      "needs_background": "light"
     },
     "output_type": "display_data"
    }
   ],
   "source": [
    "x = 'ETHNICITY'\n",
    "y ='AGE'\n",
    "\n",
    "# Perform ANOVA\n",
    "groups = df.groupby(x)[y].apply(list)\n",
    "f_val, p_val = stats.f_oneway(*groups)\n",
    "\n",
    "# Print ANOVA results\n",
    "print(f\"ANOVA test results: F={f_val}, p={p_val}\")\n",
    "\n",
    "# Plot\n",
    "plt.figure(figsize=(10, 6))\n",
    "sns.boxplot(x=x, y=y, data=df)\n",
    "plt.title(f'ANOVA Test Results for {x} on {y} - p-value: {p_val:.5f}')\n",
    "plt.show()"
   ]
  },
  {
   "cell_type": "code",
   "execution_count": null,
   "id": "2e8a5ae5",
   "metadata": {},
   "outputs": [],
   "source": []
  }
 ],
 "metadata": {
  "kernelspec": {
   "display_name": "Python 3 (ipykernel)",
   "language": "python",
   "name": "python3"
  },
  "language_info": {
   "codemirror_mode": {
    "name": "ipython",
    "version": 3
   },
   "file_extension": ".py",
   "mimetype": "text/x-python",
   "name": "python",
   "nbconvert_exporter": "python",
   "pygments_lexer": "ipython3",
   "version": "3.9.7"
  }
 },
 "nbformat": 4,
 "nbformat_minor": 5
}
