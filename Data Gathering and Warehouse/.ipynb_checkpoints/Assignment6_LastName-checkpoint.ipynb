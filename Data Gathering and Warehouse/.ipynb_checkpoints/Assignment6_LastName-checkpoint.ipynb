{
 "cells": [
  {
   "cell_type": "markdown",
   "id": "ca9da05e",
   "metadata": {},
   "source": [
    "# Assignment #6 - Data Gathering and Warehousing - DSSA-5102\n",
    "\n",
    "Instructor: Melissa Laurino</br>\n",
    "Spring 2024</br>\n",
    "\n",
    "Name: \n",
    "</br>\n",
    "Date: \n",
    "<br>\n",
    "<br>\n",
    "**At this time in the semester:** <br>\n",
    "--We have explored a dataset. <br>\n",
    "--We have cleaned our dataset. <br>\n",
    "--We created a Github account with a repository for this class and included a Metadata file about our data. <br>\n",
    "--We introduced general SQL syntax, queries, and applications in R.<br>\n",
    "<br>\n",
    "\n",
    "Now we will start the process of uploading our dataset into a database. There are many different ways to upload your .csv data into a database (.db file). Databases can be created in many open source applications, MySQL workbench, and even some websites can load your .csv data into a database...for a small fee. Instead of using an application, we are going to first create our database for our dataset from scratch in R. On a much larger scale, data may be automatically uploaded to a database was once it is aquired.<br>\n",
    "\n",
    "There are two R packages below we will use to create two separate databases for practice. One will be stored on our MySQL server using R package RMariaDB, and the other will be stored locally using R package SQLite. <br>\n",
    "<br>\n",
    "Follow the instructions below to complete the assignment. Answer any questions in markdown cell boxes. Be sure to comment all code.\n"
   ]
  },
  {
   "cell_type": "markdown",
   "id": "e5de879c",
   "metadata": {},
   "source": [
    "### Creating our database from scratch to integrate with MySQL Workbench in R.<br>"
   ]
  },
  {
   "cell_type": "code",
   "execution_count": null,
   "id": "c67ae9fb",
   "metadata": {},
   "outputs": [],
   "source": [
    "#Install necessary packages. After you have them installed, do not install them again. You should already have these installed from Assignment #4.\n",
    "#Continuing to run install.packages could update the versions of other dependent packages.\n",
    "#install.packages(\"RMariaDB\")\n",
    "#install.packages(\"DBI\")\n",
    "#install.packages(\"sqldf\")\n",
    "#install.packages(\"RSQLite\")"
   ]
  },
  {
   "cell_type": "markdown",
   "id": "eb9e110f",
   "metadata": {},
   "source": [
    "### Creating a database from scratch in R using library(RMariaDB)<br>\n",
    "\n",
    "https://cran.r-project.org/web/packages/RMariaDB/index.html"
   ]
  },
  {
   "cell_type": "markdown",
   "id": "c07273cc",
   "metadata": {},
   "source": [
    "**BEFORE YOU BEGIN!**<br>\n",
    "Is your MySQL Server running on your local machine?<br>\n",
    "**Start the server** if it is not running already."
   ]
  },
  {
   "cell_type": "code",
   "execution_count": null,
   "id": "15252638",
   "metadata": {},
   "outputs": [],
   "source": [
    "#Create a database from scratch using library RMariaDB \n",
    "library(RMariaDB)\n",
    "library(DBI)"
   ]
  },
  {
   "cell_type": "code",
   "execution_count": null,
   "id": "d6b6df60",
   "metadata": {},
   "outputs": [],
   "source": [
    "#Define our variables. We set these during our first class in our technology set up. \n",
    "#If you are unsure of these variables, do not guess. \n",
    "#Visit MySQL Workbench for the localport number, host and user.\n",
    "localuserpassword <- \"Your_Password\" #We wrote this password down in our first class.\n",
    "localport <- XXXX #This is your local instance number when you open MySQL Workbench.\n",
    "db_name <- \"database_name\" #Since we are creating our database from scratch, we most likely \n",
    "#do not have a name yet. This will be the name when the database is created."
   ]
  },
  {
   "cell_type": "code",
   "execution_count": null,
   "id": "af6a1307",
   "metadata": {},
   "outputs": [],
   "source": [
    "#Connect to the server using MariaDB()\n",
    "con <- dbConnect(RMariaDB::MariaDB(), \n",
    "                 host = 'XX',\n",
    "                 user = 'XX',\n",
    "                 password = localuserpassword,\n",
    "                 port = localport)\n",
    "#In order to connect to the server, we must include all of the above."
   ]
  },
  {
   "cell_type": "code",
   "execution_count": null,
   "id": "bda118f2",
   "metadata": {},
   "outputs": [],
   "source": [
    "#Create your first database integrated with MySQL Workbench. Use:\n",
    "dbExecute(con, paste(\"CREATE DATABASE IF NOT EXISTS \", database_name))\n",
    "#This code will create the database if it does not already exist with the db_name you defined above.\n",
    "#Depending on your package versions, you may not need paste().\n",
    "\n",
    "#If you have multiple databases, it is important to specify what database you are using.\n",
    "#This especially applies if you have reused code to create multiple databases!\n",
    "dbExecute(con, paste(\"USE\", database_name))\n",
    "\n",
    "#Note above paste() function.\n",
    "#This may not be needed and depends on your version of R/SQLpackages."
   ]
  },
  {
   "cell_type": "markdown",
   "id": "b0786f49",
   "metadata": {},
   "source": [
    "**STOP**<br><br>\n",
    "Open MySQL Workbench.<br>\n",
    "Under MySQL Connections, click Local Instance<br>\n",
    "Click the Schemas tab<br>\n",
    "**You should now see a new (empty) database that you created**<br>\n",
    "If it does not show up right away, hit refresh (The circular arrows)"
   ]
  },
  {
   "cell_type": "code",
   "execution_count": null,
   "id": "fa462c01",
   "metadata": {},
   "outputs": [],
   "source": [
    "#Read in the CLEAN .csv file we will use to populate our database. This is the same dataset\n",
    "#that you cleaned for Assignment #2.\n",
    "#A subset of 2014-2023 Sea turtle sightings with Cape May Whale Watch and Research Center\n",
    "df <- read.csv(\"YourCLEANdata.csv\")"
   ]
  },
  {
   "cell_type": "code",
   "execution_count": null,
   "id": "6e5c2bfd",
   "metadata": {},
   "outputs": [],
   "source": [
    "#Preview the dataframe. \n",
    "head(df)"
   ]
  },
  {
   "cell_type": "code",
   "execution_count": null,
   "id": "5962409e",
   "metadata": {},
   "outputs": [],
   "source": [
    "#After previewing the dataframe, complete any extra data cleaning steps that may be needed.\n",
    "#Read the date column as DATE, Read the time column as TIME, etc.\n",
    "\n",
    "\n",
    "\n",
    "\n",
    "#Double check the new date and time format in a quick preview.\n",
    "head(df)"
   ]
  },
  {
   "cell_type": "code",
   "execution_count": null,
   "id": "3b6707e8",
   "metadata": {},
   "outputs": [],
   "source": [
    "#What are all of the column names for our dataset? It is important to know the column names\n",
    "#from the .csv because these are the field names we will want to use for our first table.\n",
    "#Remember, the field names represent the column names of the csv/table.\n",
    "colnames(df)"
   ]
  },
  {
   "cell_type": "markdown",
   "id": "8b8c28f7",
   "metadata": {},
   "source": [
    "We can use a new SQL statement CREATE TABLE to create our first table in our new database.<br>\n",
    "Everyone's data is different! Choose the SQL data types that fit YOUR data needs!<br>\n",
    "SQL Data Types: https://www.w3schools.com/sql/sql_datatypes.asp"
   ]
  },
  {
   "cell_type": "code",
   "execution_count": null,
   "id": "02f4c8fb",
   "metadata": {},
   "outputs": [],
   "source": [
    "#Create our first table in the database file using SQL statements:\n",
    "#We want our table column names to match what is in the .csv file\n",
    "#Every table will be different depending on your dataset.\n",
    "first_table_query <- \"CREATE TABLE table_name (\n",
    "                   \n",
    "\n",
    "\n",
    "\n",
    "\n",
    "\n",
    "\n",
    "                                              );\"\n",
    "#Execute the query:\n",
    "dbExecute(con, first_table_query)"
   ]
  },
  {
   "cell_type": "markdown",
   "id": "34989822",
   "metadata": {},
   "source": [
    "Define and list your SQL data types for your first table: <br><br>\n",
    "**My SQL data types for my first table, table_name:**<br>\n",
    "\n",
    "X\n",
    "\n",
    "\n",
    "\n",
    "\n",
    "\n",
    "\n"
   ]
  },
  {
   "cell_type": "markdown",
   "id": "ab076bf7",
   "metadata": {},
   "source": [
    "Why did you choose these values to make up your first database table? What did you choose for your primary key and why?"
   ]
  },
  {
   "cell_type": "code",
   "execution_count": null,
   "id": "00f573bc",
   "metadata": {},
   "outputs": [],
   "source": [
    "#There are multiple ways to populate the fields of the table. \n",
    "#Another option is to add a subset of the data into data table, and then populate the database table.\n",
    "#Please feel free to change or alter the code below.\n",
    "\n",
    "#This is our table name we created\n",
    "table_name <- \"species\"\n",
    "\n",
    "#Write a query that will show the column names from the table we created\n",
    "query <- paste(\"SHOW COLUMNS FROM\", table_name)\n",
    "\n",
    "#Get the query and retrieve the column/field names from the database(con)\n",
    "db_columns <- dbGetQuery(con, query)$Field\n",
    "\n",
    "#Define the common columns between the CSV data (Column names) and the database (Table fields)\n",
    "common_columns <- intersect(colnames(df), db_columns)"
   ]
  },
  {
   "cell_type": "code",
   "execution_count": null,
   "id": "b05af856",
   "metadata": {},
   "outputs": [],
   "source": [
    "#These are the ONLY columns that we will transfer into the table.\n",
    "common_columns"
   ]
  },
  {
   "cell_type": "code",
   "execution_count": null,
   "id": "538f4e58",
   "metadata": {},
   "outputs": [],
   "source": [
    "#Create a subset of the original .csv data turtles with only the specified column names.\n",
    "df_subset <- df[, common_columns]"
   ]
  },
  {
   "cell_type": "code",
   "execution_count": null,
   "id": "69d3b8e7",
   "metadata": {},
   "outputs": [],
   "source": [
    "#Write the (table) subset of data to the species table in the database class_example\n",
    "#Append = TRUE because we WANT to populate the table!\n",
    "#Since we have already specified the field names, we do not need to redefine them = FALSE\n",
    "dbWriteTable(con, \"table_name\", df_subset, append = TRUE, row.names = FALSE)"
   ]
  },
  {
   "cell_type": "markdown",
   "id": "d994f650",
   "metadata": {},
   "source": [
    "Another option in creating tables could be to first create the table in R. We could select for certain columns and format them as.data.table() and then populate them into the SQL tables."
   ]
  },
  {
   "cell_type": "markdown",
   "id": "1e7196cf",
   "metadata": {},
   "source": [
    "**STOP**<br><br>\n",
    "In MySQL Workbench, you should see your new table that you have created and populated.<br>\n",
    "You can run an SQL query directly in MySQL Workbench!<br>\n",
    "You can also run a query below:"
   ]
  },
  {
   "cell_type": "code",
   "execution_count": null,
   "id": "814246c4",
   "metadata": {},
   "outputs": [],
   "source": [
    "#Now that we have populated our table, let's try out a query.\n",
    "\n",
    "#Write a query specific to your database:"
   ]
  },
  {
   "cell_type": "code",
   "execution_count": null,
   "id": "cf1d4705",
   "metadata": {},
   "outputs": [],
   "source": [
    "#Write a second query specific to your database:"
   ]
  },
  {
   "cell_type": "markdown",
   "id": "5664d9cc",
   "metadata": {},
   "source": [
    "**STOP**<br>\n",
    "To create a new schema diagram for your new database (Even though it only has one table...it's good practice!)<br>\n",
    "Open MySQL Workbench again<br>\n",
    "Click Home<br>\n",
    "Click the Models icon<br>\n",
    "Click the > icon to the right of \"Models\"<br>\n",
    "Choose “Create EER Model from Database” <br>\n",
    "The Reverse Engineer Database Wizard starts and will walk you through your first database schema diagram.<br>\n",
    "Save your model. <br>\n",
    "You can now add relationships and or modify tables...but for this assignment, all we need is that first table. <br>\n",
    "\n",
    "**Add a screen shot of your first schema diagram (The table) to your repository/Blackboard subission.**"
   ]
  },
  {
   "cell_type": "code",
   "execution_count": null,
   "id": "113cfbc9",
   "metadata": {},
   "outputs": [],
   "source": [
    "#Close the database connection :)\n",
    "dbDisconnect(con)"
   ]
  },
  {
   "cell_type": "markdown",
   "id": "66802d57",
   "metadata": {},
   "source": [
    "Now what if we wanted to explore the number of each species observed within each separate body of water together? We'll begin JOINing tables in our next assignment."
   ]
  },
  {
   "cell_type": "markdown",
   "id": "53688240",
   "metadata": {},
   "source": [
    "### Creating our database from scratch locally and explore with MySQL in R."
   ]
  },
  {
   "cell_type": "markdown",
   "id": "e55eccd7",
   "metadata": {},
   "source": [
    "### Creating a database from scratch in R using library(RSQLite)<br>\n",
    "\n",
    "https://cran.r-project.org/web/packages/RSQLite/index.html"
   ]
  },
  {
   "cell_type": "code",
   "execution_count": null,
   "id": "be5cad12",
   "metadata": {},
   "outputs": [],
   "source": [
    "#BEFORE YOU BEGIN!\n",
    "#Is your MySQL Server running on your local machine?\n",
    "#Doesn't matter this time, please continue! :)"
   ]
  },
  {
   "cell_type": "code",
   "execution_count": null,
   "id": "2bac4d02",
   "metadata": {},
   "outputs": [],
   "source": [
    "library(DBI)\n",
    "library(RSQLite)"
   ]
  },
  {
   "cell_type": "code",
   "execution_count": null,
   "id": "fbad2c8c",
   "metadata": {},
   "outputs": [],
   "source": [
    "#The only database connection parameters we need here are the name of the database we\n",
    "#will create and our first table within the database.\n",
    "db_path <- \"second_database_name.db\"\n",
    "table_name <- \"second_tablename\""
   ]
  },
  {
   "cell_type": "code",
   "execution_count": null,
   "id": "27136015",
   "metadata": {},
   "outputs": [],
   "source": [
    "#Connect to the SQLite database \n",
    "#With RSQLite, it will create the database FILE if it does not exist.\n",
    "con <- dbConnect(RSQLite::SQLite(), dbname = db_path)"
   ]
  },
  {
   "cell_type": "markdown",
   "id": "1ebd104b",
   "metadata": {},
   "source": [
    "**STOP HERE**<br>\n",
    "Before moving on, it is **important** to understand the difference of what we have just completed. Using RSQLite, we have created a database LOCALLY. Notice we did not specify a user, host, or password! We can find this database as a file on our machine. The .db file is created in the same location or working directory you are currently in. If you did not specify a working directory, the .db file is created where this .ipynb is located. "
   ]
  },
  {
   "cell_type": "code",
   "execution_count": null,
   "id": "cf2ada0b",
   "metadata": {},
   "outputs": [],
   "source": [
    "#We have the option to start from scratch and read in the .csv file again as a new dataframe or continue with the same dataframe from above.\n",
    "\n",
    "head(df)"
   ]
  },
  {
   "cell_type": "code",
   "execution_count": null,
   "id": "fca3eb7f",
   "metadata": {},
   "outputs": [],
   "source": [
    "# Get the column names present in both CSV and database table\n",
    "\n",
    "\n",
    "\n",
    "# Subset the CSV data to include only the common columns\n",
    "\n",
    "\n"
   ]
  },
  {
   "cell_type": "code",
   "execution_count": null,
   "id": "62f0f1e3",
   "metadata": {},
   "outputs": [],
   "source": [
    "#Worked\n",
    "head(df)"
   ]
  },
  {
   "cell_type": "code",
   "execution_count": null,
   "id": "de6588f0",
   "metadata": {},
   "outputs": [],
   "source": [
    "#Creating the same table in our new local database class_example2:\n",
    "taketwo_first_table <- dbExecute(con, paste(\"CREATE TABLE IF NOT EXISTS table_name2\", \n",
    "                                            \n",
    "                                            \n",
    "                                            \n",
    "                                            \n",
    "                                            \n",
    "                     ;\"))"
   ]
  },
  {
   "cell_type": "code",
   "execution_count": null,
   "id": "da3efc53",
   "metadata": {},
   "outputs": [],
   "source": [
    "#Populate the table:\n",
    "dbWriteTable(con, )"
   ]
  },
  {
   "cell_type": "markdown",
   "id": "d6806e92",
   "metadata": {},
   "source": [
    "Write a first query for our local database:"
   ]
  },
  {
   "cell_type": "code",
   "execution_count": null,
   "id": "ef05604b",
   "metadata": {},
   "outputs": [],
   "source": [
    "#Let's test it:\n",
    "qu <- dbSendQuery(con, \"\n",
    "\n",
    "\n",
    "\n",
    "                            \")\n",
    "                    \n",
    "dbFetch(qu)"
   ]
  },
  {
   "cell_type": "markdown",
   "id": "c823cd1d",
   "metadata": {},
   "source": [
    "We have successfully queried from our database that we created locally using R library RSQLite."
   ]
  },
  {
   "cell_type": "markdown",
   "id": "27724513",
   "metadata": {},
   "source": [
    "Write a second query for our local database:"
   ]
  },
  {
   "cell_type": "code",
   "execution_count": null,
   "id": "0f747b73",
   "metadata": {},
   "outputs": [],
   "source": [
    "\n",
    "\n",
    "\n",
    "\n",
    "\n",
    "\n",
    "\n",
    "\n"
   ]
  },
  {
   "cell_type": "markdown",
   "id": "0f5f0b0f",
   "metadata": {},
   "source": [
    "Write a third query for our local database:"
   ]
  },
  {
   "cell_type": "code",
   "execution_count": null,
   "id": "856597fb",
   "metadata": {},
   "outputs": [],
   "source": [
    "\n",
    "\n",
    "\n",
    "\n",
    "\n",
    "\n"
   ]
  },
  {
   "cell_type": "code",
   "execution_count": null,
   "id": "625b22e9",
   "metadata": {},
   "outputs": [],
   "source": [
    "#Close the database connection :)\n",
    "dbDisconnect(con)"
   ]
  }
 ],
 "metadata": {
  "kernelspec": {
   "display_name": "Python 3 (ipykernel)",
   "language": "python",
   "name": "python3"
  },
  "language_info": {
   "codemirror_mode": {
    "name": "ipython",
    "version": 3
   },
   "file_extension": ".py",
   "mimetype": "text/x-python",
   "name": "python",
   "nbconvert_exporter": "python",
   "pygments_lexer": "ipython3",
   "version": "3.11.5"
  }
 },
 "nbformat": 4,
 "nbformat_minor": 5
}
